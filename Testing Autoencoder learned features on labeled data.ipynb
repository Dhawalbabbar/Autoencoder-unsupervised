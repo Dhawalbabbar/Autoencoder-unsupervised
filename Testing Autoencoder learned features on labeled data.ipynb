{
 "cells": [
  {
   "cell_type": "code",
   "execution_count": 1,
   "metadata": {},
   "outputs": [
    {
     "name": "stderr",
     "output_type": "stream",
     "text": [
      "Using TensorFlow backend.\n"
     ]
    }
   ],
   "source": [
    "%load_ext autotime\n",
    "import pandas as pd\n",
    "import numpy as np\n",
    "from sklearn.model_selection import train_test_split\n",
    "from keras.layers import Input, Dense, Conv1D\n",
    "from keras.models import Model\n",
    "from keras.datasets import mnist\n",
    "import matplotlib.pyplot as plt"
   ]
  },
  {
   "cell_type": "code",
   "execution_count": 2,
   "metadata": {},
   "outputs": [
    {
     "name": "stdout",
     "output_type": "stream",
     "text": [
      "time: 185 ms\n"
     ]
    }
   ],
   "source": [
    "temp=pd.read_csv('trimmedData.csv')"
   ]
  },
  {
   "cell_type": "code",
   "execution_count": 3,
   "metadata": {},
   "outputs": [
    {
     "name": "stdout",
     "output_type": "stream",
     "text": [
      "time: 1.02 ms\n"
     ]
    }
   ],
   "source": [
    "X=temp['X']\n",
    "X=X.values.reshape(-1,1)\n",
    "Y=temp['Y']"
   ]
  },
  {
   "cell_type": "code",
   "execution_count": 4,
   "metadata": {},
   "outputs": [
    {
     "name": "stdout",
     "output_type": "stream",
     "text": [
      "time: 6.98 ms\n"
     ]
    }
   ],
   "source": [
    "gtemp=temp.groupby('Y')\n",
    "#initializing y\n"
   ]
  },
  {
   "cell_type": "code",
   "execution_count": 5,
   "metadata": {},
   "outputs": [
    {
     "name": "stdout",
     "output_type": "stream",
     "text": [
      "time: 48.9 ms\n"
     ]
    }
   ],
   "source": [
    "#dividing all on the basis of their label\n",
    "#get_group(1) reutrns the group with y label 1\n",
    "g1=gtemp.get_group(1) \n",
    "g2=gtemp.get_group(2)\n",
    "g32=gtemp.get_group(32)\n",
    "g37=gtemp.get_group(37)\n",
    "g38=gtemp.get_group(38)"
   ]
  },
  {
   "cell_type": "code",
   "execution_count": 6,
   "metadata": {},
   "outputs": [
    {
     "name": "stdout",
     "output_type": "stream",
     "text": [
      "time: 17 ms\n"
     ]
    }
   ],
   "source": [
    "#n_features =1 (amplitude)\n",
    "y=[]\n",
    "n_features=1\n",
    "#initialise total data point to 0\n",
    "totaldp=0\n",
    "#window size =250 ==1 sec\n",
    "window=250\n",
    "\n",
    "#get amplitude values from X\n",
    "X=g1['X']\n",
    "#number of data points = number of rows in X / window\n",
    "data_points=X.shape[0]//window\n",
    "#appending y \n",
    "y=np.append(y,[1]*data_points)\n",
    "#updating total datapoints\n",
    "totaldp+=data_points\n",
    "#removing left points\n",
    "X=X.head(data_points*window)\n",
    "#converting to array\n",
    "X=np.array(X)\n",
    "#reshaping it to data_points,window,n_features(n,250,1)\n",
    "X=np.reshape(X,((data_points,window,n_features)))\n",
    "#grouped X is the new amplitude chunk\n",
    "groupedX=X\n",
    "\n",
    "#same procedure for label 2\n",
    "X=g2['X']\n",
    "data_points=X.shape[0]//window\n",
    "y=np.append(y,[2]*data_points)\n",
    "totaldp+=data_points\n",
    "X=X.head(data_points*window)\n",
    "X=np.array(X)\n",
    "X=np.reshape(X,((data_points,window,n_features)))\n",
    "groupedX=np.append(groupedX,X)\n",
    "\n",
    "#same procedure for label 32\n",
    "X=g32['X']\n",
    "data_points=X.shape[0]//window\n",
    "y=np.append(y,[32]*data_points)\n",
    "totaldp+=data_points\n",
    "X=X.head(data_points*window)\n",
    "X=np.array(X)\n",
    "X=np.reshape(X,((data_points,window,n_features)))\n",
    "groupedX=np.append(groupedX,X)\n",
    "\n",
    "\n",
    "X=g37['X']\n",
    "data_points=X.shape[0]//window\n",
    "y=np.append(y,[37]*data_points)\n",
    "totaldp+=data_points\n",
    "X=X.head(data_points*window)\n",
    "X=np.array(X)\n",
    "X=np.reshape(X,((data_points,window,n_features)))\n",
    "groupedX=np.append(groupedX,X)\n",
    "\n",
    "\n",
    "X=g38['X']\n",
    "data_points=X.shape[0]//window\n",
    "y=np.append(y,[38]*data_points)\n",
    "totaldp+=data_points\n",
    "X=X.head(data_points*window)\n",
    "X=np.array(X)\n",
    "X=np.reshape(X,((data_points,window,n_features)))\n",
    "groupedX=np.append(groupedX,X)\n",
    "\n",
    "\n",
    "groupedX=np.reshape(groupedX,((totaldp,window)))"
   ]
  },
  {
   "cell_type": "code",
   "execution_count": 7,
   "metadata": {},
   "outputs": [
    {
     "name": "stdout",
     "output_type": "stream",
     "text": [
      "time: 8.98 ms\n"
     ]
    }
   ],
   "source": [
    "np.mean(groupedX[2000])\n",
    "me=np.mean(groupedX,axis=1)\n",
    "groupedX=(groupedX.T-me).T\n",
    "np.mean(groupedX[2000])\n",
    "x=groupedX"
   ]
  },
  {
   "cell_type": "code",
   "execution_count": 8,
   "metadata": {},
   "outputs": [
    {
     "name": "stdout",
     "output_type": "stream",
     "text": [
      "WARNING:tensorflow:From C:\\Users\\Babbar\\Anaconda3\\envs\\tf-gpu\\lib\\site-packages\\tensorflow\\python\\framework\\op_def_library.py:263: colocate_with (from tensorflow.python.framework.ops) is deprecated and will be removed in a future version.\n",
      "Instructions for updating:\n",
      "Colocations handled automatically by placer.\n",
      "time: 188 ms\n"
     ]
    }
   ],
   "source": [
    "encoding_dim = 10\n",
    " \n",
    "# this is our input placeholder\n",
    "input_img = Input(shape=(250,))\n",
    "# \"encoded\" is the encoded representation of the input\n",
    "encoded0=Dense(125,activation='linear')(input_img)\n",
    "encoded1=Dense(60,activation='linear')(encoded0)\n",
    "encoded = Dense(encoding_dim, activation='linear')(encoded1)\n",
    "# \"decoded\" is the lossy reconstruction of the input\n",
    "decoded0=Dense(60,activation='linear')(encoded)\n",
    "decoded1=Dense(125,activation='linear')(decoded0)\n",
    "decoded = Dense(250, activation='linear')(decoded1)\n",
    "# this model maps an input to its reconstruction\n",
    "autoencoder = Model(input_img, decoded)\n",
    "# this model maps an input to its encoded representation\n",
    "encoder = Model(input_img, encoded)\n",
    "# create a placeholder for an encoded (10-dimensional) input\n",
    "encoded_input = Input(shape=(encoding_dim,))\n",
    "# retrieve the last layer of the autoencoder model\n",
    "decoder_layer = autoencoder.layers[-3]\n",
    "# create the decoder model\n",
    "decoder_layer1 = autoencoder.layers[-1]\n",
    "decoder_layer2 = autoencoder.layers[-2]\n",
    "encoded_input1 = Input(shape=(125,))\n",
    "encoded_input2 = Input(shape=(60,))\n",
    "decoder1 = Model(encoded_input1, decoder_layer1(encoded_input1))\n",
    "decoder2 = Model(encoded_input2, decoder_layer2(encoded_input2))\n",
    "decoder = Model(encoded_input, decoder_layer(encoded_input))\n",
    "autoencoder.compile(optimizer='adam', loss='mse')#binary_crossentropy"
   ]
  },
  {
   "cell_type": "code",
   "execution_count": 9,
   "metadata": {},
   "outputs": [
    {
     "name": "stdout",
     "output_type": "stream",
     "text": [
      "WARNING:tensorflow:From C:\\Users\\Babbar\\Anaconda3\\envs\\tf-gpu\\lib\\site-packages\\tensorflow\\python\\ops\\math_ops.py:3066: to_int32 (from tensorflow.python.ops.math_ops) is deprecated and will be removed in a future version.\n",
      "Instructions for updating:\n",
      "Use tf.cast instead.\n",
      "Epoch 1/12\n",
      "2628/2628 [==============================] - 1s 239us/step - loss: 95762.5710\n",
      "Epoch 2/12\n",
      "2628/2628 [==============================] - 0s 123us/step - loss: 104393.7652\n",
      "Epoch 3/12\n",
      "2628/2628 [==============================] - 0s 120us/step - loss: 307268.3981\n",
      "Epoch 4/12\n",
      "2628/2628 [==============================] - 0s 121us/step - loss: 437656.6604\n",
      "Epoch 5/12\n",
      "2628/2628 [==============================] - 0s 121us/step - loss: 1198858.8646\n",
      "Epoch 6/12\n",
      "2628/2628 [==============================] - 0s 121us/step - loss: 1210209.8295\n",
      "Epoch 7/12\n",
      "2628/2628 [==============================] - 0s 123us/step - loss: 1219963.0637\n",
      "Epoch 8/12\n",
      "2628/2628 [==============================] - 0s 141us/step - loss: 187831.3827\n",
      "Epoch 9/12\n",
      "2628/2628 [==============================] - 0s 124us/step - loss: 112482.6400\n",
      "Epoch 10/12\n",
      "2628/2628 [==============================] - 0s 122us/step - loss: 87712.9301\n",
      "Epoch 11/12\n",
      "2628/2628 [==============================] - 0s 121us/step - loss: 77070.5381\n",
      "Epoch 12/12\n",
      "2628/2628 [==============================] - 0s 120us/step - loss: 73056.0349\n"
     ]
    },
    {
     "data": {
      "text/plain": [
       "<keras.callbacks.History at 0x213575a25c0>"
      ]
     },
     "execution_count": 9,
     "metadata": {},
     "output_type": "execute_result"
    },
    {
     "name": "stdout",
     "output_type": "stream",
     "text": [
      "time: 4.71 s\n"
     ]
    }
   ],
   "source": [
    "autoencoder.fit(x,x,\n",
    "epochs=12,\n",
    "batch_size=10)"
   ]
  },
  {
   "cell_type": "code",
   "execution_count": 10,
   "metadata": {},
   "outputs": [
    {
     "name": "stdout",
     "output_type": "stream",
     "text": [
      "time: 170 ms\n"
     ]
    }
   ],
   "source": [
    "encoded_layer=encoder.predict(x)\n",
    "decoded_output1=decoder.predict(encoded_layer)\n",
    "decoded_output2=decoder2.predict(decoded_output1)\n",
    "# create the decoder model\n",
    "decoded_output2=decoder1.predict(decoded_output2)\n"
   ]
  },
  {
   "cell_type": "code",
   "execution_count": 11,
   "metadata": {},
   "outputs": [
    {
     "data": {
      "text/plain": [
       "array([-828.7106 ,  250.04837,  452.23245,   90.13972,  633.70166,\n",
       "        -71.05313,  244.03838, -291.60413,  128.37813,  261.49655],\n",
       "      dtype=float32)"
      ]
     },
     "execution_count": 11,
     "metadata": {},
     "output_type": "execute_result"
    },
    {
     "name": "stdout",
     "output_type": "stream",
     "text": [
      "time: 2 ms\n"
     ]
    }
   ],
   "source": [
    "encoded_layer[0]"
   ]
  },
  {
   "cell_type": "code",
   "execution_count": 12,
   "metadata": {},
   "outputs": [
    {
     "name": "stdout",
     "output_type": "stream",
     "text": [
      "(250,)\n",
      "(250,)\n",
      "time: 8.98 ms\n"
     ]
    }
   ],
   "source": [
    "print(x[0].shape)\n",
    "print(decoded_output2[0].shape)"
   ]
  },
  {
   "cell_type": "code",
   "execution_count": 28,
   "metadata": {},
   "outputs": [
    {
     "data": {
      "text/plain": [
       "[<matplotlib.lines.Line2D at 0x2135bf08c88>]"
      ]
     },
     "execution_count": 28,
     "metadata": {},
     "output_type": "execute_result"
    },
    {
     "data": {
      "image/png": "[encoded data removed]",
      "text/plain": [
       "<Figure size 432x288 with 1 Axes>"
      ]
     },
     "metadata": {
      "needs_background": "light"
     },
     "output_type": "display_data"
    },
    {
     "name": "stdout",
     "output_type": "stream",
     "text": [
      "time: 181 ms\n"
     ]
    }
   ],
   "source": [
    "import matplotlib.pyplot as plt\n",
    "%matplotlib inline\n",
    "q=500\n",
    "plt.plot(range(250),x[q],label=1)\n",
    "plt.plot(range(250),decoded_output2[q],label=2)"
   ]
  },
  {
   "cell_type": "code",
   "execution_count": 14,
   "metadata": {},
   "outputs": [
    {
     "data": {
      "text/plain": [
       "(2628, 10)"
      ]
     },
     "execution_count": 14,
     "metadata": {},
     "output_type": "execute_result"
    },
    {
     "name": "stdout",
     "output_type": "stream",
     "text": [
      "time: 2.97 ms\n"
     ]
    }
   ],
   "source": [
    "encoded_layer.shape"
   ]
  },
  {
   "cell_type": "code",
   "execution_count": 15,
   "metadata": {},
   "outputs": [
    {
     "data": {
      "text/plain": [
       "(2628,)"
      ]
     },
     "execution_count": 15,
     "metadata": {},
     "output_type": "execute_result"
    },
    {
     "name": "stdout",
     "output_type": "stream",
     "text": [
      "time: 6.98 ms\n"
     ]
    }
   ],
   "source": [
    "y.shape"
   ]
  },
  {
   "cell_type": "markdown",
   "metadata": {},
   "source": [
    "print(me[0])\n",
    "groupedX=np.reshape(groupedX,((totaldp,window,1)))\n",
    "X=groupedX\n",
    "#max value of colomn (axis specifis row or colomn)\n",
    "a=np.max(X,axis=1)\n",
    "#concatinate with minimum, second axis is for concatinate into colomn\n",
    "a=np.concatenate((a,np.min(X,axis=1)),axis=1)\n",
    "a=np.concatenate((a,np.average(X,axis=1)),axis=1)\n",
    "#standard deviation\n",
    "a=np.concatenate((a,np.std(X,axis=1)),axis=1)\n",
    "#fft real part\n",
    "a=np.concatenate((a,np.real(np.fft.rfftn(X,axes=(0,1)))[:,0]),axis=1)\n",
    "X=a\n",
    "X.shape"
   ]
  },
  {
   "cell_type": "code",
   "execution_count": 16,
   "metadata": {},
   "outputs": [
    {
     "name": "stdout",
     "output_type": "stream",
     "text": [
      "(868, 10)\n",
      "time: 8.98 ms\n"
     ]
    }
   ],
   "source": [
    "#me=me.reshape(2628,1)\n",
    "#print(encoded_layer.shape)\n",
    "#print(me.shape)\n",
    "#encoded_layer=np.concatenate((encoded_layer,me),axis=1)\n",
    "#XX=me\n",
    "X_train, X_test, y_train, y_test = train_test_split(encoded_layer, y, test_size=0.33)\n",
    "print(X_test.shape)"
   ]
  },
  {
   "cell_type": "code",
   "execution_count": null,
   "metadata": {},
   "outputs": [],
   "source": []
  },
  {
   "cell_type": "code",
   "execution_count": 17,
   "metadata": {},
   "outputs": [
    {
     "name": "stdout",
     "output_type": "stream",
     "text": [
      "time: 5.98 ms\n"
     ]
    }
   ],
   "source": [
    "from sklearn.metrics import confusion_matrix \n",
    "from sklearn.metrics import accuracy_score \n",
    "from sklearn.metrics import classification_report"
   ]
  },
  {
   "cell_type": "code",
   "execution_count": 41,
   "metadata": {},
   "outputs": [
    {
     "name": "stdout",
     "output_type": "stream",
     "text": [
      "0.47556818181818183\n",
      "time: 5.98 ms\n"
     ]
    }
   ],
   "source": [
    "from sklearn.tree import DecisionTreeClassifier\n",
    "clf = DecisionTreeClassifier(max_depth=1).fit(X_train, y_train)\n",
    "print(clf.score(X_train,y_train))\n",
    "y_pre=clf.predict(X_test)"
   ]
  },
  {
   "cell_type": "code",
   "execution_count": 42,
   "metadata": {},
   "outputs": [
    {
     "name": "stdout",
     "output_type": "stream",
     "text": [
      "Confusion Matrix :\n",
      "[[423   0   0   0   0]\n",
      " [ 81   0   0   0   0]\n",
      " [  3   0   0   0   0]\n",
      " [256   0   0   0   0]\n",
      " [105   0   0   0   0]]\n",
      "Accuracy Score : 0.4873271889400922\n",
      "              precision    recall  f1-score   support\n",
      "\n",
      "         1.0       0.49      1.00      0.66       423\n",
      "         2.0       0.00      0.00      0.00        81\n",
      "        32.0       0.00      0.00      0.00         3\n",
      "        37.0       0.00      0.00      0.00       256\n",
      "        38.0       0.00      0.00      0.00       105\n",
      "\n",
      "    accuracy                           0.49       868\n",
      "   macro avg       0.10      0.20      0.13       868\n",
      "weighted avg       0.24      0.49      0.32       868\n",
      "\n",
      "time: 9.95 ms\n"
     ]
    },
    {
     "name": "stderr",
     "output_type": "stream",
     "text": [
      "C:\\Users\\Babbar\\Anaconda3\\envs\\tf-gpu\\lib\\site-packages\\sklearn\\metrics\\classification.py:1437: UndefinedMetricWarning: Precision and F-score are ill-defined and being set to 0.0 in labels with no predicted samples.\n",
      "  'precision', 'predicted', average, warn_for)\n"
     ]
    }
   ],
   "source": [
    "actual=y_test\n",
    "predicted=y_pre\n",
    "results = confusion_matrix(actual, predicted) \n",
    "print ('Confusion Matrix :')\n",
    "print(results) \n",
    "print ('Accuracy Score :',accuracy_score(actual, predicted) )\n",
    "#print ('Report : ')\n",
    "print (classification_report(actual, predicted) )"
   ]
  },
  {
   "cell_type": "code",
   "execution_count": 25,
   "metadata": {},
   "outputs": [
    {
     "name": "stdout",
     "output_type": "stream",
     "text": [
      "time: 64.9 ms\n"
     ]
    }
   ],
   "source": [
    "from sklearn.ensemble import RandomForestClassifier\n",
    "clf=RandomForestClassifier(n_estimators=10)\n",
    "clf.fit(X_train,y_train)\n",
    "clf.score(X_test,y_test)\n",
    "y_pre=clf.predict(X_test)"
   ]
  },
  {
   "cell_type": "code",
   "execution_count": 26,
   "metadata": {},
   "outputs": [
    {
     "name": "stdout",
     "output_type": "stream",
     "text": [
      "Confusion Matrix :\n",
      "[[318  12   0  81  12]\n",
      " [ 64   2   0  10   5]\n",
      " [  1   0   0   2   0]\n",
      " [169  14   0  65   8]\n",
      " [ 68   8   0  23   6]]\n",
      "Accuracy Score : 0.4504608294930876\n",
      "              precision    recall  f1-score   support\n",
      "\n",
      "         1.0       0.51      0.75      0.61       423\n",
      "         2.0       0.06      0.02      0.03        81\n",
      "        32.0       0.00      0.00      0.00         3\n",
      "        37.0       0.36      0.25      0.30       256\n",
      "        38.0       0.19      0.06      0.09       105\n",
      "\n",
      "    accuracy                           0.45       868\n",
      "   macro avg       0.22      0.22      0.21       868\n",
      "weighted avg       0.38      0.45      0.40       868\n",
      "\n",
      "time: 11 ms\n"
     ]
    },
    {
     "name": "stderr",
     "output_type": "stream",
     "text": [
      "C:\\Users\\Babbar\\Anaconda3\\envs\\tf-gpu\\lib\\site-packages\\sklearn\\metrics\\classification.py:1437: UndefinedMetricWarning: Precision and F-score are ill-defined and being set to 0.0 in labels with no predicted samples.\n",
      "  'precision', 'predicted', average, warn_for)\n"
     ]
    }
   ],
   "source": [
    "actual=y_test\n",
    "predicted=y_pre\n",
    "results = confusion_matrix(actual, predicted) \n",
    "print ('Confusion Matrix :')\n",
    "print(results) \n",
    "print ('Accuracy Score :',accuracy_score(actual, predicted) )\n",
    "#print ('Report : ')\n",
    "print (classification_report(actual, predicted) )"
   ]
  },
  {
   "cell_type": "code",
   "execution_count": null,
   "metadata": {},
   "outputs": [],
   "source": []
  },
  {
   "cell_type": "code",
   "execution_count": null,
   "metadata": {},
   "outputs": [],
   "source": []
  }
 ],
 "metadata": {
  "kernelspec": {
   "display_name": "Python 3",
   "language": "python",
   "name": "python3"
  },
  "language_info": {
   "codemirror_mode": {
    "name": "ipython",
    "version": 3
   },
   "file_extension": ".py",
   "mimetype": "text/x-python",
   "name": "python",
   "nbconvert_exporter": "python",
   "pygments_lexer": "ipython3",
   "version": "3.6.8"
  }
 },
 "nbformat": 4,
 "nbformat_minor": 2
}
