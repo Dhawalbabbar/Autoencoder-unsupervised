{
 "cells": [
  {
   "cell_type": "code",
   "execution_count": 1,
   "metadata": {},
   "outputs": [
    {
     "ename": "ModuleNotFoundError",
     "evalue": "No module named 'sklearn'",
     "output_type": "error",
     "traceback": [
      "\u001b[1;31m---------------------------------------------------------------------------\u001b[0m",
      "\u001b[1;31mModuleNotFoundError\u001b[0m                       Traceback (most recent call last)",
      "\u001b[1;32m<ipython-input-1-ef8752a6bb47>\u001b[0m in \u001b[0;36m<module>\u001b[1;34m\u001b[0m\n\u001b[0;32m      1\u001b[0m \u001b[1;32mimport\u001b[0m \u001b[0mpandas\u001b[0m \u001b[1;32mas\u001b[0m \u001b[0mpd\u001b[0m\u001b[1;33m\u001b[0m\u001b[1;33m\u001b[0m\u001b[0m\n\u001b[0;32m      2\u001b[0m \u001b[1;32mimport\u001b[0m \u001b[0mnumpy\u001b[0m \u001b[1;32mas\u001b[0m \u001b[0mnp\u001b[0m\u001b[1;33m\u001b[0m\u001b[1;33m\u001b[0m\u001b[0m\n\u001b[1;32m----> 3\u001b[1;33m \u001b[1;32mfrom\u001b[0m \u001b[0msklearn\u001b[0m\u001b[1;33m.\u001b[0m\u001b[0mmodel_selection\u001b[0m \u001b[1;32mimport\u001b[0m \u001b[0mtrain_test_split\u001b[0m\u001b[1;33m\u001b[0m\u001b[1;33m\u001b[0m\u001b[0m\n\u001b[0m",
      "\u001b[1;31mModuleNotFoundError\u001b[0m: No module named 'sklearn'"
     ]
    }
   ],
   "source": [
    "import pandas as pd\n",
    "import numpy as np\n",
    "from sklearn.model_selection import train_test_split"
   ]
  },
  {
   "cell_type": "code",
   "execution_count": 2,
   "metadata": {},
   "outputs": [],
   "source": [
    "temp=pd.read_csv('trimmedData.csv')"
   ]
  },
  {
   "cell_type": "code",
   "execution_count": 3,
   "metadata": {},
   "outputs": [],
   "source": [
    "X=temp['X']\n",
    "X=X.values.reshape(-1,1)\n",
    "Y=temp['Y']"
   ]
  },
  {
   "cell_type": "code",
   "execution_count": 4,
   "metadata": {},
   "outputs": [],
   "source": [
    "gtemp=temp.groupby('Y')\n",
    "#initializing y\n",
    "y=[]"
   ]
  },
  {
   "cell_type": "code",
   "execution_count": 5,
   "metadata": {},
   "outputs": [],
   "source": [
    "#dividing all on the basis of their label\n",
    "#get_group(1) reutrns the group with y label 1\n",
    "g1=gtemp.get_group(1) \n",
    "g2=gtemp.get_group(2)\n",
    "g32=gtemp.get_group(32)\n",
    "g37=gtemp.get_group(37)\n",
    "g38=gtemp.get_group(38)"
   ]
  },
  {
   "cell_type": "code",
   "execution_count": 15,
   "metadata": {},
   "outputs": [],
   "source": [
    "#n_features =1 (amplitude)\n",
    "n_features=1\n",
    "#initialise total data point to 0\n",
    "totaldp=0\n",
    "#window size =250 ==1 sec\n",
    "window=250\n",
    "\n",
    "#get amplitude values from X\n",
    "X=g1['X']\n",
    "#number of data points = number of rows in X / window\n",
    "data_points=X.shape[0]//window\n",
    "#appending y \n",
    "y=np.append(y,[1]*data_points)\n",
    "#updating total datapoints\n",
    "totaldp+=data_points\n",
    "#removing left points\n",
    "X=X.head(data_points*window)\n",
    "#converting to array\n",
    "X=np.array(X)\n",
    "#reshaping it to data_points,window,n_features(n,250,1)\n",
    "X=np.reshape(X,((data_points,window,n_features)))\n",
    "#grouped X is the new amplitude chunk\n",
    "groupedX=X\n",
    "\n",
    "#same procedure for label 2\n",
    "X=g2['X']\n",
    "data_points=X.shape[0]//window\n",
    "y=np.append(y,[2]*data_points)\n",
    "totaldp+=data_points\n",
    "X=X.head(data_points*window)\n",
    "X=np.array(X)\n",
    "X=np.reshape(X,((data_points,window,n_features)))\n",
    "groupedX=np.append(groupedX,X)\n",
    "\n",
    "#same procedure for label 32\n",
    "X=g32['X']\n",
    "data_points=X.shape[0]//window\n",
    "y=np.append(y,[32]*data_points)\n",
    "totaldp+=data_points\n",
    "X=X.head(data_points*window)\n",
    "X=np.array(X)\n",
    "X=np.reshape(X,((data_points,window,n_features)))\n",
    "groupedX=np.append(groupedX,X)\n",
    "\n",
    "\n",
    "X=g37['X']\n",
    "data_points=X.shape[0]//window\n",
    "y=np.append(y,[37]*data_points)\n",
    "totaldp+=data_points\n",
    "X=X.head(data_points*window)\n",
    "X=np.array(X)\n",
    "X=np.reshape(X,((data_points,window,n_features)))\n",
    "groupedX=np.append(groupedX,X)\n",
    "\n",
    "\n",
    "X=g38['X']\n",
    "data_points=X.shape[0]//window\n",
    "y=np.append(y,[38]*data_points)\n",
    "totaldp+=data_points\n",
    "X=X.head(data_points*window)\n",
    "X=np.array(X)\n",
    "X=np.reshape(X,((data_points,window,n_features)))\n",
    "groupedX=np.append(groupedX,X)\n",
    "\n",
    "\n",
    "groupedX=np.reshape(groupedX,((totaldp,window)))"
   ]
  },
  {
   "cell_type": "code",
   "execution_count": 20,
   "metadata": {},
   "outputs": [
    {
     "data": {
      "text/plain": [
       "-4.092726157978177e-15"
      ]
     },
     "execution_count": 20,
     "metadata": {},
     "output_type": "execute_result"
    }
   ],
   "source": [
    "np.mean(groupedX[2000])\n",
    "me=np.mean(groupedX,axis=1)\n",
    "groupedX=(groupedX.T-me).T\n",
    "np.mean(groupedX[2000])"
   ]
  },
  {
   "cell_type": "code",
   "execution_count": null,
   "metadata": {},
   "outputs": [],
   "source": []
  }
 ],
 "metadata": {
  "kernelspec": {
   "display_name": "TensorFlow-GPU",
   "language": "python",
   "name": "tf-gpu"
  },
  "language_info": {
   "codemirror_mode": {
    "name": "ipython",
    "version": 3
   },
   "file_extension": ".py",
   "mimetype": "text/x-python",
   "name": "python",
   "nbconvert_exporter": "python",
   "pygments_lexer": "ipython3",
   "version": "3.6.8"
  }
 },
 "nbformat": 4,
 "nbformat_minor": 2
}
