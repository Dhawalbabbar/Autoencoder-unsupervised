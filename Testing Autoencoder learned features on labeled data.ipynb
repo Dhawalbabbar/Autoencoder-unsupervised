{
 "cells": [
  {
   "cell_type": "code",
   "execution_count": 162,
   "metadata": {},
   "outputs": [
    {
     "name": "stdout",
     "output_type": "stream",
     "text": [
      "The autotime extension is already loaded. To reload it, use:\n",
      "  %reload_ext autotime\n",
      "time: 999 µs\n"
     ]
    }
   ],
   "source": [
    "%load_ext autotime\n",
    "import pandas as pd\n",
    "import numpy as np\n",
    "from sklearn.model_selection import train_test_split\n",
    "from keras.layers import Input, Dense, Conv1D\n",
    "from keras.models import Model\n",
    "from keras.datasets import mnist\n",
    "import matplotlib.pyplot as plt"
   ]
  },
  {
   "cell_type": "code",
   "execution_count": 163,
   "metadata": {},
   "outputs": [
    {
     "name": "stdout",
     "output_type": "stream",
     "text": [
      "time: 739 ms\n"
     ]
    }
   ],
   "source": [
    "temp=pd.read_csv('trimmedData.csv')"
   ]
  },
  {
   "cell_type": "code",
   "execution_count": 164,
   "metadata": {},
   "outputs": [
    {
     "name": "stdout",
     "output_type": "stream",
     "text": [
      "time: 999 µs\n"
     ]
    }
   ],
   "source": [
    "X=temp['X']\n",
    "X=X.values.reshape(-1,1)\n",
    "Y=temp['Y']"
   ]
  },
  {
   "cell_type": "code",
   "execution_count": 165,
   "metadata": {},
   "outputs": [
    {
     "name": "stdout",
     "output_type": "stream",
     "text": [
      "time: 1e+03 µs\n"
     ]
    }
   ],
   "source": [
    "gtemp=temp.groupby('Y')\n",
    "#initializing y\n"
   ]
  },
  {
   "cell_type": "code",
   "execution_count": 166,
   "metadata": {},
   "outputs": [
    {
     "name": "stdout",
     "output_type": "stream",
     "text": [
      "time: 51 ms\n"
     ]
    }
   ],
   "source": [
    "#dividing all on the basis of their label\n",
    "#get_group(1) reutrns the group with y label 1\n",
    "g1=gtemp.get_group(1) \n",
    "g2=gtemp.get_group(2)\n",
    "g32=gtemp.get_group(32)\n",
    "g37=gtemp.get_group(37)\n",
    "g38=gtemp.get_group(38)"
   ]
  },
  {
   "cell_type": "code",
   "execution_count": 167,
   "metadata": {},
   "outputs": [
    {
     "name": "stdout",
     "output_type": "stream",
     "text": [
      "time: 17 ms\n"
     ]
    }
   ],
   "source": [
    "#n_features =1 (amplitude)\n",
    "y=[]\n",
    "n_features=1\n",
    "#initialise total data point to 0\n",
    "totaldp=0\n",
    "#window size =250 ==1 sec\n",
    "window=250\n",
    "\n",
    "#get amplitude values from X\n",
    "X=g1['X']\n",
    "#number of data points = number of rows in X / window\n",
    "data_points=X.shape[0]//window\n",
    "#appending y \n",
    "y=np.append(y,[1]*data_points)\n",
    "#updating total datapoints\n",
    "totaldp+=data_points\n",
    "#removing left points\n",
    "X=X.head(data_points*window)\n",
    "#converting to array\n",
    "X=np.array(X)\n",
    "#reshaping it to data_points,window,n_features(n,250,1)\n",
    "X=np.reshape(X,((data_points,window,n_features)))\n",
    "#grouped X is the new amplitude chunk\n",
    "groupedX=X\n",
    "\n",
    "#same procedure for label 2\n",
    "X=g2['X']\n",
    "data_points=X.shape[0]//window\n",
    "y=np.append(y,[2]*data_points)\n",
    "totaldp+=data_points\n",
    "X=X.head(data_points*window)\n",
    "X=np.array(X)\n",
    "X=np.reshape(X,((data_points,window,n_features)))\n",
    "groupedX=np.append(groupedX,X)\n",
    "\n",
    "#same procedure for label 32\n",
    "X=g32['X']\n",
    "data_points=X.shape[0]//window\n",
    "y=np.append(y,[32]*data_points)\n",
    "totaldp+=data_points\n",
    "X=X.head(data_points*window)\n",
    "X=np.array(X)\n",
    "X=np.reshape(X,((data_points,window,n_features)))\n",
    "groupedX=np.append(groupedX,X)\n",
    "\n",
    "\n",
    "X=g37['X']\n",
    "data_points=X.shape[0]//window\n",
    "y=np.append(y,[37]*data_points)\n",
    "totaldp+=data_points\n",
    "X=X.head(data_points*window)\n",
    "X=np.array(X)\n",
    "X=np.reshape(X,((data_points,window,n_features)))\n",
    "groupedX=np.append(groupedX,X)\n",
    "\n",
    "\n",
    "X=g38['X']\n",
    "data_points=X.shape[0]//window\n",
    "y=np.append(y,[38]*data_points)\n",
    "totaldp+=data_points\n",
    "X=X.head(data_points*window)\n",
    "X=np.array(X)\n",
    "X=np.reshape(X,((data_points,window,n_features)))\n",
    "groupedX=np.append(groupedX,X)\n",
    "\n",
    "\n",
    "groupedX=np.reshape(groupedX,((totaldp,window)))"
   ]
  },
  {
   "cell_type": "code",
   "execution_count": 168,
   "metadata": {},
   "outputs": [
    {
     "name": "stdout",
     "output_type": "stream",
     "text": [
      "time: 5 ms\n"
     ]
    }
   ],
   "source": [
    "np.mean(groupedX[2000])\n",
    "me=np.mean(groupedX,axis=1)\n",
    "groupedX=(groupedX.T-me).T\n",
    "np.mean(groupedX[2000])\n",
    "x=groupedX"
   ]
  },
  {
   "cell_type": "code",
   "execution_count": 86,
   "metadata": {},
   "outputs": [
    {
     "name": "stdout",
     "output_type": "stream",
     "text": [
      "time: 67 ms\n"
     ]
    }
   ],
   "source": [
    "encoding_dim = 20\n",
    " \n",
    "# this is our input placeholder\n",
    "input_img = Input(shape=(250,))\n",
    "# \"encoded\" is the encoded representation of the input\n",
    "encoded0=Dense(125,activation='linear')(input_img)\n",
    "encoded1=Dense(60,activation='linear')(encoded0)\n",
    "encoded = Dense(encoding_dim, activation='linear')(encoded1)\n",
    "# \"decoded\" is the lossy reconstruction of the input\n",
    "decoded0=Dense(60,activation='linear')(encoded)\n",
    "decoded1=Dense(125,activation='linear')(decoded0)\n",
    "decoded = Dense(250, activation='linear')(decoded1)\n",
    "# this model maps an input to its reconstruction\n",
    "autoencoder = Model(input_img, decoded)\n",
    "# this model maps an input to its encoded representation\n",
    "encoder = Model(input_img, encoded)\n",
    "# create a placeholder for an encoded (10-dimensional) input\n",
    "encoded_input = Input(shape=(encoding_dim,))\n",
    "# retrieve the last layer of the autoencoder model\n",
    "decoder_layer = autoencoder.layers[-3]\n",
    "# create the decoder model\n",
    "decoder_layer1 = autoencoder.layers[-1]\n",
    "decoder_layer2 = autoencoder.layers[-2]\n",
    "encoded_input1 = Input(shape=(125,))\n",
    "encoded_input2 = Input(shape=(60,))\n",
    "decoder1 = Model(encoded_input1, decoder_layer1(encoded_input1))\n",
    "decoder2 = Model(encoded_input2, decoder_layer2(encoded_input2))\n",
    "decoder = Model(encoded_input, decoder_layer(encoded_input))\n",
    "autoencoder.compile(optimizer='adam', loss='mse')#binary_crossentropy"
   ]
  },
  {
   "cell_type": "code",
   "execution_count": 108,
   "metadata": {},
   "outputs": [
    {
     "name": "stdout",
     "output_type": "stream",
     "text": [
      "Epoch 1/50\n",
      "2628/2628 [==============================] - 1s 217us/step - loss: 95318.5974\n",
      "Epoch 2/50\n",
      "2628/2628 [==============================] - 0s 99us/step - loss: 79309.3373\n",
      "Epoch 3/50\n",
      "2628/2628 [==============================] - 0s 96us/step - loss: 170984.6326\n",
      "Epoch 4/50\n",
      "2628/2628 [==============================] - 0s 97us/step - loss: 231321.8999\n",
      "Epoch 5/50\n",
      "2628/2628 [==============================] - 0s 95us/step - loss: 3175978.1527\n",
      "Epoch 6/50\n",
      "2628/2628 [==============================] - 0s 91us/step - loss: 503161.4238\n",
      "Epoch 7/50\n",
      "2628/2628 [==============================] - 0s 95us/step - loss: 674992.7744\n",
      "Epoch 8/50\n",
      "2628/2628 [==============================] - 0s 90us/step - loss: 420716.2100\n",
      "Epoch 9/50\n",
      "2628/2628 [==============================] - 0s 98us/step - loss: 173146.4427\n",
      "Epoch 10/50\n",
      "2628/2628 [==============================] - 0s 92us/step - loss: 93262.7741\n",
      "Epoch 11/50\n",
      "2628/2628 [==============================] - 0s 95us/step - loss: 70311.4260\n",
      "Epoch 12/50\n",
      "2628/2628 [==============================] - 0s 93us/step - loss: 63401.2507\n",
      "Epoch 13/50\n",
      "2628/2628 [==============================] - 0s 96us/step - loss: 59155.7702\n",
      "Epoch 14/50\n",
      "2628/2628 [==============================] - 0s 97us/step - loss: 55471.4611\n",
      "Epoch 15/50\n",
      "2628/2628 [==============================] - 0s 94us/step - loss: 53127.7310\n",
      "Epoch 16/50\n",
      "2628/2628 [==============================] - 0s 99us/step - loss: 50763.7642\n",
      "Epoch 17/50\n",
      "2628/2628 [==============================] - 0s 98us/step - loss: 48650.2423\n",
      "Epoch 18/50\n",
      "2628/2628 [==============================] - 0s 97us/step - loss: 46882.1212\n",
      "Epoch 19/50\n",
      "2628/2628 [==============================] - 0s 95us/step - loss: 45337.8148\n",
      "Epoch 20/50\n",
      "2628/2628 [==============================] - 0s 97us/step - loss: 44683.9606\n",
      "Epoch 21/50\n",
      "2628/2628 [==============================] - 0s 101us/step - loss: 53053.7917\n",
      "Epoch 22/50\n",
      "2628/2628 [==============================] - 0s 97us/step - loss: 80793.4041\n",
      "Epoch 23/50\n",
      "2628/2628 [==============================] - 0s 99us/step - loss: 66059.1115\n",
      "Epoch 24/50\n",
      "2628/2628 [==============================] - 0s 97us/step - loss: 70924.3485\n",
      "Epoch 25/50\n",
      "2628/2628 [==============================] - 0s 93us/step - loss: 67822.1115\n",
      "Epoch 26/50\n",
      "2628/2628 [==============================] - 0s 89us/step - loss: 67593.9908\n",
      "Epoch 27/50\n",
      "2628/2628 [==============================] - 0s 98us/step - loss: 71987.3318\n",
      "Epoch 28/50\n",
      "2628/2628 [==============================] - 0s 96us/step - loss: 76841.6169\n",
      "Epoch 29/50\n",
      "2628/2628 [==============================] - 0s 94us/step - loss: 76088.2388\n",
      "Epoch 30/50\n",
      "2628/2628 [==============================] - 0s 94us/step - loss: 97986.0146\n",
      "Epoch 31/50\n",
      "2628/2628 [==============================] - 0s 91us/step - loss: 89672.4520\n",
      "Epoch 32/50\n",
      "2628/2628 [==============================] - 0s 93us/step - loss: 102766.8637\n",
      "Epoch 33/50\n",
      "2628/2628 [==============================] - 0s 94us/step - loss: 120508.3637\n",
      "Epoch 34/50\n",
      "2628/2628 [==============================] - 0s 92us/step - loss: 144819.2536\n",
      "Epoch 35/50\n",
      "2628/2628 [==============================] - 0s 88us/step - loss: 123499.7274\n",
      "Epoch 36/50\n",
      "2628/2628 [==============================] - 0s 91us/step - loss: 86353.2114\n",
      "Epoch 37/50\n",
      "2628/2628 [==============================] - 0s 89us/step - loss: 162022.8315\n",
      "Epoch 38/50\n",
      "2628/2628 [==============================] - 0s 88us/step - loss: 87929.8480\n",
      "Epoch 39/50\n",
      "2628/2628 [==============================] - 0s 91us/step - loss: 95398.9197\n",
      "Epoch 40/50\n",
      "2628/2628 [==============================] - 0s 90us/step - loss: 116830.1839\n",
      "Epoch 41/50\n",
      "2628/2628 [==============================] - 0s 90us/step - loss: 75718.7686\n",
      "Epoch 42/50\n",
      "2628/2628 [==============================] - 0s 90us/step - loss: 71091.1312\n",
      "Epoch 43/50\n",
      "2628/2628 [==============================] - 0s 87us/step - loss: 57921.5892\n",
      "Epoch 44/50\n",
      "2628/2628 [==============================] - 0s 89us/step - loss: 56698.3302\n",
      "Epoch 45/50\n",
      "2628/2628 [==============================] - 0s 91us/step - loss: 72446.1448\n",
      "Epoch 46/50\n",
      "2628/2628 [==============================] - 0s 91us/step - loss: 115229.7129\n",
      "Epoch 47/50\n",
      "2628/2628 [==============================] - 0s 91us/step - loss: 105064.3685\n",
      "Epoch 48/50\n",
      "2628/2628 [==============================] - 0s 94us/step - loss: 92278.8127\n",
      "Epoch 49/50\n",
      "2628/2628 [==============================] - 0s 91us/step - loss: 82566.3276\n",
      "Epoch 50/50\n",
      "2628/2628 [==============================] - 0s 90us/step - loss: 80910.1880\n"
     ]
    },
    {
     "data": {
      "text/plain": [
       "<keras.callbacks.History at 0x232a963f390>"
      ]
     },
     "execution_count": 108,
     "metadata": {},
     "output_type": "execute_result"
    },
    {
     "name": "stdout",
     "output_type": "stream",
     "text": [
      "time: 12.9 s\n"
     ]
    }
   ],
   "source": [
    "autoencoder.fit(x,x,\n",
    "epochs=50,\n",
    "batch_size=10)"
   ]
  },
  {
   "cell_type": "code",
   "execution_count": 109,
   "metadata": {},
   "outputs": [
    {
     "name": "stdout",
     "output_type": "stream",
     "text": [
      "time: 326 ms\n"
     ]
    }
   ],
   "source": [
    "encoded_layer=encoder.predict(x)\n",
    "decoded_output1=decoder.predict(encoded_layer)\n",
    "decoded_output2=decoder2.predict(decoded_output1)\n",
    "# create the decoder model\n",
    "decoded_output2=decoder1.predict(decoded_output2)\n"
   ]
  },
  {
   "cell_type": "code",
   "execution_count": 110,
   "metadata": {},
   "outputs": [
    {
     "data": {
      "text/plain": [
       "array([ -201.13594 ,  -448.96243 , -1320.8092  , -1475.579   ,\n",
       "         619.8535  ,  1083.8254  ,   200.15804 ,   888.00354 ,\n",
       "         249.1533  ,   686.55743 ,  -412.19226 ,  -571.05566 ,\n",
       "         -43.532238,  2121.16    ,  -450.08148 ,  -472.45395 ,\n",
       "        -535.2889  ,   934.7815  ,  -177.44304 ,   606.2001  ],\n",
       "      dtype=float32)"
      ]
     },
     "execution_count": 110,
     "metadata": {},
     "output_type": "execute_result"
    },
    {
     "name": "stdout",
     "output_type": "stream",
     "text": [
      "time: 999 µs\n"
     ]
    }
   ],
   "source": [
    "encoded_layer[0]"
   ]
  },
  {
   "cell_type": "code",
   "execution_count": 111,
   "metadata": {},
   "outputs": [
    {
     "name": "stdout",
     "output_type": "stream",
     "text": [
      "(250,)\n",
      "(250,)\n",
      "Error in callback <function LineWatcher.stop at 0x00000232988C8620> (for post_run_cell):\n"
     ]
    },
    {
     "ename": "AssertionError",
     "evalue": "",
     "output_type": "error",
     "traceback": [
      "\u001b[1;31m---------------------------------------------------------------------------\u001b[0m",
      "\u001b[1;31mAssertionError\u001b[0m                            Traceback (most recent call last)",
      "\u001b[1;32m~\\Anaconda3\\lib\\site-packages\\backcall\\backcall.py\u001b[0m in \u001b[0;36madapted\u001b[1;34m(*args, **kwargs)\u001b[0m\n\u001b[0;32m    102\u001b[0m                 \u001b[0mkwargs\u001b[0m\u001b[1;33m.\u001b[0m\u001b[0mpop\u001b[0m\u001b[1;33m(\u001b[0m\u001b[0mname\u001b[0m\u001b[1;33m)\u001b[0m\u001b[1;33m\u001b[0m\u001b[1;33m\u001b[0m\u001b[0m\n\u001b[0;32m    103\u001b[0m \u001b[1;31m#            print(args, kwargs, unmatched_pos, cut_positional, unmatched_kw)\u001b[0m\u001b[1;33m\u001b[0m\u001b[1;33m\u001b[0m\u001b[1;33m\u001b[0m\u001b[0m\n\u001b[1;32m--> 104\u001b[1;33m             \u001b[1;32mreturn\u001b[0m \u001b[0mcallback\u001b[0m\u001b[1;33m(\u001b[0m\u001b[1;33m*\u001b[0m\u001b[0margs\u001b[0m\u001b[1;33m,\u001b[0m \u001b[1;33m**\u001b[0m\u001b[0mkwargs\u001b[0m\u001b[1;33m)\u001b[0m\u001b[1;33m\u001b[0m\u001b[1;33m\u001b[0m\u001b[0m\n\u001b[0m\u001b[0;32m    105\u001b[0m \u001b[1;33m\u001b[0m\u001b[0m\n\u001b[0;32m    106\u001b[0m         \u001b[1;32mreturn\u001b[0m \u001b[0madapted\u001b[0m\u001b[1;33m\u001b[0m\u001b[1;33m\u001b[0m\u001b[0m\n",
      "\u001b[1;32m~\\Anaconda3\\lib\\site-packages\\autotime.py\u001b[0m in \u001b[0;36mstop\u001b[1;34m(self)\u001b[0m\n\u001b[0;32m     23\u001b[0m         \u001b[1;32mif\u001b[0m \u001b[0mself\u001b[0m\u001b[1;33m.\u001b[0m\u001b[0mstart_time\u001b[0m\u001b[1;33m:\u001b[0m\u001b[1;33m\u001b[0m\u001b[1;33m\u001b[0m\u001b[0m\n\u001b[0;32m     24\u001b[0m             \u001b[0mdiff\u001b[0m \u001b[1;33m=\u001b[0m \u001b[0mtime\u001b[0m\u001b[1;33m.\u001b[0m\u001b[0mtime\u001b[0m\u001b[1;33m(\u001b[0m\u001b[1;33m)\u001b[0m \u001b[1;33m-\u001b[0m \u001b[0mself\u001b[0m\u001b[1;33m.\u001b[0m\u001b[0mstart_time\u001b[0m\u001b[1;33m\u001b[0m\u001b[1;33m\u001b[0m\u001b[0m\n\u001b[1;32m---> 25\u001b[1;33m             \u001b[1;32massert\u001b[0m \u001b[0mdiff\u001b[0m \u001b[1;33m>\u001b[0m \u001b[1;36m0\u001b[0m\u001b[1;33m\u001b[0m\u001b[1;33m\u001b[0m\u001b[0m\n\u001b[0m\u001b[0;32m     26\u001b[0m             \u001b[0mprint\u001b[0m\u001b[1;33m(\u001b[0m\u001b[1;34m'time: %s'\u001b[0m \u001b[1;33m%\u001b[0m \u001b[0mformat_delta\u001b[0m\u001b[1;33m(\u001b[0m\u001b[0mdiff\u001b[0m\u001b[1;33m)\u001b[0m\u001b[1;33m)\u001b[0m\u001b[1;33m\u001b[0m\u001b[1;33m\u001b[0m\u001b[0m\n\u001b[0;32m     27\u001b[0m \u001b[1;33m\u001b[0m\u001b[0m\n",
      "\u001b[1;31mAssertionError\u001b[0m: "
     ]
    }
   ],
   "source": [
    "print(x[0].shape)\n",
    "print(decoded_output2[0].shape)"
   ]
  },
  {
   "cell_type": "code",
   "execution_count": 112,
   "metadata": {},
   "outputs": [
    {
     "data": {
      "text/plain": [
       "[<matplotlib.lines.Line2D at 0x232ac118cf8>]"
      ]
     },
     "execution_count": 112,
     "metadata": {},
     "output_type": "execute_result"
    },
    {
     "data": {
      "image/png": "[encoded data removed]",
      "text/plain": [
       "<Figure size 432x288 with 1 Axes>"
      ]
     },
     "metadata": {
      "needs_background": "light"
     },
     "output_type": "display_data"
    },
    {
     "name": "stdout",
     "output_type": "stream",
     "text": [
      "time: 93 ms\n"
     ]
    }
   ],
   "source": [
    "import matplotlib.pyplot as plt\n",
    "%matplotlib inline\n",
    "q=306\n",
    "plt.plot(range(250),x[q],label=1)\n",
    "plt.plot(range(250),decoded_output2[q],label=2)"
   ]
  },
  {
   "cell_type": "code",
   "execution_count": 113,
   "metadata": {},
   "outputs": [
    {
     "data": {
      "text/plain": [
       "(2628, 20)"
      ]
     },
     "execution_count": 113,
     "metadata": {},
     "output_type": "execute_result"
    },
    {
     "name": "stdout",
     "output_type": "stream",
     "text": [
      "time: 999 µs\n"
     ]
    }
   ],
   "source": [
    "encoded_layer.shape"
   ]
  },
  {
   "cell_type": "code",
   "execution_count": 114,
   "metadata": {},
   "outputs": [
    {
     "data": {
      "text/plain": [
       "(2628,)"
      ]
     },
     "execution_count": 114,
     "metadata": {},
     "output_type": "execute_result"
    },
    {
     "name": "stdout",
     "output_type": "stream",
     "text": [
      "time: 1e+03 µs\n"
     ]
    }
   ],
   "source": [
    "y.shape"
   ]
  },
  {
   "cell_type": "code",
   "execution_count": 126,
   "metadata": {},
   "outputs": [
    {
     "name": "stdout",
     "output_type": "stream",
     "text": [
      "-36801.04088\n"
     ]
    },
    {
     "data": {
      "text/plain": [
       "(2628, 5)"
      ]
     },
     "execution_count": 126,
     "metadata": {},
     "output_type": "execute_result"
    },
    {
     "name": "stdout",
     "output_type": "stream",
     "text": [
      "time: 32 ms\n"
     ]
    }
   ],
   "source": [
    "print(me[0])\n",
    "groupedX=np.reshape(groupedX,((totaldp,window,1)))\n",
    "X=groupedX\n",
    "#max value of colomn (axis specifis row or colomn)\n",
    "a=np.max(X,axis=1)\n",
    "#concatinate with minimum, second axis is for concatinate into colomn\n",
    "a=np.concatenate((a,np.min(X,axis=1)),axis=1)\n",
    "a=np.concatenate((a,np.average(X,axis=1)),axis=1)\n",
    "#standard deviation\n",
    "a=np.concatenate((a,np.std(X,axis=1)),axis=1)\n",
    "#fft real part\n",
    "a=np.concatenate((a,np.real(np.fft.rfftn(X,axes=(0,1)))[:,0]),axis=1)\n",
    "X=a\n",
    "X.shape"
   ]
  },
  {
   "cell_type": "code",
   "execution_count": 169,
   "metadata": {},
   "outputs": [
    {
     "name": "stdout",
     "output_type": "stream",
     "text": [
      "(2628, 21)\n",
      "(2628, 1)\n",
      "(868, 1)\n",
      "time: 1e+03 µs\n"
     ]
    }
   ],
   "source": [
    "me=me.reshape(2628,1)\n",
    "print(encoded_layer.shape)\n",
    "print(me.shape)\n",
    "encoded_layer=np.concatenate((encoded_layer,me),axis=1)\n",
    "XX=me\n",
    "X_train, X_test, y_train, y_test = train_test_split(XX, y, test_size=0.33)\n",
    "print(X_test.shape)"
   ]
  },
  {
   "cell_type": "code",
   "execution_count": 170,
   "metadata": {},
   "outputs": [
    {
     "name": "stdout",
     "output_type": "stream",
     "text": [
      "Error in callback <function LineWatcher.stop at 0x00000232988C8620> (for post_run_cell):\n"
     ]
    },
    {
     "ename": "AssertionError",
     "evalue": "",
     "output_type": "error",
     "traceback": [
      "\u001b[1;31m---------------------------------------------------------------------------\u001b[0m",
      "\u001b[1;31mAssertionError\u001b[0m                            Traceback (most recent call last)",
      "\u001b[1;32m~\\Anaconda3\\lib\\site-packages\\backcall\\backcall.py\u001b[0m in \u001b[0;36madapted\u001b[1;34m(*args, **kwargs)\u001b[0m\n\u001b[0;32m    102\u001b[0m                 \u001b[0mkwargs\u001b[0m\u001b[1;33m.\u001b[0m\u001b[0mpop\u001b[0m\u001b[1;33m(\u001b[0m\u001b[0mname\u001b[0m\u001b[1;33m)\u001b[0m\u001b[1;33m\u001b[0m\u001b[1;33m\u001b[0m\u001b[0m\n\u001b[0;32m    103\u001b[0m \u001b[1;31m#            print(args, kwargs, unmatched_pos, cut_positional, unmatched_kw)\u001b[0m\u001b[1;33m\u001b[0m\u001b[1;33m\u001b[0m\u001b[1;33m\u001b[0m\u001b[0m\n\u001b[1;32m--> 104\u001b[1;33m             \u001b[1;32mreturn\u001b[0m \u001b[0mcallback\u001b[0m\u001b[1;33m(\u001b[0m\u001b[1;33m*\u001b[0m\u001b[0margs\u001b[0m\u001b[1;33m,\u001b[0m \u001b[1;33m**\u001b[0m\u001b[0mkwargs\u001b[0m\u001b[1;33m)\u001b[0m\u001b[1;33m\u001b[0m\u001b[1;33m\u001b[0m\u001b[0m\n\u001b[0m\u001b[0;32m    105\u001b[0m \u001b[1;33m\u001b[0m\u001b[0m\n\u001b[0;32m    106\u001b[0m         \u001b[1;32mreturn\u001b[0m \u001b[0madapted\u001b[0m\u001b[1;33m\u001b[0m\u001b[1;33m\u001b[0m\u001b[0m\n",
      "\u001b[1;32m~\\Anaconda3\\lib\\site-packages\\autotime.py\u001b[0m in \u001b[0;36mstop\u001b[1;34m(self)\u001b[0m\n\u001b[0;32m     23\u001b[0m         \u001b[1;32mif\u001b[0m \u001b[0mself\u001b[0m\u001b[1;33m.\u001b[0m\u001b[0mstart_time\u001b[0m\u001b[1;33m:\u001b[0m\u001b[1;33m\u001b[0m\u001b[1;33m\u001b[0m\u001b[0m\n\u001b[0;32m     24\u001b[0m             \u001b[0mdiff\u001b[0m \u001b[1;33m=\u001b[0m \u001b[0mtime\u001b[0m\u001b[1;33m.\u001b[0m\u001b[0mtime\u001b[0m\u001b[1;33m(\u001b[0m\u001b[1;33m)\u001b[0m \u001b[1;33m-\u001b[0m \u001b[0mself\u001b[0m\u001b[1;33m.\u001b[0m\u001b[0mstart_time\u001b[0m\u001b[1;33m\u001b[0m\u001b[1;33m\u001b[0m\u001b[0m\n\u001b[1;32m---> 25\u001b[1;33m             \u001b[1;32massert\u001b[0m \u001b[0mdiff\u001b[0m \u001b[1;33m>\u001b[0m \u001b[1;36m0\u001b[0m\u001b[1;33m\u001b[0m\u001b[1;33m\u001b[0m\u001b[0m\n\u001b[0m\u001b[0;32m     26\u001b[0m             \u001b[0mprint\u001b[0m\u001b[1;33m(\u001b[0m\u001b[1;34m'time: %s'\u001b[0m \u001b[1;33m%\u001b[0m \u001b[0mformat_delta\u001b[0m\u001b[1;33m(\u001b[0m\u001b[0mdiff\u001b[0m\u001b[1;33m)\u001b[0m\u001b[1;33m)\u001b[0m\u001b[1;33m\u001b[0m\u001b[1;33m\u001b[0m\u001b[0m\n\u001b[0;32m     27\u001b[0m \u001b[1;33m\u001b[0m\u001b[0m\n",
      "\u001b[1;31mAssertionError\u001b[0m: "
     ]
    }
   ],
   "source": [
    "from sklearn.metrics import confusion_matrix \n",
    "from sklearn.metrics import accuracy_score \n",
    "from sklearn.metrics import classification_report"
   ]
  },
  {
   "cell_type": "code",
   "execution_count": 192,
   "metadata": {},
   "outputs": [
    {
     "name": "stdout",
     "output_type": "stream",
     "text": [
      "time: 2.99 ms\n"
     ]
    }
   ],
   "source": [
    "from sklearn.tree import DecisionTreeClassifier\n",
    "clf = DecisionTreeClassifier().fit(X_train, y_train)\n",
    "clf.score(X_test,y_test)\n",
    "y_pre=clf.predict(XX)"
   ]
  },
  {
   "cell_type": "code",
   "execution_count": 195,
   "metadata": {},
   "outputs": [
    {
     "name": "stdout",
     "output_type": "stream",
     "text": [
      "Confusion Matrix :\n",
      "[[1211   24    0   25    0]\n",
      " [  31  220    0   10    0]\n",
      " [   0    0    5    0    3]\n",
      " [  31    7    0  733   14]\n",
      " [   1    0    4   23  286]]\n",
      "Accuracy Score : 0.9341704718417048\n",
      "              precision    recall  f1-score   support\n",
      "\n",
      "         1.0       0.95      0.96      0.96      1260\n",
      "         2.0       0.88      0.84      0.86       261\n",
      "        32.0       0.56      0.62      0.59         8\n",
      "        37.0       0.93      0.93      0.93       785\n",
      "        38.0       0.94      0.91      0.93       314\n",
      "\n",
      "   micro avg       0.93      0.93      0.93      2628\n",
      "   macro avg       0.85      0.85      0.85      2628\n",
      "weighted avg       0.93      0.93      0.93      2628\n",
      "\n",
      "time: 8.01 ms\n"
     ]
    }
   ],
   "source": [
    "actual=y\n",
    "predicted=y_pre\n",
    "results = confusion_matrix(actual, predicted) \n",
    "print ('Confusion Matrix :')\n",
    "print(results) \n",
    "print ('Accuracy Score :',accuracy_score(actual, predicted) )\n",
    "#print ('Report : ')\n",
    "print (classification_report(actual, predicted) )"
   ]
  },
  {
   "cell_type": "code",
   "execution_count": 198,
   "metadata": {},
   "outputs": [
    {
     "name": "stdout",
     "output_type": "stream",
     "text": [
      "time: 20 ms\n"
     ]
    }
   ],
   "source": [
    "from sklearn.ensemble import RandomForestClassifier\n",
    "clf=RandomForestClassifier(n_estimators=10)\n",
    "clf.fit(X_train,y_train)\n",
    "clf.score(X_test,y_test)\n",
    "y_pre=clf.predict(XX)"
   ]
  },
  {
   "cell_type": "code",
   "execution_count": 199,
   "metadata": {},
   "outputs": [
    {
     "name": "stdout",
     "output_type": "stream",
     "text": [
      "Confusion Matrix :\n",
      "[[1209   25    0   26    0]\n",
      " [  36  216    0    9    0]\n",
      " [   0    0    5    0    3]\n",
      " [  53   15    0  703   14]\n",
      " [   2    0    4   31  277]]\n",
      "Accuracy Score : 0.9170471841704718\n",
      "              precision    recall  f1-score   support\n",
      "\n",
      "         1.0       0.93      0.96      0.94      1260\n",
      "         2.0       0.84      0.83      0.84       261\n",
      "        32.0       0.56      0.62      0.59         8\n",
      "        37.0       0.91      0.90      0.90       785\n",
      "        38.0       0.94      0.88      0.91       314\n",
      "\n",
      "   micro avg       0.92      0.92      0.92      2628\n",
      "   macro avg       0.84      0.84      0.84      2628\n",
      "weighted avg       0.92      0.92      0.92      2628\n",
      "\n",
      "time: 7.01 ms\n"
     ]
    }
   ],
   "source": [
    "actual=y\n",
    "predicted=y_pre\n",
    "results = confusion_matrix(actual, predicted) \n",
    "print ('Confusion Matrix :')\n",
    "print(results) \n",
    "print ('Accuracy Score :',accuracy_score(actual, predicted) )\n",
    "#print ('Report : ')\n",
    "print (classification_report(actual, predicted) )"
   ]
  },
  {
   "cell_type": "code",
   "execution_count": null,
   "metadata": {},
   "outputs": [],
   "source": []
  },
  {
   "cell_type": "code",
   "execution_count": null,
   "metadata": {},
   "outputs": [],
   "source": []
  }
 ],
 "metadata": {
  "kernelspec": {
   "display_name": "Python 3",
   "language": "python",
   "name": "python3"
  },
  "language_info": {
   "codemirror_mode": {
    "name": "ipython",
    "version": 3
   },
   "file_extension": ".py",
   "mimetype": "text/x-python",
   "name": "python",
   "nbconvert_exporter": "python",
   "pygments_lexer": "ipython3",
   "version": "3.7.3"
  }
 },
 "nbformat": 4,
 "nbformat_minor": 2
}
