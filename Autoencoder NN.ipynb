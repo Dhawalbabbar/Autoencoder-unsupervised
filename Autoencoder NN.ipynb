{
 "cells": [
  {
   "cell_type": "code",
   "execution_count": 16,
   "metadata": {},
   "outputs": [
    {
     "name": "stdout",
     "output_type": "stream",
     "text": [
      "The autotime extension is already loaded. To reload it, use:\n",
      "  %reload_ext autotime\n",
      "time: 997 µs\n"
     ]
    }
   ],
   "source": [
    "%load_ext autotime\n",
    "import numpy as np\n",
    "from keras.layers import Input, Dense, Conv1D\n",
    "from keras.models import Model\n",
    "from keras.datasets import mnist\n",
    "import matplotlib.pyplot as plt"
   ]
  },
  {
   "cell_type": "code",
   "execution_count": 25,
   "metadata": {},
   "outputs": [
    {
     "name": "stdout",
     "output_type": "stream",
     "text": [
      "39963.59\n",
      "time: 2.48 s\n"
     ]
    }
   ],
   "source": [
    "a=np.genfromtxt('data_for_clustering.csv', delimiter=',')\n",
    "a=a[:-1]\n",
    "print(a[1])\n",
    "x=a[:250*910]\n",
    "x=x[20*250:]\n",
    "x=x.reshape(-1,250)\n",
    "me=np.mean(x,axis=1)\n",
    "x=(x.T-me).T\n",
    "x.shape\n",
    "x_test=x[700:]\n",
    "x=x[:700]"
   ]
  },
  {
   "cell_type": "code",
   "execution_count": 37,
   "metadata": {},
   "outputs": [
    {
     "name": "stdout",
     "output_type": "stream",
     "text": [
      "time: 125 ms\n"
     ]
    }
   ],
   "source": [
    "encoding_dim = 10\n",
    " \n",
    "# this is our input placeholder\n",
    "input_img = Input(shape=(250,))\n",
    "# \"encoded\" is the encoded representation of the input\n",
    "encoded0=Dense(125,activation='linear')(input_img)\n",
    "encoded1=Dense(60,activation='linear')(encoded0)\n",
    "encoded = Dense(encoding_dim, activation='linear')(encoded1)\n",
    "# \"decoded\" is the lossy reconstruction of the input\n",
    "decoded0=Dense(60,activation='linear')(encoded)\n",
    "decoded1=Dense(125,activation='linear')(decoded0)\n",
    "decoded = Dense(250, activation='linear')(decoded1)\n",
    "# this model maps an input to its reconstruction\n",
    "autoencoder = Model(input_img, decoded)\n",
    "# this model maps an input to its encoded representation\n",
    "encoder = Model(input_img, encoded)\n",
    "# create a placeholder for an encoded (10-dimensional) input\n",
    "encoded_input = Input(shape=(encoding_dim,))\n",
    "# retrieve the last layer of the autoencoder model\n",
    "decoder_layer = autoencoder.layers[-3]\n",
    "# create the decoder model\n",
    "decoder_layer1 = autoencoder.layers[-1]\n",
    "decoder_layer2 = autoencoder.layers[-2]\n",
    "encoded_input1 = Input(shape=(125,))\n",
    "encoded_input2 = Input(shape=(60,))\n",
    "decoder1 = Model(encoded_input1, decoder_layer1(encoded_input1))\n",
    "decoder2 = Model(encoded_input2, decoder_layer2(encoded_input2))\n",
    "decoder = Model(encoded_input, decoder_layer(encoded_input))\n",
    "autoencoder.compile(optimizer='adam', loss='mse')#binary_crossentropy"
   ]
  },
  {
   "cell_type": "code",
   "execution_count": 38,
   "metadata": {
    "scrolled": false
   },
   "outputs": [
    {
     "name": "stdout",
     "output_type": "stream",
     "text": [
      "Epoch 1/50\n",
      "700/700 [==============================] - 1s 1ms/step - loss: 34155.4989\n",
      "Epoch 2/50\n",
      "700/700 [==============================] - 0s 366us/step - loss: 18103.1030\n",
      "Epoch 3/50\n",
      "700/700 [==============================] - 0s 362us/step - loss: 15975.1233\n",
      "Epoch 4/50\n",
      "700/700 [==============================] - 0s 365us/step - loss: 15598.0139\n",
      "Epoch 5/50\n",
      "700/700 [==============================] - 0s 368us/step - loss: 15546.7186\n",
      "Epoch 6/50\n",
      "700/700 [==============================] - 0s 362us/step - loss: 15614.3273\n",
      "Epoch 7/50\n",
      "700/700 [==============================] - 0s 362us/step - loss: 15294.2787\n",
      "Epoch 8/50\n",
      "700/700 [==============================] - 0s 355us/step - loss: 15339.7564\n",
      "Epoch 9/50\n",
      "700/700 [==============================] - 0s 362us/step - loss: 15294.6871\n",
      "Epoch 10/50\n",
      "700/700 [==============================] - 0s 352us/step - loss: 15327.5284\n",
      "Epoch 11/50\n",
      "700/700 [==============================] - 0s 353us/step - loss: 15280.5789\n",
      "Epoch 12/50\n",
      "700/700 [==============================] - 0s 369us/step - loss: 15387.8642\n",
      "Epoch 13/50\n",
      "700/700 [==============================] - 0s 365us/step - loss: 15537.2222\n",
      "Epoch 14/50\n",
      "700/700 [==============================] - 0s 359us/step - loss: 15259.6306\n",
      "Epoch 15/50\n",
      "700/700 [==============================] - 0s 358us/step - loss: 15165.1344\n",
      "Epoch 16/50\n",
      "700/700 [==============================] - 0s 356us/step - loss: 15139.9556\n",
      "Epoch 17/50\n",
      "700/700 [==============================] - 0s 352us/step - loss: 15203.5256\n",
      "Epoch 18/50\n",
      "700/700 [==============================] - 0s 359us/step - loss: 15130.7939\n",
      "Epoch 19/50\n",
      "700/700 [==============================] - 0s 348us/step - loss: 15191.5363\n",
      "Epoch 20/50\n",
      "700/700 [==============================] - 0s 362us/step - loss: 15116.6788\n",
      "Epoch 21/50\n",
      "700/700 [==============================] - 0s 358us/step - loss: 15069.3150\n",
      "Epoch 22/50\n",
      "700/700 [==============================] - 0s 365us/step - loss: 15313.9616\n",
      "Epoch 23/50\n",
      "700/700 [==============================] - 0s 348us/step - loss: 15098.4695\n",
      "Epoch 24/50\n",
      "700/700 [==============================] - 0s 356us/step - loss: 15155.4813\n",
      "Epoch 25/50\n",
      "700/700 [==============================] - 0s 355us/step - loss: 15196.9825\n",
      "Epoch 26/50\n",
      "700/700 [==============================] - 0s 363us/step - loss: 15066.3324\n",
      "Epoch 27/50\n",
      "700/700 [==============================] - 0s 353us/step - loss: 14996.9836\n",
      "Epoch 28/50\n",
      "700/700 [==============================] - 0s 369us/step - loss: 15030.1774\n",
      "Epoch 29/50\n",
      "700/700 [==============================] - 0s 356us/step - loss: 14977.4740\n",
      "Epoch 30/50\n",
      "700/700 [==============================] - 0s 370us/step - loss: 14969.9346\n",
      "Epoch 31/50\n",
      "700/700 [==============================] - 0s 356us/step - loss: 15005.3130\n",
      "Epoch 32/50\n",
      "700/700 [==============================] - 0s 356us/step - loss: 15050.2636\n",
      "Epoch 33/50\n",
      "700/700 [==============================] - 0s 350us/step - loss: 15089.4808\n",
      "Epoch 34/50\n",
      "700/700 [==============================] - 0s 360us/step - loss: 15110.8359\n",
      "Epoch 35/50\n",
      "700/700 [==============================] - 0s 350us/step - loss: 14938.1315\n",
      "Epoch 36/50\n",
      "700/700 [==============================] - 0s 360us/step - loss: 14983.8074\n",
      "Epoch 37/50\n",
      "700/700 [==============================] - 0s 358us/step - loss: 15571.7771\n",
      "Epoch 38/50\n",
      "700/700 [==============================] - 0s 356us/step - loss: 15376.3916\n",
      "Epoch 39/50\n",
      "700/700 [==============================] - 0s 350us/step - loss: 15179.8620\n",
      "Epoch 40/50\n",
      "700/700 [==============================] - 0s 369us/step - loss: 15254.4095\n",
      "Epoch 41/50\n",
      "700/700 [==============================] - 0s 363us/step - loss: 15152.7860\n",
      "Epoch 42/50\n",
      "700/700 [==============================] - 0s 369us/step - loss: 15100.6121\n",
      "Epoch 43/50\n",
      "700/700 [==============================] - 0s 358us/step - loss: 14937.4027\n",
      "Epoch 44/50\n",
      "700/700 [==============================] - 0s 369us/step - loss: 14902.5987\n",
      "Epoch 45/50\n",
      "700/700 [==============================] - 0s 370us/step - loss: 14903.7753\n",
      "Epoch 46/50\n",
      "700/700 [==============================] - 0s 368us/step - loss: 15417.1457\n",
      "Epoch 47/50\n",
      "700/700 [==============================] - 0s 370us/step - loss: 15535.9486\n",
      "Epoch 48/50\n",
      "700/700 [==============================] - 0s 366us/step - loss: 15156.1383\n",
      "Epoch 49/50\n",
      "700/700 [==============================] - 0s 370us/step - loss: 15072.9469\n",
      "Epoch 50/50\n",
      "700/700 [==============================] - 0s 362us/step - loss: 14903.5000\n"
     ]
    },
    {
     "data": {
      "text/plain": [
       "<keras.callbacks.History at 0x22a3a2c7320>"
      ]
     },
     "execution_count": 38,
     "metadata": {},
     "output_type": "execute_result"
    },
    {
     "name": "stdout",
     "output_type": "stream",
     "text": [
      "time: 13.5 s\n"
     ]
    }
   ],
   "source": [
    "autoencoder.fit(x,x,\n",
    "epochs=50,\n",
    "batch_size=10)"
   ]
  },
  {
   "cell_type": "code",
   "execution_count": 39,
   "metadata": {},
   "outputs": [
    {
     "name": "stdout",
     "output_type": "stream",
     "text": [
      "time: 406 ms\n"
     ]
    }
   ],
   "source": [
    "encoded_layer=encoder.predict(x_test)\n",
    "decoded_output1=decoder.predict(encoded_layer)\n",
    "decoded_output2=decoder2.predict(decoded_output1)\n",
    "# create the decoder model\n",
    "decoded_output2=decoder1.predict(decoded_output2)\n"
   ]
  },
  {
   "cell_type": "code",
   "execution_count": 40,
   "metadata": {},
   "outputs": [
    {
     "data": {
      "text/plain": [
       "array([-396.79172 ,  -21.431469,  -18.771603,  380.02386 ,  119.07594 ,\n",
       "        298.1998  ,  597.38605 ,   53.285686,  245.38861 ,   74.91307 ],\n",
       "      dtype=float32)"
      ]
     },
     "execution_count": 40,
     "metadata": {},
     "output_type": "execute_result"
    },
    {
     "name": "stdout",
     "output_type": "stream",
     "text": [
      "time: 1.98 ms\n"
     ]
    }
   ],
   "source": [
    "encoded_layer[0]"
   ]
  },
  {
   "cell_type": "code",
   "execution_count": 41,
   "metadata": {},
   "outputs": [
    {
     "name": "stdout",
     "output_type": "stream",
     "text": [
      "(250,)\n",
      "(250,)\n",
      "time: 7.98 ms\n"
     ]
    }
   ],
   "source": [
    "print(x[0].shape)\n",
    "print(decoded_output2[0].shape)"
   ]
  },
  {
   "cell_type": "code",
   "execution_count": 42,
   "metadata": {
    "scrolled": true
   },
   "outputs": [
    {
     "data": {
      "text/plain": [
       "[<matplotlib.lines.Line2D at 0x22a3a48d978>]"
      ]
     },
     "execution_count": 42,
     "metadata": {},
     "output_type": "execute_result"
    },
    {
     "data": {
      "image/png": "[encoded data removed]",
      "text/plain": [
       "<Figure size 432x288 with 1 Axes>"
      ]
     },
     "metadata": {
      "needs_background": "light"
     },
     "output_type": "display_data"
    },
    {
     "name": "stdout",
     "output_type": "stream",
     "text": [
      "time: 121 ms\n"
     ]
    }
   ],
   "source": [
    "import matplotlib.pyplot as plt\n",
    "%matplotlib inline\n",
    "q=4\n",
    "plt.plot(range(250),x_test[q],label=1)\n",
    "plt.plot(range(250),decoded_output2[q],label=2)"
   ]
  },
  {
   "cell_type": "code",
   "execution_count": 49,
   "metadata": {},
   "outputs": [
    {
     "name": "stdout",
     "output_type": "stream",
     "text": [
      "time: 13 ms\n"
     ]
    }
   ],
   "source": [
    "np.savetxt('compressed_data.csv',encoded_layer,delimiter=',')"
   ]
  },
  {
   "cell_type": "code",
   "execution_count": null,
   "metadata": {},
   "outputs": [],
   "source": [
    "for layer in autoencoder.layers:\n",
    "    weights = layer.get_weights()"
   ]
  },
  {
   "cell_type": "code",
   "execution_count": 11,
   "metadata": {},
   "outputs": [
    {
     "name": "stdout",
     "output_type": "stream",
     "text": [
      "time: 1e+03 µs\n"
     ]
    }
   ],
   "source": [
    "weights=np.array(weights)\n",
    "#weights[1]"
   ]
  },
  {
   "cell_type": "code",
   "execution_count": 22,
   "metadata": {},
   "outputs": [
    {
     "name": "stdout",
     "output_type": "stream",
     "text": [
      "{'name': 'input_5', 'class_name': 'InputLayer', 'config': {'batch_input_shape': (None, 250), 'dtype': 'float32', 'sparse': False, 'name': 'input_5'}, 'inbound_nodes': []}\n",
      "{'name': 'dense_7', 'class_name': 'Dense', 'config': {'name': 'dense_7', 'trainable': True, 'units': 125, 'activation': 'linear', 'use_bias': True, 'kernel_initializer': {'class_name': 'VarianceScaling', 'config': {'scale': 1.0, 'mode': 'fan_avg', 'distribution': 'uniform', 'seed': None}}, 'bias_initializer': {'class_name': 'Zeros', 'config': {}}, 'kernel_regularizer': None, 'bias_regularizer': None, 'activity_regularizer': None, 'kernel_constraint': None, 'bias_constraint': None}, 'inbound_nodes': [[['input_5', 0, 0, {}]]]}\n",
      "{'name': 'dense_8', 'class_name': 'Dense', 'config': {'name': 'dense_8', 'trainable': True, 'units': 60, 'activation': 'linear', 'use_bias': True, 'kernel_initializer': {'class_name': 'VarianceScaling', 'config': {'scale': 1.0, 'mode': 'fan_avg', 'distribution': 'uniform', 'seed': None}}, 'bias_initializer': {'class_name': 'Zeros', 'config': {}}, 'kernel_regularizer': None, 'bias_regularizer': None, 'activity_regularizer': None, 'kernel_constraint': None, 'bias_constraint': None}, 'inbound_nodes': [[['dense_7', 0, 0, {}]]]}\n",
      "{'name': 'dense_9', 'class_name': 'Dense', 'config': {'name': 'dense_9', 'trainable': True, 'units': 30, 'activation': 'linear', 'use_bias': True, 'kernel_initializer': {'class_name': 'VarianceScaling', 'config': {'scale': 1.0, 'mode': 'fan_avg', 'distribution': 'uniform', 'seed': None}}, 'bias_initializer': {'class_name': 'Zeros', 'config': {}}, 'kernel_regularizer': None, 'bias_regularizer': None, 'activity_regularizer': None, 'kernel_constraint': None, 'bias_constraint': None}, 'inbound_nodes': [[['dense_8', 0, 0, {}]]]}\n",
      "{'name': 'dense_10', 'class_name': 'Dense', 'config': {'name': 'dense_10', 'trainable': True, 'units': 60, 'activation': 'linear', 'use_bias': True, 'kernel_initializer': {'class_name': 'VarianceScaling', 'config': {'scale': 1.0, 'mode': 'fan_avg', 'distribution': 'uniform', 'seed': None}}, 'bias_initializer': {'class_name': 'Zeros', 'config': {}}, 'kernel_regularizer': None, 'bias_regularizer': None, 'activity_regularizer': None, 'kernel_constraint': None, 'bias_constraint': None}, 'inbound_nodes': [[['dense_9', 0, 0, {}]]]}\n",
      "{'name': 'dense_11', 'class_name': 'Dense', 'config': {'name': 'dense_11', 'trainable': True, 'units': 125, 'activation': 'linear', 'use_bias': True, 'kernel_initializer': {'class_name': 'VarianceScaling', 'config': {'scale': 1.0, 'mode': 'fan_avg', 'distribution': 'uniform', 'seed': None}}, 'bias_initializer': {'class_name': 'Zeros', 'config': {}}, 'kernel_regularizer': None, 'bias_regularizer': None, 'activity_regularizer': None, 'kernel_constraint': None, 'bias_constraint': None}, 'inbound_nodes': [[['dense_10', 0, 0, {}]]]}\n",
      "{'name': 'dense_12', 'class_name': 'Dense', 'config': {'name': 'dense_12', 'trainable': True, 'units': 250, 'activation': 'linear', 'use_bias': True, 'kernel_initializer': {'class_name': 'VarianceScaling', 'config': {'scale': 1.0, 'mode': 'fan_avg', 'distribution': 'uniform', 'seed': None}}, 'bias_initializer': {'class_name': 'Zeros', 'config': {}}, 'kernel_regularizer': None, 'bias_regularizer': None, 'activity_regularizer': None, 'kernel_constraint': None, 'bias_constraint': None}, 'inbound_nodes': [[['dense_11', 0, 0, {}]]]}\n",
      "time: 5.98 ms\n"
     ]
    }
   ],
   "source": [
    "config=autoencoder.get_config()\n",
    "#print(config['layers'])\n",
    "for layer in config['layers']:\n",
    "    print(layer)"
   ]
  },
  {
   "cell_type": "code",
   "execution_count": 48,
   "metadata": {},
   "outputs": [
    {
     "data": {
      "text/plain": [
       "[<matplotlib.lines.Line2D at 0x22a3ab178d0>]"
      ]
     },
     "execution_count": 48,
     "metadata": {},
     "output_type": "execute_result"
    },
    {
     "data": {
      "image/png": "[encoded data removed]",
      "text/plain": [
       "<Figure size 432x288 with 1 Axes>"
      ]
     },
     "metadata": {
      "needs_background": "light"
     },
     "output_type": "display_data"
    },
    {
     "name": "stdout",
     "output_type": "stream",
     "text": [
      "time: 115 ms\n"
     ]
    }
   ],
   "source": [
    "plt.plot(range(10),encoded_layer[0])\n",
    "plt.plot"
   ]
  },
  {
   "cell_type": "code",
   "execution_count": null,
   "metadata": {},
   "outputs": [],
   "source": []
  }
 ],
 "metadata": {
  "kernelspec": {
   "display_name": "TensorFlow-GPU",
   "language": "python",
   "name": "tf-gpu"
  },
  "language_info": {
   "codemirror_mode": {
    "name": "ipython",
    "version": 3
   },
   "file_extension": ".py",
   "mimetype": "text/x-python",
   "name": "python",
   "nbconvert_exporter": "python",
   "pygments_lexer": "ipython3",
   "version": "3.6.8"
  }
 },
 "nbformat": 4,
 "nbformat_minor": 2
}
