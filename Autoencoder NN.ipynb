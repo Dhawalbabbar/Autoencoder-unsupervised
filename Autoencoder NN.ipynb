{
 "cells": [
  {
   "cell_type": "code",
   "execution_count": 1,
   "metadata": {},
   "outputs": [
    {
     "name": "stderr",
     "output_type": "stream",
     "text": [
      "Using TensorFlow backend.\n"
     ]
    }
   ],
   "source": [
    "%load_ext autotime\n",
    "import numpy as np\n",
    "from keras.layers import Input, Dense, Conv1D\n",
    "from keras.models import Model\n",
    "from keras.datasets import mnist\n",
    "import matplotlib.pyplot as plt"
   ]
  },
  {
   "cell_type": "code",
   "execution_count": 2,
   "metadata": {},
   "outputs": [
    {
     "name": "stdout",
     "output_type": "stream",
     "text": [
      "39963.59\n"
     ]
    },
    {
     "data": {
      "text/plain": [
       "(890, 250)"
      ]
     },
     "execution_count": 2,
     "metadata": {},
     "output_type": "execute_result"
    },
    {
     "name": "stdout",
     "output_type": "stream",
     "text": [
      "time: 2.4 s\n"
     ]
    }
   ],
   "source": [
    "a=np.genfromtxt('data_for_clustering.csv', delimiter=',')\n",
    "a=a[:-1]\n",
    "print(a[1])\n",
    "x=a[:250*910]\n",
    "x=x[20*250:]\n",
    "x=x.reshape(-1,250)\n",
    "me=np.mean(x,axis=1)\n",
    "x=(x.T-me).T\n",
    "x.shape"
   ]
  },
  {
   "cell_type": "code",
   "execution_count": 13,
   "metadata": {},
   "outputs": [
    {
     "name": "stdout",
     "output_type": "stream",
     "text": [
      "time: 125 ms\n"
     ]
    }
   ],
   "source": [
    "encoding_dim = 30\n",
    " \n",
    "# this is our input placeholder\n",
    "input_img = Input(shape=(250,))\n",
    "# \"encoded\" is the encoded representation of the input\n",
    "encoded0=Dense(125,activation='linear')(input_img)\n",
    "encoded1=Dense(60,activation='linear')(encoded0)\n",
    "encoded = Dense(encoding_dim, activation='linear')(encoded1)\n",
    "# \"decoded\" is the lossy reconstruction of the input\n",
    "decoded0=Dense(60,activation='linear')(encoded)\n",
    "decoded1=Dense(125,activation='linear')(decoded0)\n",
    "decoded = Dense(250, activation='linear')(decoded1)\n",
    "# this model maps an input to its reconstruction\n",
    "autoencoder = Model(input_img, decoded)\n",
    "# this model maps an input to its encoded representation\n",
    "encoder = Model(input_img, encoded)\n",
    "# create a placeholder for an encoded (10-dimensional) input\n",
    "encoded_input = Input(shape=(encoding_dim,))\n",
    "# retrieve the last layer of the autoencoder model\n",
    "decoder_layer = autoencoder.layers[-3]\n",
    "# create the decoder model\n",
    "decoder_layer1 = autoencoder.layers[-1]\n",
    "decoder_layer2 = autoencoder.layers[-2]\n",
    "encoded_input1 = Input(shape=(125,))\n",
    "encoded_input2 = Input(shape=(60,))\n",
    "decoder1 = Model(encoded_input1, decoder_layer1(encoded_input1))\n",
    "decoder2 = Model(encoded_input2, decoder_layer2(encoded_input2))\n",
    "decoder = Model(encoded_input, decoder_layer(encoded_input))\n",
    "autoencoder.compile(optimizer='adam', loss='mse')#binary_crossentropy"
   ]
  },
  {
   "cell_type": "code",
   "execution_count": 14,
   "metadata": {
    "scrolled": false
   },
   "outputs": [
    {
     "name": "stdout",
     "output_type": "stream",
     "text": [
      "Epoch 1/50\n",
      "890/890 [==============================] - 1s 758us/step - loss: 33225.2146\n",
      "Epoch 2/50\n",
      "890/890 [==============================] - 0s 359us/step - loss: 12939.9604\n",
      "Epoch 3/50\n",
      "890/890 [==============================] - 0s 360us/step - loss: 7929.7073\n",
      "Epoch 4/50\n",
      "890/890 [==============================] - 0s 341us/step - loss: 5784.7180\n",
      "Epoch 5/50\n",
      "890/890 [==============================] - 0s 346us/step - loss: 5052.2087\n",
      "Epoch 6/50\n",
      "890/890 [==============================] - 0s 340us/step - loss: 4313.4552\n",
      "Epoch 7/50\n",
      "890/890 [==============================] - 0s 341us/step - loss: 4221.0279\n",
      "Epoch 8/50\n",
      "890/890 [==============================] - 0s 347us/step - loss: 3950.6614\n",
      "Epoch 9/50\n",
      "890/890 [==============================] - 0s 352us/step - loss: 3949.1420\n",
      "Epoch 10/50\n",
      "890/890 [==============================] - 0s 342us/step - loss: 3943.4907\n",
      "Epoch 11/50\n",
      "890/890 [==============================] - 0s 344us/step - loss: 3588.2456\n",
      "Epoch 12/50\n",
      "890/890 [==============================] - 0s 346us/step - loss: 3460.3150\n",
      "Epoch 13/50\n",
      "890/890 [==============================] - 0s 344us/step - loss: 3298.7799\n",
      "Epoch 14/50\n",
      "890/890 [==============================] - 0s 348us/step - loss: 3265.0967\n",
      "Epoch 15/50\n",
      "890/890 [==============================] - 0s 348us/step - loss: 2923.9710\n",
      "Epoch 16/50\n",
      "890/890 [==============================] - 0s 345us/step - loss: 2913.6010\n",
      "Epoch 17/50\n",
      "890/890 [==============================] - 0s 344us/step - loss: 2928.8553\n",
      "Epoch 18/50\n",
      "890/890 [==============================] - 0s 347us/step - loss: 2821.5909\n",
      "Epoch 19/50\n",
      "890/890 [==============================] - 0s 341us/step - loss: 2882.8479\n",
      "Epoch 20/50\n",
      "890/890 [==============================] - 0s 350us/step - loss: 3019.6811\n",
      "Epoch 21/50\n",
      "890/890 [==============================] - 0s 345us/step - loss: 3074.7083\n",
      "Epoch 22/50\n",
      "890/890 [==============================] - 0s 348us/step - loss: 3198.6517\n",
      "Epoch 23/50\n",
      "890/890 [==============================] - 0s 354us/step - loss: 3018.5287\n",
      "Epoch 24/50\n",
      "890/890 [==============================] - 0s 350us/step - loss: 2959.1837\n",
      "Epoch 25/50\n",
      "890/890 [==============================] - 0s 345us/step - loss: 3130.9967\n",
      "Epoch 26/50\n",
      "890/890 [==============================] - 0s 344us/step - loss: 2854.7091\n",
      "Epoch 27/50\n",
      "890/890 [==============================] - 0s 347us/step - loss: 3104.8972\n",
      "Epoch 28/50\n",
      "890/890 [==============================] - 0s 351us/step - loss: 3039.7402\n",
      "Epoch 29/50\n",
      "890/890 [==============================] - 0s 342us/step - loss: 2908.6079\n",
      "Epoch 30/50\n",
      "890/890 [==============================] - 0s 350us/step - loss: 4312.6863\n",
      "Epoch 31/50\n",
      "890/890 [==============================] - 0s 345us/step - loss: 3346.9814\n",
      "Epoch 32/50\n",
      "890/890 [==============================] - 0s 347us/step - loss: 2958.2394\n",
      "Epoch 33/50\n",
      "890/890 [==============================] - 0s 342us/step - loss: 3086.9199\n",
      "Epoch 34/50\n",
      "890/890 [==============================] - 0s 350us/step - loss: 3493.3817\n",
      "Epoch 35/50\n",
      "890/890 [==============================] - 0s 350us/step - loss: 3025.4769\n",
      "Epoch 36/50\n",
      "890/890 [==============================] - 0s 347us/step - loss: 2931.0807\n",
      "Epoch 37/50\n",
      "890/890 [==============================] - 0s 345us/step - loss: 2823.6514\n",
      "Epoch 38/50\n",
      "890/890 [==============================] - 0s 346us/step - loss: 2849.3842\n",
      "Epoch 39/50\n",
      "890/890 [==============================] - 0s 344us/step - loss: 2880.6406\n",
      "Epoch 40/50\n",
      "890/890 [==============================] - 0s 349us/step - loss: 3016.5584\n",
      "Epoch 41/50\n",
      "890/890 [==============================] - 0s 350us/step - loss: 2865.1252\n",
      "Epoch 42/50\n",
      "890/890 [==============================] - 0s 344us/step - loss: 2794.3848\n",
      "Epoch 43/50\n",
      "890/890 [==============================] - 0s 343us/step - loss: 3023.2940\n",
      "Epoch 44/50\n",
      "890/890 [==============================] - 0s 351us/step - loss: 3265.4422\n",
      "Epoch 45/50\n",
      "890/890 [==============================] - 0s 349us/step - loss: 3082.3278\n",
      "Epoch 46/50\n",
      "890/890 [==============================] - 0s 347us/step - loss: 3044.9031\n",
      "Epoch 47/50\n",
      "890/890 [==============================] - 0s 346us/step - loss: 3092.9195\n",
      "Epoch 48/50\n",
      "890/890 [==============================] - 0s 351us/step - loss: 3111.6295\n",
      "Epoch 49/50\n",
      "890/890 [==============================] - 0s 345us/step - loss: 2816.1577\n",
      "Epoch 50/50\n",
      "890/890 [==============================] - 0s 346us/step - loss: 2945.2176\n"
     ]
    },
    {
     "data": {
      "text/plain": [
       "<keras.callbacks.History at 0x1abad1feb70>"
      ]
     },
     "execution_count": 14,
     "metadata": {},
     "output_type": "execute_result"
    },
    {
     "name": "stdout",
     "output_type": "stream",
     "text": [
      "time: 16.3 s\n"
     ]
    }
   ],
   "source": [
    "autoencoder.fit(x,x,\n",
    "epochs=50,\n",
    "batch_size=10)"
   ]
  },
  {
   "cell_type": "code",
   "execution_count": 15,
   "metadata": {},
   "outputs": [
    {
     "name": "stdout",
     "output_type": "stream",
     "text": [
      "time: 241 ms\n"
     ]
    }
   ],
   "source": [
    "encoded_layer=encoder.predict(x)\n",
    "decoded_output1=decoder.predict(encoded_layer)\n",
    "decoded_output2=decoder2.predict(decoded_output1)\n",
    "# create the decoder model\n",
    "decoded_output2=decoder1.predict(decoded_output2)\n"
   ]
  },
  {
   "cell_type": "code",
   "execution_count": 16,
   "metadata": {},
   "outputs": [
    {
     "data": {
      "text/plain": [
       "array([ 168.8311  , -427.52206 ,   59.662193,  -89.485695,  113.08437 ,\n",
       "       -832.6742  , -223.00713 ,  660.52264 ,  483.441   , -610.68353 ,\n",
       "        424.5374  ,   75.51294 ,   59.212616, -606.6872  ,  267.14114 ,\n",
       "       -793.1852  , -434.21716 ,  392.32767 , -367.6261  ,  322.73193 ,\n",
       "        -28.47442 , -400.57257 , -243.42421 ,  -77.52975 ,  185.59343 ,\n",
       "        538.7865  , -332.21616 ,  241.8444  ,  -89.22975 ,  212.46255 ],\n",
       "      dtype=float32)"
      ]
     },
     "execution_count": 16,
     "metadata": {},
     "output_type": "execute_result"
    },
    {
     "name": "stdout",
     "output_type": "stream",
     "text": [
      "time: 2.99 ms\n"
     ]
    }
   ],
   "source": [
    "encoded_layer[0]"
   ]
  },
  {
   "cell_type": "code",
   "execution_count": 17,
   "metadata": {},
   "outputs": [
    {
     "name": "stdout",
     "output_type": "stream",
     "text": [
      "(250,)\n",
      "(250,)\n",
      "time: 5 ms\n"
     ]
    }
   ],
   "source": [
    "print(x[0].shape)\n",
    "print(decoded_output2[0].shape)"
   ]
  },
  {
   "cell_type": "code",
   "execution_count": 18,
   "metadata": {
    "scrolled": true
   },
   "outputs": [
    {
     "data": {
      "text/plain": [
       "[<matplotlib.lines.Line2D at 0x1ac8a7f82b0>]"
      ]
     },
     "execution_count": 18,
     "metadata": {},
     "output_type": "execute_result"
    },
    {
     "data": {
      "image/png": "[encoded data removed]",
      "text/plain": [
       "<Figure size 432x288 with 1 Axes>"
      ]
     },
     "metadata": {
      "needs_background": "light"
     },
     "output_type": "display_data"
    },
    {
     "name": "stdout",
     "output_type": "stream",
     "text": [
      "time: 138 ms\n"
     ]
    }
   ],
   "source": [
    "import matplotlib.pyplot as plt\n",
    "%matplotlib inline\n",
    "q=700\n",
    "plt.plot(range(250),x[q],label=1)\n",
    "plt.plot(range(250),decoded_output2[q],label=2)"
   ]
  },
  {
   "cell_type": "code",
   "execution_count": 19,
   "metadata": {},
   "outputs": [
    {
     "name": "stdout",
     "output_type": "stream",
     "text": [
      "Error in callback <function LineWatcher.stop at 0x000001ABB39A0840> (for post_run_cell):\n"
     ]
    },
    {
     "ename": "AssertionError",
     "evalue": "",
     "output_type": "error",
     "traceback": [
      "\u001b[1;31m---------------------------------------------------------------------------\u001b[0m",
      "\u001b[1;31mAssertionError\u001b[0m                            Traceback (most recent call last)",
      "\u001b[1;32m~\\Anaconda3\\envs\\tf-gpu\\lib\\site-packages\\backcall\\backcall.py\u001b[0m in \u001b[0;36madapted\u001b[1;34m(*args, **kwargs)\u001b[0m\n\u001b[0;32m    102\u001b[0m                 \u001b[0mkwargs\u001b[0m\u001b[1;33m.\u001b[0m\u001b[0mpop\u001b[0m\u001b[1;33m(\u001b[0m\u001b[0mname\u001b[0m\u001b[1;33m)\u001b[0m\u001b[1;33m\u001b[0m\u001b[1;33m\u001b[0m\u001b[0m\n\u001b[0;32m    103\u001b[0m \u001b[1;31m#            print(args, kwargs, unmatched_pos, cut_positional, unmatched_kw)\u001b[0m\u001b[1;33m\u001b[0m\u001b[1;33m\u001b[0m\u001b[1;33m\u001b[0m\u001b[0m\n\u001b[1;32m--> 104\u001b[1;33m             \u001b[1;32mreturn\u001b[0m \u001b[0mcallback\u001b[0m\u001b[1;33m(\u001b[0m\u001b[1;33m*\u001b[0m\u001b[0margs\u001b[0m\u001b[1;33m,\u001b[0m \u001b[1;33m**\u001b[0m\u001b[0mkwargs\u001b[0m\u001b[1;33m)\u001b[0m\u001b[1;33m\u001b[0m\u001b[1;33m\u001b[0m\u001b[0m\n\u001b[0m\u001b[0;32m    105\u001b[0m \u001b[1;33m\u001b[0m\u001b[0m\n\u001b[0;32m    106\u001b[0m         \u001b[1;32mreturn\u001b[0m \u001b[0madapted\u001b[0m\u001b[1;33m\u001b[0m\u001b[1;33m\u001b[0m\u001b[0m\n",
      "\u001b[1;32m~\\Anaconda3\\envs\\tf-gpu\\lib\\site-packages\\autotime.py\u001b[0m in \u001b[0;36mstop\u001b[1;34m(self)\u001b[0m\n\u001b[0;32m     23\u001b[0m         \u001b[1;32mif\u001b[0m \u001b[0mself\u001b[0m\u001b[1;33m.\u001b[0m\u001b[0mstart_time\u001b[0m\u001b[1;33m:\u001b[0m\u001b[1;33m\u001b[0m\u001b[1;33m\u001b[0m\u001b[0m\n\u001b[0;32m     24\u001b[0m             \u001b[0mdiff\u001b[0m \u001b[1;33m=\u001b[0m \u001b[0mtime\u001b[0m\u001b[1;33m.\u001b[0m\u001b[0mtime\u001b[0m\u001b[1;33m(\u001b[0m\u001b[1;33m)\u001b[0m \u001b[1;33m-\u001b[0m \u001b[0mself\u001b[0m\u001b[1;33m.\u001b[0m\u001b[0mstart_time\u001b[0m\u001b[1;33m\u001b[0m\u001b[1;33m\u001b[0m\u001b[0m\n\u001b[1;32m---> 25\u001b[1;33m             \u001b[1;32massert\u001b[0m \u001b[0mdiff\u001b[0m \u001b[1;33m>\u001b[0m \u001b[1;36m0\u001b[0m\u001b[1;33m\u001b[0m\u001b[1;33m\u001b[0m\u001b[0m\n\u001b[0m\u001b[0;32m     26\u001b[0m             \u001b[0mprint\u001b[0m\u001b[1;33m(\u001b[0m\u001b[1;34m'time: %s'\u001b[0m \u001b[1;33m%\u001b[0m \u001b[0mformat_delta\u001b[0m\u001b[1;33m(\u001b[0m\u001b[0mdiff\u001b[0m\u001b[1;33m)\u001b[0m\u001b[1;33m)\u001b[0m\u001b[1;33m\u001b[0m\u001b[1;33m\u001b[0m\u001b[0m\n\u001b[0;32m     27\u001b[0m \u001b[1;33m\u001b[0m\u001b[0m\n",
      "\u001b[1;31mAssertionError\u001b[0m: "
     ]
    }
   ],
   "source": [
    "#np.savetxt('compressed_data1.csv',encoded_layer,delimiter=',')"
   ]
  },
  {
   "cell_type": "code",
   "execution_count": 20,
   "metadata": {},
   "outputs": [
    {
     "name": "stdout",
     "output_type": "stream",
     "text": [
      "time: 110 ms\n"
     ]
    }
   ],
   "source": [
    "for layer in autoencoder.layers:\n",
    "    weights = layer.get_weights()"
   ]
  },
  {
   "cell_type": "code",
   "execution_count": 21,
   "metadata": {},
   "outputs": [
    {
     "name": "stdout",
     "output_type": "stream",
     "text": [
      "Error in callback <function LineWatcher.stop at 0x000001ABB39A0840> (for post_run_cell):\n"
     ]
    },
    {
     "ename": "AssertionError",
     "evalue": "",
     "output_type": "error",
     "traceback": [
      "\u001b[1;31m---------------------------------------------------------------------------\u001b[0m",
      "\u001b[1;31mAssertionError\u001b[0m                            Traceback (most recent call last)",
      "\u001b[1;32m~\\Anaconda3\\envs\\tf-gpu\\lib\\site-packages\\backcall\\backcall.py\u001b[0m in \u001b[0;36madapted\u001b[1;34m(*args, **kwargs)\u001b[0m\n\u001b[0;32m    102\u001b[0m                 \u001b[0mkwargs\u001b[0m\u001b[1;33m.\u001b[0m\u001b[0mpop\u001b[0m\u001b[1;33m(\u001b[0m\u001b[0mname\u001b[0m\u001b[1;33m)\u001b[0m\u001b[1;33m\u001b[0m\u001b[1;33m\u001b[0m\u001b[0m\n\u001b[0;32m    103\u001b[0m \u001b[1;31m#            print(args, kwargs, unmatched_pos, cut_positional, unmatched_kw)\u001b[0m\u001b[1;33m\u001b[0m\u001b[1;33m\u001b[0m\u001b[1;33m\u001b[0m\u001b[0m\n\u001b[1;32m--> 104\u001b[1;33m             \u001b[1;32mreturn\u001b[0m \u001b[0mcallback\u001b[0m\u001b[1;33m(\u001b[0m\u001b[1;33m*\u001b[0m\u001b[0margs\u001b[0m\u001b[1;33m,\u001b[0m \u001b[1;33m**\u001b[0m\u001b[0mkwargs\u001b[0m\u001b[1;33m)\u001b[0m\u001b[1;33m\u001b[0m\u001b[1;33m\u001b[0m\u001b[0m\n\u001b[0m\u001b[0;32m    105\u001b[0m \u001b[1;33m\u001b[0m\u001b[0m\n\u001b[0;32m    106\u001b[0m         \u001b[1;32mreturn\u001b[0m \u001b[0madapted\u001b[0m\u001b[1;33m\u001b[0m\u001b[1;33m\u001b[0m\u001b[0m\n",
      "\u001b[1;32m~\\Anaconda3\\envs\\tf-gpu\\lib\\site-packages\\autotime.py\u001b[0m in \u001b[0;36mstop\u001b[1;34m(self)\u001b[0m\n\u001b[0;32m     23\u001b[0m         \u001b[1;32mif\u001b[0m \u001b[0mself\u001b[0m\u001b[1;33m.\u001b[0m\u001b[0mstart_time\u001b[0m\u001b[1;33m:\u001b[0m\u001b[1;33m\u001b[0m\u001b[1;33m\u001b[0m\u001b[0m\n\u001b[0;32m     24\u001b[0m             \u001b[0mdiff\u001b[0m \u001b[1;33m=\u001b[0m \u001b[0mtime\u001b[0m\u001b[1;33m.\u001b[0m\u001b[0mtime\u001b[0m\u001b[1;33m(\u001b[0m\u001b[1;33m)\u001b[0m \u001b[1;33m-\u001b[0m \u001b[0mself\u001b[0m\u001b[1;33m.\u001b[0m\u001b[0mstart_time\u001b[0m\u001b[1;33m\u001b[0m\u001b[1;33m\u001b[0m\u001b[0m\n\u001b[1;32m---> 25\u001b[1;33m             \u001b[1;32massert\u001b[0m \u001b[0mdiff\u001b[0m \u001b[1;33m>\u001b[0m \u001b[1;36m0\u001b[0m\u001b[1;33m\u001b[0m\u001b[1;33m\u001b[0m\u001b[0m\n\u001b[0m\u001b[0;32m     26\u001b[0m             \u001b[0mprint\u001b[0m\u001b[1;33m(\u001b[0m\u001b[1;34m'time: %s'\u001b[0m \u001b[1;33m%\u001b[0m \u001b[0mformat_delta\u001b[0m\u001b[1;33m(\u001b[0m\u001b[0mdiff\u001b[0m\u001b[1;33m)\u001b[0m\u001b[1;33m)\u001b[0m\u001b[1;33m\u001b[0m\u001b[1;33m\u001b[0m\u001b[0m\n\u001b[0;32m     27\u001b[0m \u001b[1;33m\u001b[0m\u001b[0m\n",
      "\u001b[1;31mAssertionError\u001b[0m: "
     ]
    }
   ],
   "source": [
    "weights=np.array(weights)\n",
    "#weights[1]"
   ]
  },
  {
   "cell_type": "code",
   "execution_count": 22,
   "metadata": {},
   "outputs": [
    {
     "name": "stdout",
     "output_type": "stream",
     "text": [
      "{'name': 'input_5', 'class_name': 'InputLayer', 'config': {'batch_input_shape': (None, 250), 'dtype': 'float32', 'sparse': False, 'name': 'input_5'}, 'inbound_nodes': []}\n",
      "{'name': 'dense_7', 'class_name': 'Dense', 'config': {'name': 'dense_7', 'trainable': True, 'units': 125, 'activation': 'linear', 'use_bias': True, 'kernel_initializer': {'class_name': 'VarianceScaling', 'config': {'scale': 1.0, 'mode': 'fan_avg', 'distribution': 'uniform', 'seed': None}}, 'bias_initializer': {'class_name': 'Zeros', 'config': {}}, 'kernel_regularizer': None, 'bias_regularizer': None, 'activity_regularizer': None, 'kernel_constraint': None, 'bias_constraint': None}, 'inbound_nodes': [[['input_5', 0, 0, {}]]]}\n",
      "{'name': 'dense_8', 'class_name': 'Dense', 'config': {'name': 'dense_8', 'trainable': True, 'units': 60, 'activation': 'linear', 'use_bias': True, 'kernel_initializer': {'class_name': 'VarianceScaling', 'config': {'scale': 1.0, 'mode': 'fan_avg', 'distribution': 'uniform', 'seed': None}}, 'bias_initializer': {'class_name': 'Zeros', 'config': {}}, 'kernel_regularizer': None, 'bias_regularizer': None, 'activity_regularizer': None, 'kernel_constraint': None, 'bias_constraint': None}, 'inbound_nodes': [[['dense_7', 0, 0, {}]]]}\n",
      "{'name': 'dense_9', 'class_name': 'Dense', 'config': {'name': 'dense_9', 'trainable': True, 'units': 30, 'activation': 'linear', 'use_bias': True, 'kernel_initializer': {'class_name': 'VarianceScaling', 'config': {'scale': 1.0, 'mode': 'fan_avg', 'distribution': 'uniform', 'seed': None}}, 'bias_initializer': {'class_name': 'Zeros', 'config': {}}, 'kernel_regularizer': None, 'bias_regularizer': None, 'activity_regularizer': None, 'kernel_constraint': None, 'bias_constraint': None}, 'inbound_nodes': [[['dense_8', 0, 0, {}]]]}\n",
      "{'name': 'dense_10', 'class_name': 'Dense', 'config': {'name': 'dense_10', 'trainable': True, 'units': 60, 'activation': 'linear', 'use_bias': True, 'kernel_initializer': {'class_name': 'VarianceScaling', 'config': {'scale': 1.0, 'mode': 'fan_avg', 'distribution': 'uniform', 'seed': None}}, 'bias_initializer': {'class_name': 'Zeros', 'config': {}}, 'kernel_regularizer': None, 'bias_regularizer': None, 'activity_regularizer': None, 'kernel_constraint': None, 'bias_constraint': None}, 'inbound_nodes': [[['dense_9', 0, 0, {}]]]}\n",
      "{'name': 'dense_11', 'class_name': 'Dense', 'config': {'name': 'dense_11', 'trainable': True, 'units': 125, 'activation': 'linear', 'use_bias': True, 'kernel_initializer': {'class_name': 'VarianceScaling', 'config': {'scale': 1.0, 'mode': 'fan_avg', 'distribution': 'uniform', 'seed': None}}, 'bias_initializer': {'class_name': 'Zeros', 'config': {}}, 'kernel_regularizer': None, 'bias_regularizer': None, 'activity_regularizer': None, 'kernel_constraint': None, 'bias_constraint': None}, 'inbound_nodes': [[['dense_10', 0, 0, {}]]]}\n",
      "{'name': 'dense_12', 'class_name': 'Dense', 'config': {'name': 'dense_12', 'trainable': True, 'units': 250, 'activation': 'linear', 'use_bias': True, 'kernel_initializer': {'class_name': 'VarianceScaling', 'config': {'scale': 1.0, 'mode': 'fan_avg', 'distribution': 'uniform', 'seed': None}}, 'bias_initializer': {'class_name': 'Zeros', 'config': {}}, 'kernel_regularizer': None, 'bias_regularizer': None, 'activity_regularizer': None, 'kernel_constraint': None, 'bias_constraint': None}, 'inbound_nodes': [[['dense_11', 0, 0, {}]]]}\n",
      "time: 5.98 ms\n"
     ]
    }
   ],
   "source": [
    "config=autoencoder.get_config()\n",
    "#print(config['layers'])\n",
    "for layer in config['layers']:\n",
    "    print(layer)"
   ]
  },
  {
   "cell_type": "code",
   "execution_count": null,
   "metadata": {},
   "outputs": [],
   "source": []
  },
  {
   "cell_type": "code",
   "execution_count": null,
   "metadata": {},
   "outputs": [],
   "source": []
  }
 ],
 "metadata": {
  "kernelspec": {
   "display_name": "TensorFlow-GPU",
   "language": "python",
   "name": "tf-gpu"
  },
  "language_info": {
   "codemirror_mode": {
    "name": "ipython",
    "version": 3
   },
   "file_extension": ".py",
   "mimetype": "text/x-python",
   "name": "python",
   "nbconvert_exporter": "python",
   "pygments_lexer": "ipython3",
   "version": "3.6.8"
  }
 },
 "nbformat": 4,
 "nbformat_minor": 2
}
