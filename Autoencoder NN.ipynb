{
 "cells": [
  {
   "cell_type": "code",
   "execution_count": 1,
   "metadata": {},
   "outputs": [
    {
     "name": "stdout",
     "output_type": "stream",
     "text": [
      "<module 'tensorflow._api.v1.version' from 'C:\\\\Users\\\\Babbar\\\\Anaconda3\\\\envs\\\\tf-gpu\\\\lib\\\\site-packages\\\\tensorflow\\\\_api\\\\v1\\\\version\\\\__init__.py'>\n"
     ]
    },
    {
     "name": "stderr",
     "output_type": "stream",
     "text": [
      "Using TensorFlow backend.\n"
     ]
    }
   ],
   "source": [
    "#for timing every cell\n",
    "%load_ext autotime\n",
    "import tensorflow as tf\n",
    "print(tf.version)\n",
    "import numpy as np\n",
    "#keras is a platform for Neural Networks which runs over tensorflow\n",
    "#Input is for Instantiate the tensor(array) defining its shape\n",
    "#Dense represents fully connected layer\n",
    "from keras.layers import Input, Dense\n",
    "#Model is an api it represents the Neural network model\n",
    "from keras.models import Model\n",
    "#matplotlib for plotting\n",
    "import matplotlib.pyplot as plt\n",
    "from keras.callbacks import TensorBoard"
   ]
  },
  {
   "cell_type": "code",
   "execution_count": 2,
   "metadata": {},
   "outputs": [
    {
     "name": "stdout",
     "output_type": "stream",
     "text": [
      "39963.59\n",
      "time: 2.36 s\n"
     ]
    }
   ],
   "source": [
    "%load_ext tensorboard.notebook\n",
    "#reading csv file\n",
    "a=np.genfromtxt('data_for_clustering.csv', delimiter=',')\n",
    "#removing last NAN value\n",
    "a=a[:-1]\n",
    "print(a[1])\n",
    "#trimming the data\n",
    "x=a[20*250:250*910]\n",
    "#reshaping into(x,250)\n",
    "x=x.reshape(-1,250)\n",
    "#Mean subtraction window wise\n",
    "#taking mean\n",
    "me=np.mean(x,axis=1)\n",
    "#subtracting mean\n",
    "x=(x.T-me).T\n",
    "#scaling\n",
    "maxi,mini=np.max(x,axis=1),np.min(x,axis=1)\n",
    "x=(x.T/(maxi-mini)).T\n",
    "x.shape\n",
    "#x_test=x[700:]\n",
    "#x=x[:700]\n",
    "\n",
    "\n",
    "x=x.reshape(890,250)"
   ]
  },
  {
   "cell_type": "code",
   "execution_count": 3,
   "metadata": {},
   "outputs": [
    {
     "data": {
      "text/plain": [
       "ERROR: Failed to launch TensorBoard (exited with 2).\n",
       "Contents of stderr:\n",
       "usage: tensorboard [-h] [--helpfull] [--logdir PATH] [--host ADDR]\n",
       "                   [--port PORT] [--purge_orphaned_data BOOL]\n",
       "                   [--reload_interval SECONDS] [--db URI] [--db_import]\n",
       "                   [--db_import_use_op] [--inspect] [--tag TAG]\n",
       "                   [--event_file PATH] [--path_prefix PATH]\n",
       "                   [--window_title TEXT] [--max_reload_threads COUNT]\n",
       "                   [--reload_task TYPE]\n",
       "                   [--samples_per_plugin SAMPLES_PER_PLUGIN]\n",
       "                   [--master_tpu_unsecure_channel ADDR]\n",
       "                   [--debugger_data_server_grpc_port PORT]\n",
       "                   [--debugger_port PORT]\n",
       "tensorboard: error: unrecognized arguments: model"
      ]
     },
     "metadata": {},
     "output_type": "display_data"
    },
    {
     "name": "stdout",
     "output_type": "stream",
     "text": [
      "time: 3.36 s\n"
     ]
    }
   ],
   "source": [
    "#using tensorboard \n",
    "name=\"dense model\"\n",
    "tensorboard=TensorBoard(log_dir='logs/{}'.format(name))\n",
    "%tensorboard --logdir {name}"
   ]
  },
  {
   "cell_type": "code",
   "execution_count": 4,
   "metadata": {},
   "outputs": [
    {
     "name": "stdout",
     "output_type": "stream",
     "text": [
      "WARNING:tensorflow:From C:\\Users\\Babbar\\Anaconda3\\envs\\tf-gpu\\lib\\site-packages\\tensorflow\\python\\framework\\op_def_library.py:263: colocate_with (from tensorflow.python.framework.ops) is deprecated and will be removed in a future version.\n",
      "Instructions for updating:\n",
      "Colocations handled automatically by placer.\n",
      "time: 134 ms\n"
     ]
    }
   ],
   "source": [
    "#creating a deep dense neural network\n",
    "#deciding number of encoding dimentions\n",
    "encoding_dim = 20\n",
    "# this is our input placeholder\n",
    "input_img = Input(shape=(250,))\n",
    "# \"encoded\" is the encoded representation of the input\n",
    "#adding a dense layer with 125 nodes , linear activation, input dimention as input_img\n",
    "encoded0=Dense(125,activation='linear')(input_img)\n",
    "#adding a dense layer with 60 nodes , linear activation, input dimention as encoded0\n",
    "encoded1=Dense(60,activation='linear')(encoded0)\n",
    "#adding a dense layer with encoding_dim nodes , linear activation, input dimention as encoded1\n",
    "encoded = Dense(encoding_dim, activation='linear')(encoded1)\n",
    "\n",
    "# \"decoded\" is the lossy reconstruction of the input\n",
    "#adding a dense layer with 60 nodes , linear activation, input dimention as encoding dim\n",
    "decoded0=Dense(60,activation='linear')(encoded)\n",
    "decoded1=Dense(125,activation='linear')(decoded0)\n",
    "#final decoding layer\n",
    "decoded = Dense(250, activation='linear')(decoded1)\n",
    "# this model maps an input to its reconstruction\n",
    "autoencoder = Model(input_img, decoded)\n",
    "# this model maps an input to its encoded representation\n",
    "#passing start to encoded\n",
    "encoder = Model(input_img, encoded)\n",
    "# create a placeholder for an encoded (10-dimensional) input\n",
    "encoded_input = Input(shape=(encoding_dim,))\n",
    "# retrieve the last third layer of the autoencoder model with 10 dimentions\n",
    "decoder_layer = autoencoder.layers[-3]\n",
    "#naming the last and second last layer\n",
    "decoder_layer1 = autoencoder.layers[-1]\n",
    "decoder_layer2 = autoencoder.layers[-2]\n",
    "# create the decoder model\n",
    "#defining placeholders\n",
    "encoded_input1 = Input(shape=(125,))\n",
    "encoded_input2 = Input(shape=(60,))\n",
    "#first decoding layer\n",
    "decoder2 = Model(encoded_input2, decoder_layer2(encoded_input2))\n",
    "#second decoding layer\n",
    "decoder1 = Model(encoded_input1, decoder_layer1(encoded_input1))\n",
    "decoder = Model(encoded_input, decoder_layer(encoded_input))\n",
    "#compiling the model and varifying the connectivity, optimizer is adam and loss function is mean squared error\n",
    "autoencoder.compile(optimizer='adam', loss='mse')#binary_crossentropy"
   ]
  },
  {
   "cell_type": "code",
   "execution_count": 5,
   "metadata": {
    "scrolled": false
   },
   "outputs": [
    {
     "name": "stdout",
     "output_type": "stream",
     "text": [
      "WARNING:tensorflow:From C:\\Users\\Babbar\\Anaconda3\\envs\\tf-gpu\\lib\\site-packages\\tensorflow\\python\\ops\\math_ops.py:3066: to_int32 (from tensorflow.python.ops.math_ops) is deprecated and will be removed in a future version.\n",
      "Instructions for updating:\n",
      "Use tf.cast instead.\n",
      "Train on 801 samples, validate on 89 samples\n",
      "Epoch 1/50\n",
      "801/801 [==============================] - 0s 318us/step - loss: 0.0303 - val_loss: 0.0188\n",
      "Epoch 2/50\n",
      "801/801 [==============================] - 0s 151us/step - loss: 0.0140 - val_loss: 0.0125\n",
      "Epoch 3/50\n",
      "801/801 [==============================] - 0s 149us/step - loss: 0.0100 - val_loss: 0.0097\n",
      "Epoch 4/50\n",
      "801/801 [==============================] - 0s 148us/step - loss: 0.0081 - val_loss: 0.0084\n",
      "Epoch 5/50\n",
      "801/801 [==============================] - 0s 149us/step - loss: 0.0074 - val_loss: 0.0080\n",
      "Epoch 6/50\n",
      "801/801 [==============================] - 0s 143us/step - loss: 0.0072 - val_loss: 0.0079\n",
      "Epoch 7/50\n",
      "801/801 [==============================] - 0s 141us/step - loss: 0.0072 - val_loss: 0.0078\n",
      "Epoch 8/50\n",
      "801/801 [==============================] - 0s 139us/step - loss: 0.0071 - val_loss: 0.0078\n",
      "Epoch 9/50\n",
      "801/801 [==============================] - 0s 141us/step - loss: 0.0071 - val_loss: 0.0077\n",
      "Epoch 10/50\n",
      "801/801 [==============================] - 0s 144us/step - loss: 0.0071 - val_loss: 0.0078\n",
      "Epoch 11/50\n",
      "801/801 [==============================] - 0s 141us/step - loss: 0.0070 - val_loss: 0.0078\n",
      "Epoch 12/50\n",
      "801/801 [==============================] - 0s 142us/step - loss: 0.0070 - val_loss: 0.0078\n",
      "Epoch 13/50\n",
      "801/801 [==============================] - 0s 147us/step - loss: 0.0070 - val_loss: 0.0077\n",
      "Epoch 14/50\n",
      "801/801 [==============================] - 0s 141us/step - loss: 0.0069 - val_loss: 0.0077\n",
      "Epoch 15/50\n",
      "801/801 [==============================] - 0s 137us/step - loss: 0.0070 - val_loss: 0.0077\n",
      "Epoch 16/50\n",
      "801/801 [==============================] - 0s 137us/step - loss: 0.0069 - val_loss: 0.0076\n",
      "Epoch 17/50\n",
      "801/801 [==============================] - 0s 138us/step - loss: 0.0069 - val_loss: 0.0078\n",
      "Epoch 18/50\n",
      "801/801 [==============================] - 0s 142us/step - loss: 0.0069 - val_loss: 0.0077\n",
      "Epoch 19/50\n",
      "801/801 [==============================] - 0s 143us/step - loss: 0.0069 - val_loss: 0.0078\n",
      "Epoch 20/50\n",
      "801/801 [==============================] - 0s 141us/step - loss: 0.0070 - val_loss: 0.0077\n",
      "Epoch 21/50\n",
      "801/801 [==============================] - 0s 141us/step - loss: 0.0069 - val_loss: 0.0077\n",
      "Epoch 22/50\n",
      "801/801 [==============================] - 0s 143us/step - loss: 0.0068 - val_loss: 0.0077\n",
      "Epoch 23/50\n",
      "801/801 [==============================] - 0s 144us/step - loss: 0.0069 - val_loss: 0.0076\n",
      "Epoch 24/50\n",
      "801/801 [==============================] - 0s 138us/step - loss: 0.0068 - val_loss: 0.0077\n",
      "Epoch 25/50\n",
      "801/801 [==============================] - 0s 138us/step - loss: 0.0069 - val_loss: 0.0076\n",
      "Epoch 26/50\n",
      "801/801 [==============================] - 0s 139us/step - loss: 0.0068 - val_loss: 0.0076\n",
      "Epoch 27/50\n",
      "801/801 [==============================] - 0s 144us/step - loss: 0.0068 - val_loss: 0.0077\n",
      "Epoch 28/50\n",
      "801/801 [==============================] - 0s 139us/step - loss: 0.0069 - val_loss: 0.0076\n",
      "Epoch 29/50\n",
      "801/801 [==============================] - 0s 139us/step - loss: 0.0069 - val_loss: 0.0077\n",
      "Epoch 30/50\n",
      "801/801 [==============================] - 0s 141us/step - loss: 0.0069 - val_loss: 0.0077\n",
      "Epoch 31/50\n",
      "801/801 [==============================] - 0s 143us/step - loss: 0.0068 - val_loss: 0.0076\n",
      "Epoch 32/50\n",
      "801/801 [==============================] - 0s 143us/step - loss: 0.0068 - val_loss: 0.0076\n",
      "Epoch 33/50\n",
      "801/801 [==============================] - 0s 138us/step - loss: 0.0068 - val_loss: 0.0076\n",
      "Epoch 34/50\n",
      "801/801 [==============================] - 0s 147us/step - loss: 0.0068 - val_loss: 0.0077\n",
      "Epoch 35/50\n",
      "801/801 [==============================] - 0s 142us/step - loss: 0.0068 - val_loss: 0.0076\n",
      "Epoch 36/50\n",
      "801/801 [==============================] - 0s 158us/step - loss: 0.0068 - val_loss: 0.0077\n",
      "Epoch 37/50\n",
      "801/801 [==============================] - 0s 159us/step - loss: 0.0068 - val_loss: 0.0076\n",
      "Epoch 38/50\n",
      "801/801 [==============================] - 0s 154us/step - loss: 0.0068 - val_loss: 0.0076\n",
      "Epoch 39/50\n",
      "801/801 [==============================] - 0s 157us/step - loss: 0.0069 - val_loss: 0.0077\n",
      "Epoch 40/50\n",
      "801/801 [==============================] - 0s 149us/step - loss: 0.0068 - val_loss: 0.0076\n",
      "Epoch 41/50\n",
      "801/801 [==============================] - 0s 142us/step - loss: 0.0069 - val_loss: 0.0077\n",
      "Epoch 42/50\n",
      "801/801 [==============================] - 0s 142us/step - loss: 0.0069 - val_loss: 0.0077\n",
      "Epoch 43/50\n",
      "801/801 [==============================] - 0s 149us/step - loss: 0.0068 - val_loss: 0.0077\n",
      "Epoch 44/50\n",
      "801/801 [==============================] - 0s 159us/step - loss: 0.0069 - val_loss: 0.0077\n",
      "Epoch 45/50\n",
      "801/801 [==============================] - 0s 153us/step - loss: 0.0069 - val_loss: 0.0077\n",
      "Epoch 46/50\n",
      "801/801 [==============================] - 0s 144us/step - loss: 0.0069 - val_loss: 0.0077\n",
      "Epoch 47/50\n",
      "801/801 [==============================] - 0s 157us/step - loss: 0.0069 - val_loss: 0.0077\n",
      "Epoch 48/50\n",
      "801/801 [==============================] - 0s 144us/step - loss: 0.0069 - val_loss: 0.0077\n",
      "Epoch 49/50\n",
      "801/801 [==============================] - 0s 147us/step - loss: 0.0068 - val_loss: 0.0075\n",
      "Epoch 50/50\n",
      "801/801 [==============================] - 0s 158us/step - loss: 0.0067 - val_loss: 0.0076\n"
     ]
    },
    {
     "data": {
      "text/plain": [
       "<keras.callbacks.History at 0x2381647a7f0>"
      ]
     },
     "execution_count": 5,
     "metadata": {},
     "output_type": "execute_result"
    },
    {
     "name": "stdout",
     "output_type": "stream",
     "text": [
      "time: 7.9 s\n"
     ]
    }
   ],
   "source": [
    "#training the autoencoder , first x is input, 2nd x for output, number of epochs=50, batch size(number of samples sent at once)\n",
    "autoencoder.fit(x,x,\n",
    "epochs=50,\n",
    "batch_size=10,validation_split=0.1, callbacks=[tensorboard])"
   ]
  },
  {
   "cell_type": "code",
   "execution_count": 6,
   "metadata": {},
   "outputs": [
    {
     "name": "stdout",
     "output_type": "stream",
     "text": [
      "time: 131 ms\n"
     ]
    }
   ],
   "source": [
    "tensorboard_callback = tf.keras.callbacks.TensorBoard(name, histogram_freq=1)\n",
    "#encoded_layer gives encoded input\n",
    "encoded_layer=encoder.predict(x)\n",
    "# getting decoded output\n",
    "#first decoder 10 to 60\n",
    "decoded_output1=decoder.predict(encoded_layer)\n",
    "#second decoder 60 to 120\n",
    "decoded_output2=decoder2.predict(decoded_output1)\n",
    "#final decoder 120 to  250\n",
    "decoded_output2=decoder1.predict(decoded_output2)\n"
   ]
  },
  {
   "cell_type": "code",
   "execution_count": 7,
   "metadata": {},
   "outputs": [
    {
     "data": {
      "text/plain": [
       "(890, 20)"
      ]
     },
     "execution_count": 7,
     "metadata": {},
     "output_type": "execute_result"
    },
    {
     "name": "stdout",
     "output_type": "stream",
     "text": [
      "time: 1.99 ms\n"
     ]
    }
   ],
   "source": [
    "#checking encoded layer\n",
    "encoded_layer.shape"
   ]
  },
  {
   "cell_type": "code",
   "execution_count": 8,
   "metadata": {},
   "outputs": [
    {
     "name": "stdout",
     "output_type": "stream",
     "text": [
      "(250,)\n",
      "(250,)\n",
      "time: 1 ms\n"
     ]
    }
   ],
   "source": [
    "print(x[0].shape)\n",
    "print(decoded_output2[0].shape)"
   ]
  },
  {
   "cell_type": "code",
   "execution_count": 9,
   "metadata": {
    "scrolled": true
   },
   "outputs": [
    {
     "data": {
      "text/plain": [
       "<matplotlib.legend.Legend at 0x2381718eda0>"
      ]
     },
     "execution_count": 9,
     "metadata": {},
     "output_type": "execute_result"
    },
    {
     "data": {
      "image/png": "[encoded data removed]",
      "text/plain": [
       "<Figure size 432x288 with 1 Axes>"
      ]
     },
     "metadata": {
      "needs_background": "light"
     },
     "output_type": "display_data"
    },
    {
     "name": "stdout",
     "output_type": "stream",
     "text": [
      "time: 162 ms\n"
     ]
    }
   ],
   "source": [
    "#plotting the graph for comparison\n",
    "import matplotlib.pyplot as plt\n",
    "#%matplotlib inline shows how to indent the graph\n",
    "%matplotlib inline\n",
    "#q= sample number to show\n",
    "q=21\n",
    "#adding title\n",
    "plt.title('Autoencoder with 10 nodes in hidden Layer')\n",
    "#plotting original signal, x axis-0 to 249, y axis is x[q],label name,colour\n",
    "plt.plot(range(250),x[q],label='original signal', color='b')\n",
    "#plotting decoded signal, x axis-0 to 249, y axis is x[q],label name,colour\n",
    "plt.plot(range(250),decoded_output2[q],label='Regenerated signal',color='r')\n",
    "plt.xlabel('time')\n",
    "plt.ylabel('Amplitude')\n",
    "#legend is used for showing mapping with its colour(right box at top)\n",
    "plt.legend()\n"
   ]
  },
  {
   "cell_type": "code",
   "execution_count": null,
   "metadata": {},
   "outputs": [],
   "source": [
    "#saving encoded layer \n",
    "#np.savetxt('compressed_data20-1.csv',encoded_layer,delimiter=',')"
   ]
  },
  {
   "cell_type": "markdown",
   "metadata": {},
   "source": [
    "# describing the architecture of the network and getting its weights"
   ]
  },
  {
   "cell_type": "code",
   "execution_count": 10,
   "metadata": {},
   "outputs": [
    {
     "name": "stdout",
     "output_type": "stream",
     "text": [
      "time: 59.8 ms\n"
     ]
    }
   ],
   "source": [
    "for layer in autoencoder.layers:\n",
    "    weights = layer.get_weights()"
   ]
  },
  {
   "cell_type": "code",
   "execution_count": 11,
   "metadata": {},
   "outputs": [
    {
     "name": "stdout",
     "output_type": "stream",
     "text": [
      "Error in callback <function LineWatcher.stop at 0x0000023804381840> (for post_run_cell):\n"
     ]
    },
    {
     "ename": "AssertionError",
     "evalue": "",
     "output_type": "error",
     "traceback": [
      "\u001b[1;31m---------------------------------------------------------------------------\u001b[0m",
      "\u001b[1;31mAssertionError\u001b[0m                            Traceback (most recent call last)",
      "\u001b[1;32m~\\Anaconda3\\envs\\tf-gpu\\lib\\site-packages\\backcall\\backcall.py\u001b[0m in \u001b[0;36madapted\u001b[1;34m(*args, **kwargs)\u001b[0m\n\u001b[0;32m    102\u001b[0m                 \u001b[0mkwargs\u001b[0m\u001b[1;33m.\u001b[0m\u001b[0mpop\u001b[0m\u001b[1;33m(\u001b[0m\u001b[0mname\u001b[0m\u001b[1;33m)\u001b[0m\u001b[1;33m\u001b[0m\u001b[1;33m\u001b[0m\u001b[0m\n\u001b[0;32m    103\u001b[0m \u001b[1;31m#            print(args, kwargs, unmatched_pos, cut_positional, unmatched_kw)\u001b[0m\u001b[1;33m\u001b[0m\u001b[1;33m\u001b[0m\u001b[1;33m\u001b[0m\u001b[0m\n\u001b[1;32m--> 104\u001b[1;33m             \u001b[1;32mreturn\u001b[0m \u001b[0mcallback\u001b[0m\u001b[1;33m(\u001b[0m\u001b[1;33m*\u001b[0m\u001b[0margs\u001b[0m\u001b[1;33m,\u001b[0m \u001b[1;33m**\u001b[0m\u001b[0mkwargs\u001b[0m\u001b[1;33m)\u001b[0m\u001b[1;33m\u001b[0m\u001b[1;33m\u001b[0m\u001b[0m\n\u001b[0m\u001b[0;32m    105\u001b[0m \u001b[1;33m\u001b[0m\u001b[0m\n\u001b[0;32m    106\u001b[0m         \u001b[1;32mreturn\u001b[0m \u001b[0madapted\u001b[0m\u001b[1;33m\u001b[0m\u001b[1;33m\u001b[0m\u001b[0m\n",
      "\u001b[1;32m~\\Anaconda3\\envs\\tf-gpu\\lib\\site-packages\\autotime.py\u001b[0m in \u001b[0;36mstop\u001b[1;34m(self)\u001b[0m\n\u001b[0;32m     23\u001b[0m         \u001b[1;32mif\u001b[0m \u001b[0mself\u001b[0m\u001b[1;33m.\u001b[0m\u001b[0mstart_time\u001b[0m\u001b[1;33m:\u001b[0m\u001b[1;33m\u001b[0m\u001b[1;33m\u001b[0m\u001b[0m\n\u001b[0;32m     24\u001b[0m             \u001b[0mdiff\u001b[0m \u001b[1;33m=\u001b[0m \u001b[0mtime\u001b[0m\u001b[1;33m.\u001b[0m\u001b[0mtime\u001b[0m\u001b[1;33m(\u001b[0m\u001b[1;33m)\u001b[0m \u001b[1;33m-\u001b[0m \u001b[0mself\u001b[0m\u001b[1;33m.\u001b[0m\u001b[0mstart_time\u001b[0m\u001b[1;33m\u001b[0m\u001b[1;33m\u001b[0m\u001b[0m\n\u001b[1;32m---> 25\u001b[1;33m             \u001b[1;32massert\u001b[0m \u001b[0mdiff\u001b[0m \u001b[1;33m>\u001b[0m \u001b[1;36m0\u001b[0m\u001b[1;33m\u001b[0m\u001b[1;33m\u001b[0m\u001b[0m\n\u001b[0m\u001b[0;32m     26\u001b[0m             \u001b[0mprint\u001b[0m\u001b[1;33m(\u001b[0m\u001b[1;34m'time: %s'\u001b[0m \u001b[1;33m%\u001b[0m \u001b[0mformat_delta\u001b[0m\u001b[1;33m(\u001b[0m\u001b[0mdiff\u001b[0m\u001b[1;33m)\u001b[0m\u001b[1;33m)\u001b[0m\u001b[1;33m\u001b[0m\u001b[1;33m\u001b[0m\u001b[0m\n\u001b[0;32m     27\u001b[0m \u001b[1;33m\u001b[0m\u001b[0m\n",
      "\u001b[1;31mAssertionError\u001b[0m: "
     ]
    }
   ],
   "source": [
    "weights=np.array(weights)\n",
    "#weights[1]"
   ]
  },
  {
   "cell_type": "code",
   "execution_count": 12,
   "metadata": {},
   "outputs": [
    {
     "name": "stdout",
     "output_type": "stream",
     "text": [
      "{'name': 'input_1', 'class_name': 'InputLayer', 'config': {'batch_input_shape': (None, 250), 'dtype': 'float32', 'sparse': False, 'name': 'input_1'}, 'inbound_nodes': []}\n",
      "{'name': 'dense_1', 'class_name': 'Dense', 'config': {'name': 'dense_1', 'trainable': True, 'units': 125, 'activation': 'linear', 'use_bias': True, 'kernel_initializer': {'class_name': 'VarianceScaling', 'config': {'scale': 1.0, 'mode': 'fan_avg', 'distribution': 'uniform', 'seed': None}}, 'bias_initializer': {'class_name': 'Zeros', 'config': {}}, 'kernel_regularizer': None, 'bias_regularizer': None, 'activity_regularizer': None, 'kernel_constraint': None, 'bias_constraint': None}, 'inbound_nodes': [[['input_1', 0, 0, {}]]]}\n",
      "{'name': 'dense_2', 'class_name': 'Dense', 'config': {'name': 'dense_2', 'trainable': True, 'units': 60, 'activation': 'linear', 'use_bias': True, 'kernel_initializer': {'class_name': 'VarianceScaling', 'config': {'scale': 1.0, 'mode': 'fan_avg', 'distribution': 'uniform', 'seed': None}}, 'bias_initializer': {'class_name': 'Zeros', 'config': {}}, 'kernel_regularizer': None, 'bias_regularizer': None, 'activity_regularizer': None, 'kernel_constraint': None, 'bias_constraint': None}, 'inbound_nodes': [[['dense_1', 0, 0, {}]]]}\n",
      "{'name': 'dense_3', 'class_name': 'Dense', 'config': {'name': 'dense_3', 'trainable': True, 'units': 20, 'activation': 'linear', 'use_bias': True, 'kernel_initializer': {'class_name': 'VarianceScaling', 'config': {'scale': 1.0, 'mode': 'fan_avg', 'distribution': 'uniform', 'seed': None}}, 'bias_initializer': {'class_name': 'Zeros', 'config': {}}, 'kernel_regularizer': None, 'bias_regularizer': None, 'activity_regularizer': None, 'kernel_constraint': None, 'bias_constraint': None}, 'inbound_nodes': [[['dense_2', 0, 0, {}]]]}\n",
      "{'name': 'dense_4', 'class_name': 'Dense', 'config': {'name': 'dense_4', 'trainable': True, 'units': 60, 'activation': 'linear', 'use_bias': True, 'kernel_initializer': {'class_name': 'VarianceScaling', 'config': {'scale': 1.0, 'mode': 'fan_avg', 'distribution': 'uniform', 'seed': None}}, 'bias_initializer': {'class_name': 'Zeros', 'config': {}}, 'kernel_regularizer': None, 'bias_regularizer': None, 'activity_regularizer': None, 'kernel_constraint': None, 'bias_constraint': None}, 'inbound_nodes': [[['dense_3', 0, 0, {}]]]}\n",
      "{'name': 'dense_5', 'class_name': 'Dense', 'config': {'name': 'dense_5', 'trainable': True, 'units': 125, 'activation': 'linear', 'use_bias': True, 'kernel_initializer': {'class_name': 'VarianceScaling', 'config': {'scale': 1.0, 'mode': 'fan_avg', 'distribution': 'uniform', 'seed': None}}, 'bias_initializer': {'class_name': 'Zeros', 'config': {}}, 'kernel_regularizer': None, 'bias_regularizer': None, 'activity_regularizer': None, 'kernel_constraint': None, 'bias_constraint': None}, 'inbound_nodes': [[['dense_4', 0, 0, {}]]]}\n",
      "{'name': 'dense_6', 'class_name': 'Dense', 'config': {'name': 'dense_6', 'trainable': True, 'units': 250, 'activation': 'linear', 'use_bias': True, 'kernel_initializer': {'class_name': 'VarianceScaling', 'config': {'scale': 1.0, 'mode': 'fan_avg', 'distribution': 'uniform', 'seed': None}}, 'bias_initializer': {'class_name': 'Zeros', 'config': {}}, 'kernel_regularizer': None, 'bias_regularizer': None, 'activity_regularizer': None, 'kernel_constraint': None, 'bias_constraint': None}, 'inbound_nodes': [[['dense_5', 0, 0, {}]]]}\n",
      "time: 998 µs\n"
     ]
    }
   ],
   "source": [
    "config=autoencoder.get_config()\n",
    "#print(config['layers'])\n",
    "for layer in config['layers']:\n",
    "    print(layer)"
   ]
  },
  {
   "cell_type": "code",
   "execution_count": 13,
   "metadata": {},
   "outputs": [
    {
     "data": {
      "text/plain": [
       "[<matplotlib.lines.Line2D at 0x238171cadd8>]"
      ]
     },
     "execution_count": 13,
     "metadata": {},
     "output_type": "execute_result"
    },
    {
     "data": {
      "image/png": "[encoded data removed]",
      "text/plain": [
       "<Figure size 432x288 with 1 Axes>"
      ]
     },
     "metadata": {
      "needs_background": "light"
     },
     "output_type": "display_data"
    },
    {
     "name": "stdout",
     "output_type": "stream",
     "text": [
      "time: 143 ms\n"
     ]
    }
   ],
   "source": [
    "plt.plot(range(encoding_dim),encoded_layer[11])\n",
    "plt.plot(range(encoding_dim),encoded_layer[10])\n",
    "#plt.plot(range(10),encoded_layer[12])"
   ]
  },
  {
   "cell_type": "code",
   "execution_count": 14,
   "metadata": {},
   "outputs": [
    {
     "data": {
      "text/plain": [
       "[<matplotlib.lines.Line2D at 0x238172513c8>]"
      ]
     },
     "execution_count": 14,
     "metadata": {},
     "output_type": "execute_result"
    },
    {
     "data": {
      "image/png": "[encoded data removed]",
      "text/plain": [
       "<Figure size 432x288 with 1 Axes>"
      ]
     },
     "metadata": {
      "needs_background": "light"
     },
     "output_type": "display_data"
    },
    {
     "name": "stdout",
     "output_type": "stream",
     "text": [
      "time: 129 ms\n"
     ]
    }
   ],
   "source": [
    "plt.plot(range(250),x[11])\n",
    "plt.plot(range(250),x[10])\n",
    "#plt.plot(range(250),x[12])"
   ]
  },
  {
   "cell_type": "code",
   "execution_count": null,
   "metadata": {},
   "outputs": [],
   "source": [
    "plt.plot(range(250),decoded_output2[10])\n",
    "plt.plot(range(250),decoded_output2[11])\n",
    "#plt.plot(range(250),decoded_output2[2])"
   ]
  },
  {
   "cell_type": "markdown",
   "metadata": {},
   "source": [
    "# tensorboard"
   ]
  },
  {
   "cell_type": "code",
   "execution_count": null,
   "metadata": {},
   "outputs": [],
   "source": [
    "import os\n",
    "logs_base_dir = \"./logs\"\n",
    "os.makedirs(logs_base_dir, exist_ok=True)\n",
    "%tensorboard --logdir {logs_base_dir}"
   ]
  },
  {
   "cell_type": "markdown",
   "metadata": {},
   "source": [
    "# saving the model"
   ]
  },
  {
   "cell_type": "code",
   "execution_count": null,
   "metadata": {},
   "outputs": [],
   "source": [
    "autoencoder.save('Dense model.h5')"
   ]
  },
  {
   "cell_type": "code",
   "execution_count": null,
   "metadata": {},
   "outputs": [],
   "source": [
    "from keras.models import load_model\n",
    "new_model=load_model('Dense model.h5')\n",
    "new_model.summary()"
   ]
  },
  {
   "cell_type": "code",
   "execution_count": null,
   "metadata": {},
   "outputs": [],
   "source": []
  }
 ],
 "metadata": {
  "kernelspec": {
   "display_name": "TensorFlow-GPU",
   "language": "python",
   "name": "tf-gpu"
  },
  "language_info": {
   "codemirror_mode": {
    "name": "ipython",
    "version": 3
   },
   "file_extension": ".py",
   "mimetype": "text/x-python",
   "name": "python",
   "nbconvert_exporter": "python",
   "pygments_lexer": "ipython3",
   "version": "3.6.8"
  }
 },
 "nbformat": 4,
 "nbformat_minor": 2
}
