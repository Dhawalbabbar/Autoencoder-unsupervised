{
 "cells": [
  {
   "cell_type": "code",
   "execution_count": 1,
   "metadata": {},
   "outputs": [
    {
     "name": "stderr",
     "output_type": "stream",
     "text": [
      "Using TensorFlow backend.\n"
     ]
    }
   ],
   "source": [
    "%load_ext autotime\n",
    "import numpy as np\n",
    "from keras.layers import Input, Dense,K,LSTM,TimeDistributed,RepeatVector,CuDNNLSTM,Dropout, BatchNormalization\n",
    "from keras import preprocessing\n",
    "from keras.models import Model,Sequential\n",
    "from keras.datasets import mnist\n",
    "import matplotlib.pyplot as plt\n",
    "import tensorflow as tf\n",
    "from keras.optimizers import Adam"
   ]
  },
  {
   "cell_type": "code",
   "execution_count": null,
   "metadata": {},
   "outputs": [],
   "source": []
  },
  {
   "cell_type": "code",
   "execution_count": 2,
   "metadata": {},
   "outputs": [
    {
     "name": "stdout",
     "output_type": "stream",
     "text": [
      "39963.59\n",
      "time: 4.03 s\n"
     ]
    }
   ],
   "source": [
    "\n",
    "a=np.genfromtxt('data_for_clustering.csv', delimiter=',')\n",
    "a=a[:-1]\n",
    "print(a[1])\n",
    "x=a[:250*910]\n",
    "x=x[20*250:]\n",
    "x=x.reshape(-1,250)\n",
    "me=np.mean(x,axis=1)\n",
    "x=(x.T-me).T\n",
    "maxi,mini=np.max(x,axis=1),np.min(x,axis=1)\n",
    "x=(x.T/(maxi-mini)).T\n",
    "x=x.reshape(890,1,250)\n",
    "#x.shape\n"
   ]
  },
  {
   "cell_type": "code",
   "execution_count": 3,
   "metadata": {},
   "outputs": [
    {
     "data": {
      "text/plain": [
       "[<matplotlib.lines.Line2D at 0x1a065e7fba8>]"
      ]
     },
     "execution_count": 3,
     "metadata": {},
     "output_type": "execute_result"
    },
    {
     "data": {
      "image/png": "[encoded data removed]",
      "text/plain": [
       "<Figure size 432x288 with 1 Axes>"
      ]
     },
     "metadata": {
      "needs_background": "light"
     },
     "output_type": "display_data"
    },
    {
     "name": "stdout",
     "output_type": "stream",
     "text": [
      "time: 185 ms\n"
     ]
    }
   ],
   "source": [
    "plt.plot(range(250),x[0].T)"
   ]
  },
  {
   "cell_type": "code",
   "execution_count": 6,
   "metadata": {},
   "outputs": [
    {
     "name": "stdout",
     "output_type": "stream",
     "text": [
      "time: 2.3 s\n"
     ]
    }
   ],
   "source": [
    "model=Sequential()\n",
    "model.add(LSTM(125,input_shape=(1,250),return_sequences=True,dropout=0.1))\n",
    "#model.add(Dropout(0.1))\n",
    "model.add(BatchNormalization())\n",
    "model.add(LSTM(10,input_shape=(x.shape[1:]),return_sequences=True))\n",
    "model.add(Dropout(0.1))\n",
    "model.add(BatchNormalization())\n",
    "model.add(LSTM(125,input_shape=(x.shape[1:]),return_sequences=True))\n",
    "model.add(Dropout(0.1))\n",
    "model.add(BatchNormalization())\n",
    "model.add(Dense(32,activation='linear'))\n",
    "model.add(Dropout(0.2))\n",
    "model.add(Dense(250,activation='linear'))\n",
    "model.compile(Adam(lr=0.001,decay=0.0000001),loss='mse',metrics=['acc'])"
   ]
  },
  {
   "cell_type": "code",
   "execution_count": 7,
   "metadata": {},
   "outputs": [
    {
     "name": "stdout",
     "output_type": "stream",
     "text": [
      "_________________________________________________________________\n",
      "Layer (type)                 Output Shape              Param #   \n",
      "=================================================================\n",
      "lstm_4 (LSTM)                (None, 1, 125)            188000    \n",
      "_________________________________________________________________\n",
      "batch_normalization_4 (Batch (None, 1, 125)            500       \n",
      "_________________________________________________________________\n",
      "lstm_5 (LSTM)                (None, 1, 10)             5440      \n",
      "_________________________________________________________________\n",
      "dropout_5 (Dropout)          (None, 1, 10)             0         \n",
      "_________________________________________________________________\n",
      "batch_normalization_5 (Batch (None, 1, 10)             40        \n",
      "_________________________________________________________________\n",
      "lstm_6 (LSTM)                (None, 1, 125)            68000     \n",
      "_________________________________________________________________\n",
      "dropout_6 (Dropout)          (None, 1, 125)            0         \n",
      "_________________________________________________________________\n",
      "batch_normalization_6 (Batch (None, 1, 125)            500       \n",
      "_________________________________________________________________\n",
      "dense_3 (Dense)              (None, 1, 32)             4032      \n",
      "_________________________________________________________________\n",
      "dropout_7 (Dropout)          (None, 1, 32)             0         \n",
      "_________________________________________________________________\n",
      "dense_4 (Dense)              (None, 1, 250)            8250      \n",
      "=================================================================\n",
      "Total params: 274,762\n",
      "Trainable params: 274,242\n",
      "Non-trainable params: 520\n",
      "_________________________________________________________________\n",
      "time: 1.1 ms\n"
     ]
    }
   ],
   "source": [
    "model.summary()"
   ]
  },
  {
   "cell_type": "code",
   "execution_count": 65,
   "metadata": {},
   "outputs": [
    {
     "name": "stdout",
     "output_type": "stream",
     "text": [
      "Train on 801 samples, validate on 89 samples\n",
      "Epoch 1/20\n",
      "801/801 [==============================] - 7s 9ms/step - loss: 0.1043 - acc: 0.0050 - val_loss: 0.0448 - val_acc: 0.0225\n",
      "Epoch 2/20\n",
      "801/801 [==============================] - 1s 1ms/step - loss: 0.0566 - acc: 0.0025 - val_loss: 0.0369 - val_acc: 0.0449\n",
      "Epoch 3/20\n",
      "801/801 [==============================] - 1s 1ms/step - loss: 0.0459 - acc: 0.0087 - val_loss: 0.0341 - val_acc: 0.0225\n",
      "Epoch 4/20\n",
      "801/801 [==============================] - 1s 1ms/step - loss: 0.0409 - acc: 0.0087 - val_loss: 0.0330 - val_acc: 0.0225\n",
      "Epoch 5/20\n",
      "801/801 [==============================] - 1s 1ms/step - loss: 0.0388 - acc: 0.0125 - val_loss: 0.0315 - val_acc: 0.0225\n",
      "Epoch 6/20\n",
      "801/801 [==============================] - 1s 1ms/step - loss: 0.0359 - acc: 0.0212 - val_loss: 0.0295 - val_acc: 0.0337\n",
      "Epoch 7/20\n",
      "801/801 [==============================] - 1s 1ms/step - loss: 0.0337 - acc: 0.0150 - val_loss: 0.0281 - val_acc: 0.0225\n",
      "Epoch 8/20\n",
      "801/801 [==============================] - 1s 1ms/step - loss: 0.0329 - acc: 0.0212 - val_loss: 0.0276 - val_acc: 0.0225\n",
      "Epoch 9/20\n",
      "801/801 [==============================] - 1s 1ms/step - loss: 0.0320 - acc: 0.0162 - val_loss: 0.0272 - val_acc: 0.0225\n",
      "Epoch 10/20\n",
      "801/801 [==============================] - 1s 1ms/step - loss: 0.0310 - acc: 0.0225 - val_loss: 0.0266 - val_acc: 0.0449\n",
      "Epoch 11/20\n",
      "801/801 [==============================] - 1s 1ms/step - loss: 0.0306 - acc: 0.0287 - val_loss: 0.0263 - val_acc: 0.0337\n",
      "Epoch 12/20\n",
      "801/801 [==============================] - 1s 1ms/step - loss: 0.0297 - acc: 0.0275 - val_loss: 0.0256 - val_acc: 0.0225\n",
      "Epoch 13/20\n",
      "801/801 [==============================] - 1s 1ms/step - loss: 0.0287 - acc: 0.0300 - val_loss: 0.0250 - val_acc: 0.0112\n",
      "Epoch 14/20\n",
      "801/801 [==============================] - 1s 1ms/step - loss: 0.0290 - acc: 0.0300 - val_loss: 0.0251 - val_acc: 0.0225\n",
      "Epoch 15/20\n",
      "801/801 [==============================] - 1s 1ms/step - loss: 0.0284 - acc: 0.0387 - val_loss: 0.0247 - val_acc: 0.0562\n",
      "Epoch 16/20\n",
      "801/801 [==============================] - 1s 1ms/step - loss: 0.0285 - acc: 0.0262 - val_loss: 0.0239 - val_acc: 0.0787\n",
      "Epoch 17/20\n",
      "801/801 [==============================] - 1s 1ms/step - loss: 0.0282 - acc: 0.0237 - val_loss: 0.0237 - val_acc: 0.0562\n",
      "Epoch 18/20\n",
      "801/801 [==============================] - 1s 1ms/step - loss: 0.0287 - acc: 0.0312 - val_loss: 0.0239 - val_acc: 0.1011\n",
      "Epoch 19/20\n",
      "801/801 [==============================] - 1s 1ms/step - loss: 0.0281 - acc: 0.0300 - val_loss: 0.0237 - val_acc: 0.0337\n",
      "Epoch 20/20\n",
      "801/801 [==============================] - 1s 1ms/step - loss: 0.0275 - acc: 0.0225 - val_loss: 0.0232 - val_acc: 0.0225\n"
     ]
    },
    {
     "data": {
      "text/plain": [
       "<keras.callbacks.History at 0x197b13f3f98>"
      ]
     },
     "execution_count": 65,
     "metadata": {},
     "output_type": "execute_result"
    },
    {
     "name": "stdout",
     "output_type": "stream",
     "text": [
      "time: 26 s\n"
     ]
    }
   ],
   "source": [
    "model.fit(x,x,batch_size=10,epochs=20,validation_split=0.1)"
   ]
  },
  {
   "cell_type": "code",
   "execution_count": 28,
   "metadata": {},
   "outputs": [
    {
     "data": {
      "text/plain": [
       "(890, 1, 250)"
      ]
     },
     "execution_count": 28,
     "metadata": {},
     "output_type": "execute_result"
    },
    {
     "name": "stdout",
     "output_type": "stream",
     "text": [
      "time: 602 ms\n"
     ]
    }
   ],
   "source": [
    "output=model.predict(x)\n",
    "output.shape"
   ]
  },
  {
   "cell_type": "code",
   "execution_count": 37,
   "metadata": {},
   "outputs": [
    {
     "data": {
      "text/plain": [
       "<matplotlib.legend.Legend at 0x197f2fe99b0>"
      ]
     },
     "execution_count": 37,
     "metadata": {},
     "output_type": "execute_result"
    },
    {
     "data": {
      "image/png": "[encoded data removed]",
      "text/plain": [
       "<Figure size 432x288 with 1 Axes>"
      ]
     },
     "metadata": {
      "needs_background": "light"
     },
     "output_type": "display_data"
    },
    {
     "name": "stdout",
     "output_type": "stream",
     "text": [
      "time: 153 ms\n"
     ]
    }
   ],
   "source": [
    "import matplotlib.pyplot as plt\n",
    "%matplotlib inline\n",
    "q=11\n",
    "plt.title('LSTM with 10 nodes in hidden Layer')\n",
    "plt.plot(range(250),x[q].T,label='original signal', color='b')\n",
    "plt.plot(range(250),output[q].T,label='Regenerated signal',color='r')\n",
    "plt.xlabel('time')\n",
    "plt.ylabel('Amplitude')\n",
    "plt.legend()"
   ]
  },
  {
   "cell_type": "code",
   "execution_count": 38,
   "metadata": {},
   "outputs": [
    {
     "data": {
      "text/plain": [
       "(890, 1, 10)"
      ]
     },
     "execution_count": 38,
     "metadata": {},
     "output_type": "execute_result"
    },
    {
     "name": "stdout",
     "output_type": "stream",
     "text": [
      "time: 493 ms\n"
     ]
    }
   ],
   "source": [
    "compressed_layer =5\n",
    "get_3rd_layer_output = K.function([model.layers[0].input], [model.layers[compressed_layer].output])\n",
    "compressed = get_3rd_layer_output([x])[0]\n",
    "compressed.shape"
   ]
  },
  {
   "cell_type": "code",
   "execution_count": 24,
   "metadata": {},
   "outputs": [
    {
     "name": "stdout",
     "output_type": "stream",
     "text": [
      "Error in callback <function LineWatcher.stop at 0x00000197C99FE840> (for post_run_cell):\n"
     ]
    },
    {
     "ename": "AssertionError",
     "evalue": "",
     "output_type": "error",
     "traceback": [
      "\u001b[1;31m---------------------------------------------------------------------------\u001b[0m",
      "\u001b[1;31mAssertionError\u001b[0m                            Traceback (most recent call last)",
      "\u001b[1;32m~\\Anaconda3\\envs\\tf-gpu\\lib\\site-packages\\backcall\\backcall.py\u001b[0m in \u001b[0;36madapted\u001b[1;34m(*args, **kwargs)\u001b[0m\n\u001b[0;32m    102\u001b[0m                 \u001b[0mkwargs\u001b[0m\u001b[1;33m.\u001b[0m\u001b[0mpop\u001b[0m\u001b[1;33m(\u001b[0m\u001b[0mname\u001b[0m\u001b[1;33m)\u001b[0m\u001b[1;33m\u001b[0m\u001b[1;33m\u001b[0m\u001b[0m\n\u001b[0;32m    103\u001b[0m \u001b[1;31m#            print(args, kwargs, unmatched_pos, cut_positional, unmatched_kw)\u001b[0m\u001b[1;33m\u001b[0m\u001b[1;33m\u001b[0m\u001b[1;33m\u001b[0m\u001b[0m\n\u001b[1;32m--> 104\u001b[1;33m             \u001b[1;32mreturn\u001b[0m \u001b[0mcallback\u001b[0m\u001b[1;33m(\u001b[0m\u001b[1;33m*\u001b[0m\u001b[0margs\u001b[0m\u001b[1;33m,\u001b[0m \u001b[1;33m**\u001b[0m\u001b[0mkwargs\u001b[0m\u001b[1;33m)\u001b[0m\u001b[1;33m\u001b[0m\u001b[1;33m\u001b[0m\u001b[0m\n\u001b[0m\u001b[0;32m    105\u001b[0m \u001b[1;33m\u001b[0m\u001b[0m\n\u001b[0;32m    106\u001b[0m         \u001b[1;32mreturn\u001b[0m \u001b[0madapted\u001b[0m\u001b[1;33m\u001b[0m\u001b[1;33m\u001b[0m\u001b[0m\n",
      "\u001b[1;32m~\\Anaconda3\\envs\\tf-gpu\\lib\\site-packages\\autotime.py\u001b[0m in \u001b[0;36mstop\u001b[1;34m(self)\u001b[0m\n\u001b[0;32m     23\u001b[0m         \u001b[1;32mif\u001b[0m \u001b[0mself\u001b[0m\u001b[1;33m.\u001b[0m\u001b[0mstart_time\u001b[0m\u001b[1;33m:\u001b[0m\u001b[1;33m\u001b[0m\u001b[1;33m\u001b[0m\u001b[0m\n\u001b[0;32m     24\u001b[0m             \u001b[0mdiff\u001b[0m \u001b[1;33m=\u001b[0m \u001b[0mtime\u001b[0m\u001b[1;33m.\u001b[0m\u001b[0mtime\u001b[0m\u001b[1;33m(\u001b[0m\u001b[1;33m)\u001b[0m \u001b[1;33m-\u001b[0m \u001b[0mself\u001b[0m\u001b[1;33m.\u001b[0m\u001b[0mstart_time\u001b[0m\u001b[1;33m\u001b[0m\u001b[1;33m\u001b[0m\u001b[0m\n\u001b[1;32m---> 25\u001b[1;33m             \u001b[1;32massert\u001b[0m \u001b[0mdiff\u001b[0m \u001b[1;33m>\u001b[0m \u001b[1;36m0\u001b[0m\u001b[1;33m\u001b[0m\u001b[1;33m\u001b[0m\u001b[0m\n\u001b[0m\u001b[0;32m     26\u001b[0m             \u001b[0mprint\u001b[0m\u001b[1;33m(\u001b[0m\u001b[1;34m'time: %s'\u001b[0m \u001b[1;33m%\u001b[0m \u001b[0mformat_delta\u001b[0m\u001b[1;33m(\u001b[0m\u001b[0mdiff\u001b[0m\u001b[1;33m)\u001b[0m\u001b[1;33m)\u001b[0m\u001b[1;33m\u001b[0m\u001b[1;33m\u001b[0m\u001b[0m\n\u001b[0;32m     27\u001b[0m \u001b[1;33m\u001b[0m\u001b[0m\n",
      "\u001b[1;31mAssertionError\u001b[0m: "
     ]
    }
   ],
   "source": [
    "#compressed=compressed.reshape(890,10)\n",
    "#np.savetxt('compressed_data2.csv',compressed,delimiter=',')"
   ]
  },
  {
   "cell_type": "code",
   "execution_count": 25,
   "metadata": {},
   "outputs": [
    {
     "data": {
      "text/plain": [
       "array([[-0.8928635 , -0.5499797 , -0.6057353 ,  1.5017431 , -0.3676236 ,\n",
       "        -0.4083777 ,  1.5245792 ,  0.5982891 , -1.5652094 ,  0.724484  ,\n",
       "        -0.7638117 , -0.63238794,  1.2865012 , -1.4424572 , -0.82352954,\n",
       "         0.06645212,  0.84518135,  0.10937104, -0.82063866, -1.1221565 ,\n",
       "         1.3748603 ,  0.6140957 ,  1.3280815 , -0.60157424, -0.23745938,\n",
       "        -0.15766418, -0.7140187 ,  1.7206243 ,  0.80973345, -0.6809439 ,\n",
       "        -1.0405933 , -0.8202821 ,  1.4369223 ,  0.04178551, -1.1830819 ,\n",
       "         0.77426976,  0.8058206 , -1.4592528 , -0.3603595 , -1.1642668 ,\n",
       "         0.00453028,  0.5682862 , -0.9544932 , -0.3887185 ,  0.39026552,\n",
       "        -0.6693365 , -1.3111098 ,  1.1075126 , -0.48401937,  0.8047327 ]],\n",
       "      dtype=float32)"
      ]
     },
     "execution_count": 25,
     "metadata": {},
     "output_type": "execute_result"
    },
    {
     "name": "stdout",
     "output_type": "stream",
     "text": [
      "time: 3.97 ms\n"
     ]
    }
   ],
   "source": [
    "compressed[2]"
   ]
  },
  {
   "cell_type": "code",
   "execution_count": 48,
   "metadata": {},
   "outputs": [
    {
     "name": "stdout",
     "output_type": "stream",
     "text": [
      "_________________________________________________________________\n",
      "Layer (type)                 Output Shape              Param #   \n",
      "=================================================================\n",
      "lstm_7 (LSTM)                (None, 1, 125)            188000    \n",
      "_________________________________________________________________\n",
      "dropout_9 (Dropout)          (None, 1, 125)            0         \n",
      "_________________________________________________________________\n",
      "batch_normalization_7 (Batch (None, 1, 125)            500       \n",
      "_________________________________________________________________\n",
      "lstm_8 (LSTM)                (None, 1, 10)             5440      \n",
      "_________________________________________________________________\n",
      "dropout_10 (Dropout)         (None, 1, 10)             0         \n",
      "_________________________________________________________________\n",
      "batch_normalization_8 (Batch (None, 1, 10)             40        \n",
      "_________________________________________________________________\n",
      "lstm_9 (LSTM)                (None, 1, 125)            68000     \n",
      "_________________________________________________________________\n",
      "dropout_11 (Dropout)         (None, 1, 125)            0         \n",
      "_________________________________________________________________\n",
      "batch_normalization_9 (Batch (None, 1, 125)            500       \n",
      "_________________________________________________________________\n",
      "dense_5 (Dense)              (None, 1, 32)             4032      \n",
      "_________________________________________________________________\n",
      "dropout_12 (Dropout)         (None, 1, 32)             0         \n",
      "_________________________________________________________________\n",
      "dense_6 (Dense)              (None, 1, 250)            8250      \n",
      "=================================================================\n",
      "Total params: 274,762\n",
      "Trainable params: 274,242\n",
      "Non-trainable params: 520\n",
      "_________________________________________________________________\n",
      "time: 2.99 ms\n"
     ]
    }
   ],
   "source": [
    "model.summary()"
   ]
  },
  {
   "cell_type": "code",
   "execution_count": null,
   "metadata": {},
   "outputs": [],
   "source": []
  }
 ],
 "metadata": {
  "kernelspec": {
   "display_name": "TensorFlow-GPU",
   "language": "python",
   "name": "tf-gpu"
  },
  "language_info": {
   "codemirror_mode": {
    "name": "ipython",
    "version": 3
   },
   "file_extension": ".py",
   "mimetype": "text/x-python",
   "name": "python",
   "nbconvert_exporter": "python",
   "pygments_lexer": "ipython3",
   "version": "3.6.8"
  }
 },
 "nbformat": 4,
 "nbformat_minor": 2
}
