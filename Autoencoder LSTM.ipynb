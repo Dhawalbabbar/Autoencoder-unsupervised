{
 "cells": [
  {
   "cell_type": "code",
   "execution_count": 1,
   "metadata": {},
   "outputs": [
    {
     "name": "stderr",
     "output_type": "stream",
     "text": [
      "Using TensorFlow backend.\n"
     ]
    }
   ],
   "source": [
    "%load_ext autotime\n",
    "import numpy as np\n",
    "from keras.layers import Input, Dense, Conv1D,MaxPooling1D,UpSampling1D ,K,AveragePooling1D ,LSTM,TimeDistributed,RepeatVector\n",
    "from keras.models import Model,Sequential\n",
    "from keras.datasets import mnist\n",
    "import matplotlib.pyplot as plt"
   ]
  },
  {
   "cell_type": "code",
   "execution_count": 13,
   "metadata": {},
   "outputs": [
    {
     "name": "stdout",
     "output_type": "stream",
     "text": [
      "39963.59\n"
     ]
    },
    {
     "data": {
      "text/plain": [
       "(890, 250, 1)"
      ]
     },
     "execution_count": 13,
     "metadata": {},
     "output_type": "execute_result"
    },
    {
     "name": "stdout",
     "output_type": "stream",
     "text": [
      "time: 2.35 s\n"
     ]
    }
   ],
   "source": [
    "a=np.genfromtxt('data_for_clustering.csv', delimiter=',')\n",
    "a=a[:-1]\n",
    "print(a[1])\n",
    "x=a[:250*910]\n",
    "x=x[20*250:]\n",
    "x=x.reshape(-1,250)\n",
    "me=np.mean(x,axis=1)\n",
    "x=(x.T-me).T\n",
    "x=x.reshape(890,250,1)\n",
    "x.shape"
   ]
  },
  {
   "cell_type": "code",
   "execution_count": 28,
   "metadata": {},
   "outputs": [
    {
     "name": "stdout",
     "output_type": "stream",
     "text": [
      "time: 29.9 ms\n"
     ]
    }
   ],
   "source": [
    "n_in=250\n",
    "model = Sequential()\n",
    "model.add(Dense(250,activation='linear'))\n",
    "model.add(LSTM(100, activation='tanh',recurrent_activation='tanh', input_shape=(n_in,1),dropout=0.9))\n",
    "model.add(RepeatVector(n_in))\n",
    "model.add(LSTM(100, activation='tanh',recurrent_activation='tanh', return_sequences=True,dropout=0.9))\n",
    "model.add(TimeDistributed(Dense(1)))\n",
    "model.compile(optimizer='rmsprop', loss='mse')"
   ]
  },
  {
   "cell_type": "code",
   "execution_count": 29,
   "metadata": {},
   "outputs": [
    {
     "name": "stdout",
     "output_type": "stream",
     "text": [
      "Epoch 1/5\n",
      "890/890 [==============================] - 8s 9ms/step - loss: 51813.0817\n",
      "Epoch 2/5\n",
      "890/890 [==============================] - 6s 7ms/step - loss: 51813.4134\n",
      "Epoch 3/5\n",
      "890/890 [==============================] - 6s 7ms/step - loss: 51813.1252\n",
      "Epoch 4/5\n",
      "890/890 [==============================] - 6s 7ms/step - loss: 51813.0546\n",
      "Epoch 5/5\n",
      "890/890 [==============================] - 6s 7ms/step - loss: 51812.7712\n"
     ]
    },
    {
     "data": {
      "text/plain": [
       "<keras.callbacks.History at 0x27f195e15f8>"
      ]
     },
     "execution_count": 29,
     "metadata": {},
     "output_type": "execute_result"
    },
    {
     "name": "stdout",
     "output_type": "stream",
     "text": [
      "time: 34.3 s\n"
     ]
    }
   ],
   "source": [
    "model.fit(x, x, epochs=5, verbose=1,batch_size=100)"
   ]
  },
  {
   "cell_type": "code",
   "execution_count": 21,
   "metadata": {},
   "outputs": [
    {
     "name": "stdout",
     "output_type": "stream",
     "text": [
      "1/1 [==============================] - 0s 280ms/step\n",
      "[-0.01095584 -0.01185102 -0.00408443 -0.00674165 -0.01106482 -0.01636671\n",
      " -0.02167627 -0.02680309 -0.03170771 -0.0363725  -0.04077742 -0.04489771\n",
      " -0.04871526 -0.05222308 -0.05542567 -0.05833631 -0.06097407 -0.06336082\n",
      " -0.06551968 -0.06747309 -0.06924254 -0.07084758 -0.07230584 -0.07363308\n",
      " -0.07484331 -0.07594877 -0.07696033 -0.07788748 -0.0787384  -0.07952058\n",
      " -0.0802405  -0.0809039  -0.08151563 -0.08208052 -0.08260245 -0.08308505\n",
      " -0.08353169 -0.08394501 -0.08432796 -0.08468283 -0.08501189 -0.08531701\n",
      " -0.0856001  -0.08586275 -0.08610663 -0.08633304 -0.08654321 -0.08673839\n",
      " -0.08691981 -0.08708822 -0.08724479 -0.08739031 -0.08752549 -0.08765113\n",
      " -0.087768   -0.08787666 -0.08797768 -0.08807158 -0.08815894 -0.08824025\n",
      " -0.08831585 -0.08838627 -0.08845175 -0.08851273 -0.08856948 -0.08862238\n",
      " -0.08867163 -0.0887175  -0.08876034 -0.08880023 -0.08883748 -0.0888722\n",
      " -0.08890457 -0.08893495 -0.08896326 -0.08898967 -0.08901449 -0.08903767\n",
      " -0.08905935 -0.08907976 -0.08909883 -0.08911688 -0.08913372 -0.08914968\n",
      " -0.08916453 -0.0891787  -0.08919206 -0.08920462 -0.08921646 -0.08922785\n",
      " -0.08923858 -0.08924875 -0.08925839 -0.08926765 -0.08927644 -0.08928492\n",
      " -0.08929295 -0.08930065 -0.08930803 -0.08931521 -0.08932207 -0.08932871\n",
      " -0.08933509 -0.0893413  -0.08934726 -0.08935309 -0.08935876 -0.08936426\n",
      " -0.08936959 -0.08937485 -0.08937997 -0.08938492 -0.08938979 -0.08939458\n",
      " -0.08939926 -0.08940388 -0.08940838 -0.08941282 -0.08941729 -0.08942161\n",
      " -0.08942582 -0.08942999 -0.08943412 -0.08943816 -0.08944222 -0.08944619\n",
      " -0.08945013 -0.08945405 -0.08945784 -0.08946168 -0.08946545 -0.08946916\n",
      " -0.08947276 -0.08947652 -0.08948011 -0.08948369 -0.08948721 -0.08949075\n",
      " -0.08949427 -0.08949769 -0.08950111 -0.08950446 -0.08950781 -0.08951112\n",
      " -0.08951438 -0.08951767 -0.08952091 -0.08952406 -0.08952727 -0.08953038\n",
      " -0.08953347 -0.08953657 -0.08953961 -0.08954261 -0.08954556 -0.08954852\n",
      " -0.08955143 -0.08955432 -0.0895572  -0.08956001 -0.08956284 -0.08956563\n",
      " -0.08956838 -0.08957113 -0.08957376 -0.08957645 -0.08957905 -0.08958168\n",
      " -0.08958421 -0.08958675 -0.08958929 -0.08959173 -0.08959421 -0.08959659\n",
      " -0.08959902 -0.08960138 -0.08960376 -0.08960601 -0.08960833 -0.08961058\n",
      " -0.08961277 -0.08961495 -0.08961716 -0.0896193  -0.0896214  -0.08962344\n",
      " -0.08962557 -0.08962762 -0.0896296  -0.08963159 -0.08963356 -0.08963552\n",
      " -0.08963745 -0.08963933 -0.08964106 -0.08964294 -0.08964474 -0.08964653\n",
      " -0.08964833 -0.08965004 -0.08965171 -0.08965346 -0.08965508 -0.08965672\n",
      " -0.08965834 -0.08965994 -0.08966157 -0.08966308 -0.08966459 -0.08966609\n",
      " -0.08966761 -0.08966907 -0.08967048 -0.08967193 -0.08967339 -0.08967478\n",
      " -0.08967609 -0.08967748 -0.08967877 -0.08968006 -0.08968143 -0.08968262\n",
      " -0.08968382 -0.08968509 -0.08968631 -0.08968753 -0.08968872 -0.08968984\n",
      " -0.08969095 -0.08969212 -0.08969321 -0.08969431 -0.08969542 -0.08969651\n",
      " -0.08969757 -0.08969858 -0.08969959 -0.08970058 -0.08970161 -0.08970254\n",
      " -0.08970347 -0.08970442 -0.08970534 -0.08970628 -0.08970714 -0.08970807\n",
      " -0.08970894 -0.08970975 -0.08971056 -0.08971139]\n",
      "time: 284 ms\n"
     ]
    }
   ],
   "source": [
    "yhat = model.predict([[x[0]]], verbose=1)\n",
    "print(yhat[0,:,0])"
   ]
  },
  {
   "cell_type": "code",
   "execution_count": 23,
   "metadata": {},
   "outputs": [
    {
     "data": {
      "text/plain": [
       "{'name': 'sequential_5',\n",
       " 'layers': [{'class_name': 'Dense',\n",
       "   'config': {'name': 'dense_9',\n",
       "    'trainable': True,\n",
       "    'units': 250,\n",
       "    'activation': 'linear',\n",
       "    'use_bias': True,\n",
       "    'kernel_initializer': {'class_name': 'VarianceScaling',\n",
       "     'config': {'scale': 1.0,\n",
       "      'mode': 'fan_avg',\n",
       "      'distribution': 'uniform',\n",
       "      'seed': None}},\n",
       "    'bias_initializer': {'class_name': 'Zeros', 'config': {}},\n",
       "    'kernel_regularizer': None,\n",
       "    'bias_regularizer': None,\n",
       "    'activity_regularizer': None,\n",
       "    'kernel_constraint': None,\n",
       "    'bias_constraint': None}},\n",
       "  {'class_name': 'LSTM',\n",
       "   'config': {'name': 'lstm_9',\n",
       "    'trainable': True,\n",
       "    'batch_input_shape': (None, 250, 1),\n",
       "    'dtype': 'float32',\n",
       "    'return_sequences': False,\n",
       "    'return_state': False,\n",
       "    'go_backwards': False,\n",
       "    'stateful': False,\n",
       "    'unroll': False,\n",
       "    'units': 100,\n",
       "    'activation': 'tanh',\n",
       "    'recurrent_activation': 'tanh',\n",
       "    'use_bias': True,\n",
       "    'kernel_initializer': {'class_name': 'VarianceScaling',\n",
       "     'config': {'scale': 1.0,\n",
       "      'mode': 'fan_avg',\n",
       "      'distribution': 'uniform',\n",
       "      'seed': None}},\n",
       "    'recurrent_initializer': {'class_name': 'Orthogonal',\n",
       "     'config': {'gain': 1.0, 'seed': None}},\n",
       "    'bias_initializer': {'class_name': 'Zeros', 'config': {}},\n",
       "    'unit_forget_bias': True,\n",
       "    'kernel_regularizer': None,\n",
       "    'recurrent_regularizer': None,\n",
       "    'bias_regularizer': None,\n",
       "    'activity_regularizer': None,\n",
       "    'kernel_constraint': None,\n",
       "    'recurrent_constraint': None,\n",
       "    'bias_constraint': None,\n",
       "    'dropout': 0.1,\n",
       "    'recurrent_dropout': 0.0,\n",
       "    'implementation': 1}},\n",
       "  {'class_name': 'RepeatVector',\n",
       "   'config': {'name': 'repeat_vector_5', 'trainable': True, 'n': 250}},\n",
       "  {'class_name': 'LSTM',\n",
       "   'config': {'name': 'lstm_10',\n",
       "    'trainable': True,\n",
       "    'return_sequences': True,\n",
       "    'return_state': False,\n",
       "    'go_backwards': False,\n",
       "    'stateful': False,\n",
       "    'unroll': False,\n",
       "    'units': 100,\n",
       "    'activation': 'tanh',\n",
       "    'recurrent_activation': 'tanh',\n",
       "    'use_bias': True,\n",
       "    'kernel_initializer': {'class_name': 'VarianceScaling',\n",
       "     'config': {'scale': 1.0,\n",
       "      'mode': 'fan_avg',\n",
       "      'distribution': 'uniform',\n",
       "      'seed': None}},\n",
       "    'recurrent_initializer': {'class_name': 'Orthogonal',\n",
       "     'config': {'gain': 1.0, 'seed': None}},\n",
       "    'bias_initializer': {'class_name': 'Zeros', 'config': {}},\n",
       "    'unit_forget_bias': True,\n",
       "    'kernel_regularizer': None,\n",
       "    'recurrent_regularizer': None,\n",
       "    'bias_regularizer': None,\n",
       "    'activity_regularizer': None,\n",
       "    'kernel_constraint': None,\n",
       "    'recurrent_constraint': None,\n",
       "    'bias_constraint': None,\n",
       "    'dropout': 0.1,\n",
       "    'recurrent_dropout': 0.0,\n",
       "    'implementation': 1}},\n",
       "  {'class_name': 'TimeDistributed',\n",
       "   'config': {'name': 'time_distributed_5',\n",
       "    'trainable': True,\n",
       "    'layer': {'class_name': 'Dense',\n",
       "     'config': {'name': 'dense_10',\n",
       "      'trainable': True,\n",
       "      'units': 1,\n",
       "      'activation': 'linear',\n",
       "      'use_bias': True,\n",
       "      'kernel_initializer': {'class_name': 'VarianceScaling',\n",
       "       'config': {'scale': 1.0,\n",
       "        'mode': 'fan_avg',\n",
       "        'distribution': 'uniform',\n",
       "        'seed': None}},\n",
       "      'bias_initializer': {'class_name': 'Zeros', 'config': {}},\n",
       "      'kernel_regularizer': None,\n",
       "      'bias_regularizer': None,\n",
       "      'activity_regularizer': None,\n",
       "      'kernel_constraint': None,\n",
       "      'bias_constraint': None}}}}],\n",
       " 'build_input_shape': (None, 250, 1)}"
      ]
     },
     "execution_count": 23,
     "metadata": {},
     "output_type": "execute_result"
    },
    {
     "name": "stdout",
     "output_type": "stream",
     "text": [
      "time: 4.97 ms\n"
     ]
    }
   ],
   "source": [
    "model.get_config()"
   ]
  },
  {
   "cell_type": "code",
   "execution_count": null,
   "metadata": {},
   "outputs": [],
   "source": []
  },
  {
   "cell_type": "code",
   "execution_count": null,
   "metadata": {},
   "outputs": [],
   "source": []
  },
  {
   "cell_type": "code",
   "execution_count": null,
   "metadata": {},
   "outputs": [],
   "source": []
  }
 ],
 "metadata": {
  "kernelspec": {
   "display_name": "TensorFlow-GPU",
   "language": "python",
   "name": "tf-gpu"
  },
  "language_info": {
   "codemirror_mode": {
    "name": "ipython",
    "version": 3
   },
   "file_extension": ".py",
   "mimetype": "text/x-python",
   "name": "python",
   "nbconvert_exporter": "python",
   "pygments_lexer": "ipython3",
   "version": "3.6.8"
  }
 },
 "nbformat": 4,
 "nbformat_minor": 2
}
