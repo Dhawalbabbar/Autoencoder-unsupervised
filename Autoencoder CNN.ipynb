{
 "cells": [
  {
   "cell_type": "code",
   "execution_count": 1,
   "metadata": {},
   "outputs": [
    {
     "name": "stderr",
     "output_type": "stream",
     "text": [
      "Using TensorFlow backend.\n"
     ]
    }
   ],
   "source": [
    "%load_ext autotime\n",
    "import numpy as np\n",
    "from keras.layers import Input, Dense, Conv1D,MaxPooling1D,UpSampling1D ,K,AveragePooling1D \n",
    "from keras.models import Model,Sequential\n",
    "from keras.datasets import mnist\n",
    "import matplotlib.pyplot as plt"
   ]
  },
  {
   "cell_type": "code",
   "execution_count": 2,
   "metadata": {},
   "outputs": [
    {
     "name": "stdout",
     "output_type": "stream",
     "text": [
      "39963.59\n"
     ]
    },
    {
     "data": {
      "text/plain": [
       "(890, 250, 1)"
      ]
     },
     "execution_count": 2,
     "metadata": {},
     "output_type": "execute_result"
    },
    {
     "name": "stdout",
     "output_type": "stream",
     "text": [
      "time: 2.49 s\n"
     ]
    }
   ],
   "source": [
    "a=np.genfromtxt('data_for_clustering.csv', delimiter=',')\n",
    "a=a[:-1]\n",
    "print(a[1])\n",
    "x=a[:250*910]\n",
    "x=x[20*250:]\n",
    "x=x.reshape(-1,250)\n",
    "me=np.mean(x,axis=1)\n",
    "x=(x.T-me).T\n",
    "x=x.reshape(890,250,1)\n",
    "x.shape"
   ]
  },
  {
   "cell_type": "code",
   "execution_count": 3,
   "metadata": {},
   "outputs": [
    {
     "name": "stdout",
     "output_type": "stream",
     "text": [
      "WARNING:tensorflow:From C:\\Users\\Babbar\\Anaconda3\\envs\\tf-gpu\\lib\\site-packages\\tensorflow\\python\\framework\\op_def_library.py:263: colocate_with (from tensorflow.python.framework.ops) is deprecated and will be removed in a future version.\n",
      "Instructions for updating:\n",
      "Colocations handled automatically by placer.\n",
      "time: 213 ms\n"
     ]
    }
   ],
   "source": [
    "model=Sequential()\n",
    "pool_size=10\n",
    "#model.add(Dense(250, activation='linear'))\n",
    "model.add(Conv1D(4,10, input_shape=x.shape[1:],activation='linear',padding='same'))\n",
    "model.add(AveragePooling1D(pool_size=(5),padding='same'))\n",
    "\n",
    "model.add(Conv1D(2,10,padding='same',activation='linear'))\n",
    "model.add(AveragePooling1D(pool_size=(5),padding='same'))\n",
    "\n",
    "#model.add(Conv1D(1,5,padding='same',activation='linear'))\n",
    "#model.add(AveragePooling1D(pool_size=(5),padding='same'))\n",
    "\n",
    "#model.add(Conv1D(1,5,padding='same',activation='linear'))\n",
    "#model.add(UpSampling1D(5))\n",
    "\n",
    "model.add(Conv1D(2,10,padding='same',activation='linear'))\n",
    "model.add(UpSampling1D(5))\n",
    "\n",
    "model.add(Conv1D(4,10,padding='same',activation='linear'))\n",
    "model.add(UpSampling1D(5))\n",
    "model.add(Dense(250, activation='linear'))\n",
    "model.add(Conv1D(1,10, padding='same',activation='linear'))\n",
    "\n",
    "\n",
    "model.compile(loss='mse',\n",
    "              optimizer='adam',\n",
    "              metrics=['accuracy'])"
   ]
  },
  {
   "cell_type": "code",
   "execution_count": 4,
   "metadata": {},
   "outputs": [
    {
     "name": "stdout",
     "output_type": "stream",
     "text": [
      "WARNING:tensorflow:From C:\\Users\\Babbar\\Anaconda3\\envs\\tf-gpu\\lib\\site-packages\\tensorflow\\python\\ops\\math_ops.py:3066: to_int32 (from tensorflow.python.ops.math_ops) is deprecated and will be removed in a future version.\n",
      "Instructions for updating:\n",
      "Use tf.cast instead.\n",
      "Epoch 1/50\n",
      "890/890 [==============================] - 5s 5ms/step - loss: 44275.7740 - acc: 0.0000e+00\n",
      "Epoch 2/50\n",
      "890/890 [==============================] - 1s 834us/step - loss: 40306.3872 - acc: 0.0000e+00\n",
      "Epoch 3/50\n",
      "890/890 [==============================] - 1s 835us/step - loss: 39060.4055 - acc: 0.0000e+00\n",
      "Epoch 4/50\n",
      "890/890 [==============================] - 1s 798us/step - loss: 38266.1245 - acc: 0.0000e+00\n",
      "Epoch 5/50\n",
      "890/890 [==============================] - 1s 831us/step - loss: 37375.3788 - acc: 0.0000e+00\n",
      "Epoch 6/50\n",
      "890/890 [==============================] - 1s 891us/step - loss: 35628.5366 - acc: 0.0000e+00\n",
      "Epoch 7/50\n",
      "890/890 [==============================] - 1s 831us/step - loss: 32490.9278 - acc: 0.0000e+00\n",
      "Epoch 8/50\n",
      "890/890 [==============================] - 1s 830us/step - loss: 27965.5679 - acc: 0.0000e+00\n",
      "Epoch 9/50\n",
      "890/890 [==============================] - 1s 879us/step - loss: 24515.3178 - acc: 0.0000e+00\n",
      "Epoch 10/50\n",
      "890/890 [==============================] - 1s 826us/step - loss: 23028.0473 - acc: 4.4944e-06\n",
      "Epoch 11/50\n",
      "890/890 [==============================] - 1s 845us/step - loss: 22372.6341 - acc: 0.0000e+00\n",
      "Epoch 12/50\n",
      "890/890 [==============================] - 1s 793us/step - loss: 21944.5073 - acc: 0.0000e+00\n",
      "Epoch 13/50\n",
      "890/890 [==============================] - 1s 801us/step - loss: 21492.6485 - acc: 4.4944e-06\n",
      "Epoch 14/50\n",
      "890/890 [==============================] - 1s 838us/step - loss: 21139.6246 - acc: 0.0000e+00\n",
      "Epoch 15/50\n",
      "890/890 [==============================] - 1s 900us/step - loss: 20702.7645 - acc: 0.0000e+00\n",
      "Epoch 16/50\n",
      "890/890 [==============================] - 1s 798us/step - loss: 20263.9489 - acc: 4.4944e-06\n",
      "Epoch 17/50\n",
      "890/890 [==============================] - 1s 838us/step - loss: 19889.3708 - acc: 4.4944e-06\n",
      "Epoch 18/50\n",
      "890/890 [==============================] - 1s 807us/step - loss: 19384.7944 - acc: 4.4944e-06\n",
      "Epoch 19/50\n",
      "890/890 [==============================] - 1s 805us/step - loss: 19104.1461 - acc: 0.0000e+00\n",
      "Epoch 20/50\n",
      "890/890 [==============================] - 1s 811us/step - loss: 19045.9885 - acc: 0.0000e+00\n",
      "Epoch 21/50\n",
      "890/890 [==============================] - 1s 811us/step - loss: 18779.1648 - acc: 0.0000e+00\n",
      "Epoch 22/50\n",
      "890/890 [==============================] - 1s 805us/step - loss: 18696.8849 - acc: 0.0000e+00\n",
      "Epoch 23/50\n",
      "890/890 [==============================] - 1s 806us/step - loss: 18867.9118 - acc: 0.0000e+00\n",
      "Epoch 24/50\n",
      "890/890 [==============================] - 1s 798us/step - loss: 18574.0582 - acc: 4.4944e-06\n",
      "Epoch 25/50\n",
      "890/890 [==============================] - 1s 806us/step - loss: 18513.4191 - acc: 0.0000e+00\n",
      "Epoch 26/50\n",
      "890/890 [==============================] - 1s 805us/step - loss: 18474.4919 - acc: 0.0000e+00\n",
      "Epoch 27/50\n",
      "890/890 [==============================] - 1s 790us/step - loss: 18403.2055 - acc: 0.0000e+00\n",
      "Epoch 28/50\n",
      "890/890 [==============================] - 1s 798us/step - loss: 18409.9972 - acc: 0.0000e+00\n",
      "Epoch 29/50\n",
      "890/890 [==============================] - 1s 798us/step - loss: 18440.3965 - acc: 0.0000e+00\n",
      "Epoch 30/50\n",
      "890/890 [==============================] - 1s 796us/step - loss: 18323.2920 - acc: 0.0000e+00\n",
      "Epoch 31/50\n",
      "890/890 [==============================] - 1s 801us/step - loss: 18290.4490 - acc: 0.0000e+00\n",
      "Epoch 32/50\n",
      "890/890 [==============================] - 1s 835us/step - loss: 18253.0971 - acc: 0.0000e+00\n",
      "Epoch 33/50\n",
      "890/890 [==============================] - 1s 795us/step - loss: 18221.4456 - acc: 0.0000e+00\n",
      "Epoch 34/50\n",
      "890/890 [==============================] - 1s 800us/step - loss: 18168.6722 - acc: 0.0000e+00\n",
      "Epoch 35/50\n",
      "890/890 [==============================] - 1s 806us/step - loss: 18198.8396 - acc: 0.0000e+00\n",
      "Epoch 36/50\n",
      "890/890 [==============================] - 1s 791us/step - loss: 18181.8386 - acc: 0.0000e+00\n",
      "Epoch 37/50\n",
      "890/890 [==============================] - 1s 789us/step - loss: 18309.1053 - acc: 0.0000e+00\n",
      "Epoch 38/50\n",
      "890/890 [==============================] - 1s 792us/step - loss: 18077.2905 - acc: 0.0000e+00\n",
      "Epoch 39/50\n",
      "890/890 [==============================] - 1s 796us/step - loss: 18109.2042 - acc: 0.0000e+00\n",
      "Epoch 40/50\n",
      "890/890 [==============================] - 1s 836us/step - loss: 18071.2839 - acc: 0.0000e+00\n",
      "Epoch 41/50\n",
      "890/890 [==============================] - 1s 809us/step - loss: 18048.8648 - acc: 0.0000e+00\n",
      "Epoch 42/50\n",
      "890/890 [==============================] - 1s 857us/step - loss: 18039.4437 - acc: 0.0000e+00\n",
      "Epoch 43/50\n",
      "890/890 [==============================] - 1s 827us/step - loss: 18033.7461 - acc: 0.0000e+00\n",
      "Epoch 44/50\n",
      "890/890 [==============================] - 1s 857us/step - loss: 18152.4081 - acc: 0.0000e+00\n",
      "Epoch 45/50\n",
      "890/890 [==============================] - 1s 809us/step - loss: 18075.4021 - acc: 0.0000e+00\n",
      "Epoch 46/50\n",
      "890/890 [==============================] - 1s 852us/step - loss: 17990.3692 - acc: 0.0000e+00\n",
      "Epoch 47/50\n",
      "890/890 [==============================] - 1s 868us/step - loss: 17970.7570 - acc: 0.0000e+00\n",
      "Epoch 48/50\n",
      "890/890 [==============================] - 1s 786us/step - loss: 18010.4199 - acc: 0.0000e+00\n",
      "Epoch 49/50\n",
      "890/890 [==============================] - 1s 782us/step - loss: 17935.6053 - acc: 0.0000e+00\n",
      "Epoch 50/50\n",
      "890/890 [==============================] - 1s 888us/step - loss: 17984.1299 - acc: 0.0000e+00\n"
     ]
    },
    {
     "data": {
      "text/plain": [
       "<keras.callbacks.History at 0x289aa2499e8>"
      ]
     },
     "execution_count": 4,
     "metadata": {},
     "output_type": "execute_result"
    },
    {
     "name": "stdout",
     "output_type": "stream",
     "text": [
      "time: 41.2 s\n"
     ]
    }
   ],
   "source": [
    "model.fit(x, x, batch_size=10, epochs=50)"
   ]
  },
  {
   "cell_type": "code",
   "execution_count": 5,
   "metadata": {},
   "outputs": [
    {
     "data": {
      "text/plain": [
       "[{'class_name': 'Conv1D',\n",
       "  'config': {'name': 'conv1d_1',\n",
       "   'trainable': True,\n",
       "   'batch_input_shape': (None, 250, 1),\n",
       "   'dtype': 'float32',\n",
       "   'filters': 4,\n",
       "   'kernel_size': (10,),\n",
       "   'strides': (1,),\n",
       "   'padding': 'same',\n",
       "   'data_format': 'channels_last',\n",
       "   'dilation_rate': (1,),\n",
       "   'activation': 'linear',\n",
       "   'use_bias': True,\n",
       "   'kernel_initializer': {'class_name': 'VarianceScaling',\n",
       "    'config': {'scale': 1.0,\n",
       "     'mode': 'fan_avg',\n",
       "     'distribution': 'uniform',\n",
       "     'seed': None}},\n",
       "   'bias_initializer': {'class_name': 'Zeros', 'config': {}},\n",
       "   'kernel_regularizer': None,\n",
       "   'bias_regularizer': None,\n",
       "   'activity_regularizer': None,\n",
       "   'kernel_constraint': None,\n",
       "   'bias_constraint': None}},\n",
       " {'class_name': 'AveragePooling1D',\n",
       "  'config': {'name': 'average_pooling1d_1',\n",
       "   'trainable': True,\n",
       "   'strides': (5,),\n",
       "   'pool_size': (5,),\n",
       "   'padding': 'same',\n",
       "   'data_format': 'channels_last'}},\n",
       " {'class_name': 'Conv1D',\n",
       "  'config': {'name': 'conv1d_2',\n",
       "   'trainable': True,\n",
       "   'filters': 2,\n",
       "   'kernel_size': (10,),\n",
       "   'strides': (1,),\n",
       "   'padding': 'same',\n",
       "   'data_format': 'channels_last',\n",
       "   'dilation_rate': (1,),\n",
       "   'activation': 'linear',\n",
       "   'use_bias': True,\n",
       "   'kernel_initializer': {'class_name': 'VarianceScaling',\n",
       "    'config': {'scale': 1.0,\n",
       "     'mode': 'fan_avg',\n",
       "     'distribution': 'uniform',\n",
       "     'seed': None}},\n",
       "   'bias_initializer': {'class_name': 'Zeros', 'config': {}},\n",
       "   'kernel_regularizer': None,\n",
       "   'bias_regularizer': None,\n",
       "   'activity_regularizer': None,\n",
       "   'kernel_constraint': None,\n",
       "   'bias_constraint': None}},\n",
       " {'class_name': 'AveragePooling1D',\n",
       "  'config': {'name': 'average_pooling1d_2',\n",
       "   'trainable': True,\n",
       "   'strides': (5,),\n",
       "   'pool_size': (5,),\n",
       "   'padding': 'same',\n",
       "   'data_format': 'channels_last'}},\n",
       " {'class_name': 'Conv1D',\n",
       "  'config': {'name': 'conv1d_3',\n",
       "   'trainable': True,\n",
       "   'filters': 2,\n",
       "   'kernel_size': (10,),\n",
       "   'strides': (1,),\n",
       "   'padding': 'same',\n",
       "   'data_format': 'channels_last',\n",
       "   'dilation_rate': (1,),\n",
       "   'activation': 'linear',\n",
       "   'use_bias': True,\n",
       "   'kernel_initializer': {'class_name': 'VarianceScaling',\n",
       "    'config': {'scale': 1.0,\n",
       "     'mode': 'fan_avg',\n",
       "     'distribution': 'uniform',\n",
       "     'seed': None}},\n",
       "   'bias_initializer': {'class_name': 'Zeros', 'config': {}},\n",
       "   'kernel_regularizer': None,\n",
       "   'bias_regularizer': None,\n",
       "   'activity_regularizer': None,\n",
       "   'kernel_constraint': None,\n",
       "   'bias_constraint': None}},\n",
       " {'class_name': 'UpSampling1D',\n",
       "  'config': {'name': 'up_sampling1d_1', 'trainable': True, 'size': 5}},\n",
       " {'class_name': 'Conv1D',\n",
       "  'config': {'name': 'conv1d_4',\n",
       "   'trainable': True,\n",
       "   'filters': 4,\n",
       "   'kernel_size': (10,),\n",
       "   'strides': (1,),\n",
       "   'padding': 'same',\n",
       "   'data_format': 'channels_last',\n",
       "   'dilation_rate': (1,),\n",
       "   'activation': 'linear',\n",
       "   'use_bias': True,\n",
       "   'kernel_initializer': {'class_name': 'VarianceScaling',\n",
       "    'config': {'scale': 1.0,\n",
       "     'mode': 'fan_avg',\n",
       "     'distribution': 'uniform',\n",
       "     'seed': None}},\n",
       "   'bias_initializer': {'class_name': 'Zeros', 'config': {}},\n",
       "   'kernel_regularizer': None,\n",
       "   'bias_regularizer': None,\n",
       "   'activity_regularizer': None,\n",
       "   'kernel_constraint': None,\n",
       "   'bias_constraint': None}},\n",
       " {'class_name': 'UpSampling1D',\n",
       "  'config': {'name': 'up_sampling1d_2', 'trainable': True, 'size': 5}},\n",
       " {'class_name': 'Dense',\n",
       "  'config': {'name': 'dense_1',\n",
       "   'trainable': True,\n",
       "   'units': 250,\n",
       "   'activation': 'linear',\n",
       "   'use_bias': True,\n",
       "   'kernel_initializer': {'class_name': 'VarianceScaling',\n",
       "    'config': {'scale': 1.0,\n",
       "     'mode': 'fan_avg',\n",
       "     'distribution': 'uniform',\n",
       "     'seed': None}},\n",
       "   'bias_initializer': {'class_name': 'Zeros', 'config': {}},\n",
       "   'kernel_regularizer': None,\n",
       "   'bias_regularizer': None,\n",
       "   'activity_regularizer': None,\n",
       "   'kernel_constraint': None,\n",
       "   'bias_constraint': None}},\n",
       " {'class_name': 'Conv1D',\n",
       "  'config': {'name': 'conv1d_5',\n",
       "   'trainable': True,\n",
       "   'filters': 1,\n",
       "   'kernel_size': (10,),\n",
       "   'strides': (1,),\n",
       "   'padding': 'same',\n",
       "   'data_format': 'channels_last',\n",
       "   'dilation_rate': (1,),\n",
       "   'activation': 'linear',\n",
       "   'use_bias': True,\n",
       "   'kernel_initializer': {'class_name': 'VarianceScaling',\n",
       "    'config': {'scale': 1.0,\n",
       "     'mode': 'fan_avg',\n",
       "     'distribution': 'uniform',\n",
       "     'seed': None}},\n",
       "   'bias_initializer': {'class_name': 'Zeros', 'config': {}},\n",
       "   'kernel_regularizer': None,\n",
       "   'bias_regularizer': None,\n",
       "   'activity_regularizer': None,\n",
       "   'kernel_constraint': None,\n",
       "   'bias_constraint': None}}]"
      ]
     },
     "execution_count": 5,
     "metadata": {},
     "output_type": "execute_result"
    },
    {
     "name": "stdout",
     "output_type": "stream",
     "text": [
      "time: 5.96 ms\n"
     ]
    }
   ],
   "source": [
    "model.get_config()['layers']"
   ]
  },
  {
   "cell_type": "code",
   "execution_count": 6,
   "metadata": {},
   "outputs": [
    {
     "name": "stdout",
     "output_type": "stream",
     "text": [
      "time: 82.8 ms\n"
     ]
    }
   ],
   "source": [
    "compressed_layer =3\n",
    "get_3rd_layer_output = K.function([model.layers[0].input], [model.layers[compressed_layer].output])\n",
    "compressed = get_3rd_layer_output([x])[0]"
   ]
  },
  {
   "cell_type": "code",
   "execution_count": 7,
   "metadata": {},
   "outputs": [
    {
     "data": {
      "text/plain": [
       "(10, 2)"
      ]
     },
     "execution_count": 7,
     "metadata": {},
     "output_type": "execute_result"
    },
    {
     "name": "stdout",
     "output_type": "stream",
     "text": [
      "time: 2 ms\n"
     ]
    }
   ],
   "source": [
    "compressed[0].shape"
   ]
  },
  {
   "cell_type": "code",
   "execution_count": 8,
   "metadata": {},
   "outputs": [
    {
     "name": "stdout",
     "output_type": "stream",
     "text": [
      "time: 207 ms\n"
     ]
    }
   ],
   "source": [
    "decoded_output=model.predict(x)"
   ]
  },
  {
   "cell_type": "code",
   "execution_count": 9,
   "metadata": {},
   "outputs": [
    {
     "data": {
      "text/plain": [
       "array([[-7.29799194e+01],\n",
       "       [-1.22004768e+02],\n",
       "       [-1.71493408e+02],\n",
       "       [-2.17806992e+02],\n",
       "       [-3.20966705e+02],\n",
       "       [-2.88303650e+02],\n",
       "       [-2.66253021e+02],\n",
       "       [-2.38690796e+02],\n",
       "       [-2.11015564e+02],\n",
       "       [-1.72397964e+02],\n",
       "       [-1.33988678e+02],\n",
       "       [-9.74002151e+01],\n",
       "       [-6.50422134e+01],\n",
       "       [-3.57819481e+01],\n",
       "       [ 7.86783838e+00],\n",
       "       [ 2.92193241e+01],\n",
       "       [ 4.35110321e+01],\n",
       "       [ 5.54203911e+01],\n",
       "       [ 7.08895493e+01],\n",
       "       [ 1.10565598e+02],\n",
       "       [ 1.63939926e+02],\n",
       "       [ 1.95748016e+02],\n",
       "       [ 2.18790955e+02],\n",
       "       [ 2.46017395e+02],\n",
       "       [ 3.15432220e+02],\n",
       "       [ 2.90783783e+02],\n",
       "       [ 2.82143433e+02],\n",
       "       [ 2.69876617e+02],\n",
       "       [ 2.54723389e+02],\n",
       "       [ 2.35608856e+02],\n",
       "       [ 2.19081696e+02],\n",
       "       [ 1.89044952e+02],\n",
       "       [ 1.62729797e+02],\n",
       "       [ 1.44339737e+02],\n",
       "       [ 1.33913208e+02],\n",
       "       [ 1.30857361e+02],\n",
       "       [ 1.35994690e+02],\n",
       "       [ 1.44403030e+02],\n",
       "       [ 1.61545135e+02],\n",
       "       [ 2.06126389e+02],\n",
       "       [ 2.19255447e+02],\n",
       "       [ 2.42456436e+02],\n",
       "       [ 2.63874664e+02],\n",
       "       [ 2.90216461e+02],\n",
       "       [ 3.56191986e+02],\n",
       "       [ 3.67904785e+02],\n",
       "       [ 3.72697632e+02],\n",
       "       [ 3.76063721e+02],\n",
       "       [ 3.76601166e+02],\n",
       "       [ 3.57361694e+02],\n",
       "       [ 3.11061493e+02],\n",
       "       [ 2.79345398e+02],\n",
       "       [ 2.46878250e+02],\n",
       "       [ 2.15412613e+02],\n",
       "       [ 1.89726685e+02],\n",
       "       [ 1.75296692e+02],\n",
       "       [ 1.62828842e+02],\n",
       "       [ 1.51743027e+02],\n",
       "       [ 1.47560379e+02],\n",
       "       [ 1.52345642e+02],\n",
       "       [ 1.61140228e+02],\n",
       "       [ 1.77000336e+02],\n",
       "       [ 2.00455048e+02],\n",
       "       [ 2.26949112e+02],\n",
       "       [ 2.52966980e+02],\n",
       "       [ 2.79844574e+02],\n",
       "       [ 3.00797424e+02],\n",
       "       [ 3.16948761e+02],\n",
       "       [ 3.27095398e+02],\n",
       "       [ 3.32419556e+02],\n",
       "       [ 3.30108459e+02],\n",
       "       [ 3.11285400e+02],\n",
       "       [ 2.87464813e+02],\n",
       "       [ 2.56927338e+02],\n",
       "       [ 1.94747772e+02],\n",
       "       [ 1.49993332e+02],\n",
       "       [ 1.15650108e+02],\n",
       "       [ 8.05946121e+01],\n",
       "       [ 4.65395584e+01],\n",
       "       [ 2.11623955e+01],\n",
       "       [ 9.82661426e-01],\n",
       "       [-3.34517741e+00],\n",
       "       [-7.44659090e+00],\n",
       "       [-8.87598610e+00],\n",
       "       [-9.18760395e+00],\n",
       "       [-1.57970324e+01],\n",
       "       [-1.35762920e+01],\n",
       "       [-3.22695112e+00],\n",
       "       [ 5.89979982e+00],\n",
       "       [-5.86743212e+00],\n",
       "       [ 9.28677273e+00],\n",
       "       [ 1.61635036e+01],\n",
       "       [ 2.34593010e+01],\n",
       "       [ 2.37117825e+01],\n",
       "       [-7.18943644e+00],\n",
       "       [-3.77054634e+01],\n",
       "       [-5.73495941e+01],\n",
       "       [-7.65314560e+01],\n",
       "       [-1.00501274e+02],\n",
       "       [-1.40527344e+02],\n",
       "       [-1.41054825e+02],\n",
       "       [-1.45546127e+02],\n",
       "       [-1.47821228e+02],\n",
       "       [-1.47915680e+02],\n",
       "       [-1.44541122e+02],\n",
       "       [-1.39257034e+02],\n",
       "       [-1.26590134e+02],\n",
       "       [-1.14600418e+02],\n",
       "       [-1.04456467e+02],\n",
       "       [-9.48482590e+01],\n",
       "       [-8.88147354e+01],\n",
       "       [-8.39208298e+01],\n",
       "       [-7.84084320e+01],\n",
       "       [-7.66900330e+01],\n",
       "       [-8.84029770e+01],\n",
       "       [-8.48614655e+01],\n",
       "       [-8.86694641e+01],\n",
       "       [-9.26609039e+01],\n",
       "       [-1.00388451e+02],\n",
       "       [-1.27901009e+02],\n",
       "       [-1.10770470e+02],\n",
       "       [-1.06776970e+02],\n",
       "       [-1.05605278e+02],\n",
       "       [-1.04613380e+02],\n",
       "       [-9.67986069e+01],\n",
       "       [-9.01184387e+01],\n",
       "       [-8.28941803e+01],\n",
       "       [-7.85759964e+01],\n",
       "       [-7.74717560e+01],\n",
       "       [-7.94575729e+01],\n",
       "       [-9.24766617e+01],\n",
       "       [-1.01938904e+02],\n",
       "       [-1.10827644e+02],\n",
       "       [-1.21872002e+02],\n",
       "       [-1.40750443e+02],\n",
       "       [-1.66967438e+02],\n",
       "       [-1.88761505e+02],\n",
       "       [-2.11471313e+02],\n",
       "       [-2.33312347e+02],\n",
       "       [-2.55684738e+02],\n",
       "       [-2.74443268e+02],\n",
       "       [-2.83873230e+02],\n",
       "       [-2.86296753e+02],\n",
       "       [-2.82721558e+02],\n",
       "       [-2.74432434e+02],\n",
       "       [-3.02491150e+02],\n",
       "       [-2.92724670e+02],\n",
       "       [-2.74340851e+02],\n",
       "       [-2.52673904e+02],\n",
       "       [-2.15441330e+02],\n",
       "       [-1.81206268e+02],\n",
       "       [-1.56725708e+02],\n",
       "       [-1.28231308e+02],\n",
       "       [-9.72252731e+01],\n",
       "       [-7.15166473e+01],\n",
       "       [-4.11219711e+01],\n",
       "       [-2.75847874e+01],\n",
       "       [-1.34924374e+01],\n",
       "       [ 3.11150312e-01],\n",
       "       [ 2.11082478e+01],\n",
       "       [ 5.20203209e+01],\n",
       "       [ 7.29384918e+01],\n",
       "       [ 8.76222992e+01],\n",
       "       [ 1.02219124e+02],\n",
       "       [ 1.36371246e+02],\n",
       "       [ 1.42613953e+02],\n",
       "       [ 1.47365433e+02],\n",
       "       [ 1.46320023e+02],\n",
       "       [ 1.47127518e+02],\n",
       "       [ 1.73670563e+02],\n",
       "       [ 2.08049728e+02],\n",
       "       [ 2.15441025e+02],\n",
       "       [ 2.16555725e+02],\n",
       "       [ 2.19427292e+02],\n",
       "       [ 2.28959183e+02],\n",
       "       [ 1.89964737e+02],\n",
       "       [ 1.66681335e+02],\n",
       "       [ 1.41213028e+02],\n",
       "       [ 1.14783455e+02],\n",
       "       [ 9.01553879e+01],\n",
       "       [ 6.98329773e+01],\n",
       "       [ 4.91298828e+01],\n",
       "       [ 3.16762085e+01],\n",
       "       [ 2.08730412e+01],\n",
       "       [ 1.65621948e+01],\n",
       "       [ 1.27462158e+01],\n",
       "       [ 1.97401924e+01],\n",
       "       [ 3.31755066e+01],\n",
       "       [ 5.13709946e+01],\n",
       "       [ 7.68067169e+01],\n",
       "       [ 9.53091965e+01],\n",
       "       [ 1.15515053e+02],\n",
       "       [ 1.35102753e+02],\n",
       "       [ 1.54640045e+02],\n",
       "       [ 1.84886368e+02],\n",
       "       [ 2.02541641e+02],\n",
       "       [ 2.07800491e+02],\n",
       "       [ 2.10055069e+02],\n",
       "       [ 2.08351089e+02],\n",
       "       [ 1.91439911e+02],\n",
       "       [ 1.60178055e+02],\n",
       "       [ 1.40134705e+02],\n",
       "       [ 1.17241982e+02],\n",
       "       [ 9.26919861e+01],\n",
       "       [ 7.09059753e+01],\n",
       "       [ 4.91387100e+01],\n",
       "       [ 3.34239349e+01],\n",
       "       [ 1.87961273e+01],\n",
       "       [ 7.36373568e+00],\n",
       "       [-4.07123470e+00],\n",
       "       [-1.87999401e+01],\n",
       "       [-2.48713913e+01],\n",
       "       [-2.56173172e+01],\n",
       "       [-2.38891964e+01],\n",
       "       [-2.59694252e+01],\n",
       "       [-2.08348408e+01],\n",
       "       [-1.37928677e+01],\n",
       "       [-4.82108259e+00],\n",
       "       [ 3.47828770e+00],\n",
       "       [ 7.18865108e+00],\n",
       "       [ 3.09529705e+01],\n",
       "       [ 4.01402168e+01],\n",
       "       [ 4.76122932e+01],\n",
       "       [ 5.29261971e+01],\n",
       "       [ 5.02679138e+01],\n",
       "       [ 6.59974442e+01],\n",
       "       [ 7.65968246e+01],\n",
       "       [ 8.19988556e+01],\n",
       "       [ 8.23702240e+01],\n",
       "       [ 8.15372391e+01],\n",
       "       [ 6.59792404e+01],\n",
       "       [ 6.05763245e+01],\n",
       "       [ 5.04436913e+01],\n",
       "       [ 3.36455841e+01],\n",
       "       [-6.44404173e-01],\n",
       "       [-4.22512665e+01],\n",
       "       [-8.61610336e+01],\n",
       "       [-1.32806061e+02],\n",
       "       [-1.80579453e+02],\n",
       "       [-2.43088638e+02],\n",
       "       [-2.83725464e+02],\n",
       "       [-3.14007050e+02],\n",
       "       [-3.36217926e+02],\n",
       "       [-3.55316132e+02],\n",
       "       [-3.92789886e+02],\n",
       "       [-2.55328461e+02],\n",
       "       [-2.03166443e+02],\n",
       "       [-1.55542526e+02],\n",
       "       [-9.97096176e+01],\n",
       "       [-2.83284664e+01]], dtype=float32)"
      ]
     },
     "execution_count": 9,
     "metadata": {},
     "output_type": "execute_result"
    },
    {
     "name": "stdout",
     "output_type": "stream",
     "text": [
      "time: 4.97 ms\n"
     ]
    }
   ],
   "source": [
    "decoded_output[0]"
   ]
  },
  {
   "cell_type": "code",
   "execution_count": 11,
   "metadata": {
    "scrolled": true
   },
   "outputs": [
    {
     "data": {
      "application/vnd.jupyter.widget-view+json": {
       "model_id": "c5832644527f4126af74e1fd20771e4f",
       "version_major": 2,
       "version_minor": 0
      },
      "text/plain": [
       "FigureCanvasNbAgg()"
      ]
     },
     "metadata": {},
     "output_type": "display_data"
    },
    {
     "data": {
      "text/plain": [
       "[<matplotlib.lines.Line2D at 0x289a9a88f60>]"
      ]
     },
     "execution_count": 11,
     "metadata": {},
     "output_type": "execute_result"
    },
    {
     "name": "stdout",
     "output_type": "stream",
     "text": [
      "time: 31.9 ms\n"
     ]
    }
   ],
   "source": [
    "import matplotlib.pyplot as plt\n",
    "%matplotlib widget\n",
    "q=10\n",
    "plt.plot(range(250),x[q],label=1)\n",
    "plt.plot(range(250),decoded_output[q],label=2)"
   ]
  },
  {
   "cell_type": "code",
   "execution_count": 20,
   "metadata": {},
   "outputs": [
    {
     "name": "stdout",
     "output_type": "stream",
     "text": [
      "time: 45.9 ms\n"
     ]
    }
   ],
   "source": [
    "compressed=compressed.reshape(890,20)\n",
    "np.savetxt('compressed_data1.csv',compressed,delimiter=',')"
   ]
  },
  {
   "cell_type": "code",
   "execution_count": 19,
   "metadata": {
    "scrolled": true
   },
   "outputs": [
    {
     "name": "stdout",
     "output_type": "stream",
     "text": [
      "[[[145.64311    89.69908  ]\n",
      "  [ 59.87969   -75.12716  ]\n",
      "  [-47.12908   -18.28421  ]\n",
      "  ...\n",
      "  [-16.267395  -19.610474 ]\n",
      "  [-73.05257   -16.538263 ]\n",
      "  [ -2.4309487 -51.38665  ]]\n",
      "\n",
      " [[-24.813282  -60.113045 ]\n",
      "  [-30.544958   30.06396  ]\n",
      "  [105.22003   -11.0095825]\n",
      "  ...\n",
      "  [-19.988525   89.35518  ]\n",
      "  [ -2.4909637 -41.62992  ]\n",
      "  [ -9.945433  -60.893238 ]]\n",
      "\n",
      " [[ 24.401154  -20.687405 ]\n",
      "  [-23.201563   12.746546 ]\n",
      "  [-73.02566   -24.93848  ]\n",
      "  ...\n",
      "  [ -9.8739195 -61.45342  ]\n",
      "  [-35.201363  -34.90452  ]\n",
      "  [ 11.596093   31.951382 ]]\n",
      "\n",
      " ...\n",
      "\n",
      " [[-23.3797    -51.320454 ]\n",
      "  [ 23.547718    5.016565 ]\n",
      "  [119.63274   -27.92373  ]\n",
      "  ...\n",
      "  [-61.158913  -39.94712  ]\n",
      "  [-41.478436   82.67122  ]\n",
      "  [ -1.2712152 -29.121058 ]]\n",
      "\n",
      " [[-19.346819   30.418798 ]\n",
      "  [-20.674006  -18.746948 ]\n",
      "  [107.348465   20.43299  ]\n",
      "  ...\n",
      "  [-35.73685    24.40514  ]\n",
      "  [ 32.35891    61.52555  ]\n",
      "  [-17.708881  -52.101227 ]]\n",
      "\n",
      " [[-11.90168    -2.028717 ]\n",
      "  [ 18.493996   55.24243  ]\n",
      "  [  7.5473967 -36.094616 ]\n",
      "  ...\n",
      "  [-63.115124    2.8387818]\n",
      "  [ 29.122644   33.094383 ]\n",
      "  [ 18.362934   31.003738 ]]]\n",
      "[[145.64311    89.69908    59.87969   ... -16.538263   -2.4309487\n",
      "  -51.38665  ]\n",
      " [-24.813282  -60.113045  -30.544958  ... -41.62992    -9.945433\n",
      "  -60.893238 ]\n",
      " [ 24.401154  -20.687405  -23.201563  ... -34.90452    11.596093\n",
      "   31.951382 ]\n",
      " ...\n",
      " [-23.3797    -51.320454   23.547718  ...  82.67122    -1.2712152\n",
      "  -29.121058 ]\n",
      " [-19.346819   30.418798  -20.674006  ...  61.52555   -17.708881\n",
      "  -52.101227 ]\n",
      " [-11.90168    -2.028717   18.493996  ...  33.094383   18.362934\n",
      "   31.003738 ]]\n",
      "time: 2.01 ms\n"
     ]
    }
   ],
   "source": [
    "print(compressed)\n",
    "print(compressed.reshape(890,20))"
   ]
  },
  {
   "cell_type": "code",
   "execution_count": null,
   "metadata": {},
   "outputs": [],
   "source": []
  },
  {
   "cell_type": "code",
   "execution_count": null,
   "metadata": {},
   "outputs": [],
   "source": []
  },
  {
   "cell_type": "code",
   "execution_count": null,
   "metadata": {},
   "outputs": [],
   "source": []
  }
 ],
 "metadata": {
  "kernelspec": {
   "display_name": "TensorFlow-GPU",
   "language": "python",
   "name": "tf-gpu"
  },
  "language_info": {
   "codemirror_mode": {
    "name": "ipython",
    "version": 3
   },
   "file_extension": ".py",
   "mimetype": "text/x-python",
   "name": "python",
   "nbconvert_exporter": "python",
   "pygments_lexer": "ipython3",
   "version": "3.6.8"
  }
 },
 "nbformat": 4,
 "nbformat_minor": 2
}
