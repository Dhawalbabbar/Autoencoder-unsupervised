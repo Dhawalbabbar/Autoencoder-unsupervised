{
 "cells": [
  {
   "cell_type": "code",
   "execution_count": 1,
   "metadata": {},
   "outputs": [
    {
     "name": "stderr",
     "output_type": "stream",
     "text": [
      "Using TensorFlow backend.\n"
     ]
    }
   ],
   "source": [
    "%load_ext autotime\n",
    "import numpy as np\n",
    "from keras.layers import Input, Dense, Conv1D,MaxPooling1D,UpSampling1D ,K,AveragePooling1D \n",
    "from keras.models import Model,Sequential\n",
    "from keras.datasets import mnist\n",
    "import matplotlib.pyplot as plt"
   ]
  },
  {
   "cell_type": "code",
   "execution_count": 2,
   "metadata": {},
   "outputs": [
    {
     "name": "stdout",
     "output_type": "stream",
     "text": [
      "39963.59\n"
     ]
    },
    {
     "data": {
      "text/plain": [
       "(890, 250, 1)"
      ]
     },
     "execution_count": 2,
     "metadata": {},
     "output_type": "execute_result"
    },
    {
     "name": "stdout",
     "output_type": "stream",
     "text": [
      "time: 2.41 s\n"
     ]
    }
   ],
   "source": [
    "a=np.genfromtxt('data_for_clustering.csv', delimiter=',')\n",
    "a=a[:-1]\n",
    "print(a[1])\n",
    "x=a[:250*910]\n",
    "x=x[20*250:]\n",
    "x=x.reshape(-1,250)\n",
    "me=np.mean(x,axis=1)\n",
    "x=(x.T-me).T\n",
    "x=x.reshape(890,250,1)\n",
    "x.shape"
   ]
  },
  {
   "cell_type": "code",
   "execution_count": 3,
   "metadata": {},
   "outputs": [
    {
     "name": "stdout",
     "output_type": "stream",
     "text": [
      "WARNING:tensorflow:From C:\\Users\\Babbar\\Anaconda3\\envs\\tf-gpu\\lib\\site-packages\\tensorflow\\python\\framework\\op_def_library.py:263: colocate_with (from tensorflow.python.framework.ops) is deprecated and will be removed in a future version.\n",
      "Instructions for updating:\n",
      "Colocations handled automatically by placer.\n",
      "time: 191 ms\n"
     ]
    }
   ],
   "source": [
    "model=Sequential()\n",
    "pool_size=10\n",
    "#model.add(Dense(250, activation='linear'))\n",
    "model.add(Conv1D(4,10, input_shape=x.shape[1:],activation='linear',padding='same'))\n",
    "model.add(AveragePooling1D(pool_size=(5),padding='same'))\n",
    "\n",
    "model.add(Conv1D(2,10,padding='same',activation='linear'))\n",
    "model.add(AveragePooling1D(pool_size=(5),padding='same'))\n",
    "\n",
    "#model.add(Conv1D(1,5,padding='same',activation='linear'))\n",
    "#model.add(AveragePooling1D(pool_size=(5),padding='same'))\n",
    "\n",
    "#model.add(Conv1D(1,5,padding='same',activation='linear'))\n",
    "#model.add(UpSampling1D(5))\n",
    "\n",
    "model.add(Conv1D(2,10,padding='same',activation='linear'))\n",
    "model.add(UpSampling1D(5))\n",
    "\n",
    "model.add(Conv1D(4,10,padding='same',activation='linear'))\n",
    "model.add(UpSampling1D(5))\n",
    "model.add(Dense(250, activation='linear'))\n",
    "model.add(Conv1D(1,10, padding='same',activation='linear'))\n",
    "\n",
    "\n",
    "model.compile(loss='mse',\n",
    "              optimizer='adam',\n",
    "              metrics=['accuracy'])"
   ]
  },
  {
   "cell_type": "code",
   "execution_count": 4,
   "metadata": {},
   "outputs": [
    {
     "name": "stdout",
     "output_type": "stream",
     "text": [
      "WARNING:tensorflow:From C:\\Users\\Babbar\\Anaconda3\\envs\\tf-gpu\\lib\\site-packages\\tensorflow\\python\\ops\\math_ops.py:3066: to_int32 (from tensorflow.python.ops.math_ops) is deprecated and will be removed in a future version.\n",
      "Instructions for updating:\n",
      "Use tf.cast instead.\n",
      "Epoch 1/50\n",
      "890/890 [==============================] - 4s 4ms/step - loss: 43721.3835 - acc: 0.0000e+00\n",
      "Epoch 2/50\n",
      "890/890 [==============================] - 1s 745us/step - loss: 39760.0277 - acc: 0.0000e+00 0s - loss: 43708.7238 - acc:\n",
      "Epoch 3/50\n",
      "890/890 [==============================] - 1s 737us/step - loss: 37660.0057 - acc: 0.0000e+00\n",
      "Epoch 4/50\n",
      "890/890 [==============================] - 1s 750us/step - loss: 36301.4719 - acc: 0.0000e+00\n",
      "Epoch 5/50\n",
      "890/890 [==============================] - 1s 736us/step - loss: 35519.4986 - acc: 0.0000e+00\n",
      "Epoch 6/50\n",
      "890/890 [==============================] - 1s 742us/step - loss: 34648.8708 - acc: 0.0000e+00\n",
      "Epoch 7/50\n",
      "890/890 [==============================] - 1s 738us/step - loss: 33001.0371 - acc: 0.0000e+00\n",
      "Epoch 8/50\n",
      "890/890 [==============================] - 1s 724us/step - loss: 28726.7161 - acc: 0.0000e+00\n",
      "Epoch 9/50\n",
      "890/890 [==============================] - 1s 737us/step - loss: 24759.7877 - acc: 0.0000e+00\n",
      "Epoch 10/50\n",
      "890/890 [==============================] - 1s 747us/step - loss: 23548.8795 - acc: 0.0000e+00\n",
      "Epoch 11/50\n",
      "890/890 [==============================] - 1s 733us/step - loss: 22773.1760 - acc: 0.0000e+00\n",
      "Epoch 12/50\n",
      "890/890 [==============================] - 1s 728us/step - loss: 22359.7566 - acc: 0.0000e+00\n",
      "Epoch 13/50\n",
      "890/890 [==============================] - 1s 736us/step - loss: 21906.3663 - acc: 0.0000e+00\n",
      "Epoch 14/50\n",
      "890/890 [==============================] - 1s 732us/step - loss: 21674.4495 - acc: 0.0000e+00\n",
      "Epoch 15/50\n",
      "890/890 [==============================] - 1s 742us/step - loss: 21249.5017 - acc: 0.0000e+00\n",
      "Epoch 16/50\n",
      "890/890 [==============================] - 1s 741us/step - loss: 21010.9437 - acc: 0.0000e+00\n",
      "Epoch 17/50\n",
      "890/890 [==============================] - 1s 737us/step - loss: 20611.5533 - acc: 0.0000e+00\n",
      "Epoch 18/50\n",
      "890/890 [==============================] - 1s 738us/step - loss: 20203.4141 - acc: 0.0000e+00\n",
      "Epoch 19/50\n",
      "890/890 [==============================] - 1s 743us/step - loss: 19721.5763 - acc: 4.4944e-06\n",
      "Epoch 20/50\n",
      "890/890 [==============================] - 1s 734us/step - loss: 19107.3483 - acc: 0.0000e+00\n",
      "Epoch 21/50\n",
      "890/890 [==============================] - 1s 751us/step - loss: 18524.4581 - acc: 0.0000e+00\n",
      "Epoch 22/50\n",
      "890/890 [==============================] - 1s 784us/step - loss: 17967.7536 - acc: 0.0000e+00\n",
      "Epoch 23/50\n",
      "890/890 [==============================] - 1s 736us/step - loss: 17501.9848 - acc: 0.0000e+00\n",
      "Epoch 24/50\n",
      "890/890 [==============================] - 1s 789us/step - loss: 17253.6914 - acc: 0.0000e+00\n",
      "Epoch 25/50\n",
      "890/890 [==============================] - 1s 790us/step - loss: 17086.6539 - acc: 0.0000e+00\n",
      "Epoch 26/50\n",
      "890/890 [==============================] - 1s 747us/step - loss: 16981.4911 - acc: 0.0000e+00\n",
      "Epoch 27/50\n",
      "890/890 [==============================] - 1s 773us/step - loss: 16878.9714 - acc: 0.0000e+00\n",
      "Epoch 28/50\n",
      "890/890 [==============================] - 1s 747us/step - loss: 16778.0408 - acc: 0.0000e+00\n",
      "Epoch 29/50\n",
      "890/890 [==============================] - 1s 784us/step - loss: 16730.5408 - acc: 0.0000e+00\n",
      "Epoch 30/50\n",
      "890/890 [==============================] - 1s 741us/step - loss: 16680.6034 - acc: 0.0000e+00\n",
      "Epoch 31/50\n",
      "890/890 [==============================] - 1s 737us/step - loss: 16634.3016 - acc: 0.0000e+00\n",
      "Epoch 32/50\n",
      "890/890 [==============================] - 1s 749us/step - loss: 16610.0404 - acc: 0.0000e+00\n",
      "Epoch 33/50\n",
      "890/890 [==============================] - 1s 745us/step - loss: 16571.4309 - acc: 0.0000e+00\n",
      "Epoch 34/50\n",
      "890/890 [==============================] - 1s 741us/step - loss: 16597.3697 - acc: 0.0000e+00\n",
      "Epoch 35/50\n",
      "890/890 [==============================] - 1s 773us/step - loss: 16523.3993 - acc: 0.0000e+00\n",
      "Epoch 36/50\n",
      "890/890 [==============================] - 1s 756us/step - loss: 16550.4701 - acc: 0.0000e+00\n",
      "Epoch 37/50\n",
      "890/890 [==============================] - 1s 743us/step - loss: 16503.8411 - acc: 0.0000e+00\n",
      "Epoch 38/50\n",
      "890/890 [==============================] - 1s 739us/step - loss: 16520.4605 - acc: 0.0000e+00\n",
      "Epoch 39/50\n",
      "890/890 [==============================] - 1s 749us/step - loss: 16520.2002 - acc: 0.0000e+00\n",
      "Epoch 40/50\n",
      "890/890 [==============================] - 1s 738us/step - loss: 16490.2284 - acc: 0.0000e+00\n",
      "Epoch 41/50\n",
      "890/890 [==============================] - 1s 742us/step - loss: 16538.2848 - acc: 0.0000e+00\n",
      "Epoch 42/50\n",
      "890/890 [==============================] - 1s 743us/step - loss: 16422.5977 - acc: 0.0000e+00\n",
      "Epoch 43/50\n",
      "890/890 [==============================] - 1s 736us/step - loss: 16381.4446 - acc: 0.0000e+00\n",
      "Epoch 44/50\n",
      "890/890 [==============================] - 1s 741us/step - loss: 16449.5916 - acc: 0.0000e+00\n",
      "Epoch 45/50\n",
      "890/890 [==============================] - 1s 738us/step - loss: 16463.9182 - acc: 0.0000e+00\n",
      "Epoch 46/50\n",
      "890/890 [==============================] - 1s 739us/step - loss: 16419.3590 - acc: 0.0000e+00\n",
      "Epoch 47/50\n",
      "890/890 [==============================] - 1s 740us/step - loss: 16392.9269 - acc: 0.0000e+00\n",
      "Epoch 48/50\n",
      "890/890 [==============================] - 1s 736us/step - loss: 16373.3841 - acc: 0.0000e+00\n",
      "Epoch 49/50\n",
      "890/890 [==============================] - 1s 745us/step - loss: 16388.3000 - acc: 0.0000e+00\n",
      "Epoch 50/50\n",
      "890/890 [==============================] - 1s 732us/step - loss: 16400.7908 - acc: 0.0000e+00\n"
     ]
    },
    {
     "data": {
      "text/plain": [
       "<keras.callbacks.History at 0x1c94c4ee5f8>"
      ]
     },
     "execution_count": 4,
     "metadata": {},
     "output_type": "execute_result"
    },
    {
     "name": "stdout",
     "output_type": "stream",
     "text": [
      "time: 36.9 s\n"
     ]
    }
   ],
   "source": [
    "model.fit(x, x, batch_size=10, epochs=50)"
   ]
  },
  {
   "cell_type": "code",
   "execution_count": 5,
   "metadata": {},
   "outputs": [
    {
     "data": {
      "text/plain": [
       "[{'class_name': 'Conv1D',\n",
       "  'config': {'name': 'conv1d_1',\n",
       "   'trainable': True,\n",
       "   'batch_input_shape': (None, 250, 1),\n",
       "   'dtype': 'float32',\n",
       "   'filters': 4,\n",
       "   'kernel_size': (10,),\n",
       "   'strides': (1,),\n",
       "   'padding': 'same',\n",
       "   'data_format': 'channels_last',\n",
       "   'dilation_rate': (1,),\n",
       "   'activation': 'linear',\n",
       "   'use_bias': True,\n",
       "   'kernel_initializer': {'class_name': 'VarianceScaling',\n",
       "    'config': {'scale': 1.0,\n",
       "     'mode': 'fan_avg',\n",
       "     'distribution': 'uniform',\n",
       "     'seed': None}},\n",
       "   'bias_initializer': {'class_name': 'Zeros', 'config': {}},\n",
       "   'kernel_regularizer': None,\n",
       "   'bias_regularizer': None,\n",
       "   'activity_regularizer': None,\n",
       "   'kernel_constraint': None,\n",
       "   'bias_constraint': None}},\n",
       " {'class_name': 'AveragePooling1D',\n",
       "  'config': {'name': 'average_pooling1d_1',\n",
       "   'trainable': True,\n",
       "   'strides': (5,),\n",
       "   'pool_size': (5,),\n",
       "   'padding': 'same',\n",
       "   'data_format': 'channels_last'}},\n",
       " {'class_name': 'Conv1D',\n",
       "  'config': {'name': 'conv1d_2',\n",
       "   'trainable': True,\n",
       "   'filters': 2,\n",
       "   'kernel_size': (10,),\n",
       "   'strides': (1,),\n",
       "   'padding': 'same',\n",
       "   'data_format': 'channels_last',\n",
       "   'dilation_rate': (1,),\n",
       "   'activation': 'linear',\n",
       "   'use_bias': True,\n",
       "   'kernel_initializer': {'class_name': 'VarianceScaling',\n",
       "    'config': {'scale': 1.0,\n",
       "     'mode': 'fan_avg',\n",
       "     'distribution': 'uniform',\n",
       "     'seed': None}},\n",
       "   'bias_initializer': {'class_name': 'Zeros', 'config': {}},\n",
       "   'kernel_regularizer': None,\n",
       "   'bias_regularizer': None,\n",
       "   'activity_regularizer': None,\n",
       "   'kernel_constraint': None,\n",
       "   'bias_constraint': None}},\n",
       " {'class_name': 'AveragePooling1D',\n",
       "  'config': {'name': 'average_pooling1d_2',\n",
       "   'trainable': True,\n",
       "   'strides': (5,),\n",
       "   'pool_size': (5,),\n",
       "   'padding': 'same',\n",
       "   'data_format': 'channels_last'}},\n",
       " {'class_name': 'Conv1D',\n",
       "  'config': {'name': 'conv1d_3',\n",
       "   'trainable': True,\n",
       "   'filters': 2,\n",
       "   'kernel_size': (10,),\n",
       "   'strides': (1,),\n",
       "   'padding': 'same',\n",
       "   'data_format': 'channels_last',\n",
       "   'dilation_rate': (1,),\n",
       "   'activation': 'linear',\n",
       "   'use_bias': True,\n",
       "   'kernel_initializer': {'class_name': 'VarianceScaling',\n",
       "    'config': {'scale': 1.0,\n",
       "     'mode': 'fan_avg',\n",
       "     'distribution': 'uniform',\n",
       "     'seed': None}},\n",
       "   'bias_initializer': {'class_name': 'Zeros', 'config': {}},\n",
       "   'kernel_regularizer': None,\n",
       "   'bias_regularizer': None,\n",
       "   'activity_regularizer': None,\n",
       "   'kernel_constraint': None,\n",
       "   'bias_constraint': None}},\n",
       " {'class_name': 'UpSampling1D',\n",
       "  'config': {'name': 'up_sampling1d_1', 'trainable': True, 'size': 5}},\n",
       " {'class_name': 'Conv1D',\n",
       "  'config': {'name': 'conv1d_4',\n",
       "   'trainable': True,\n",
       "   'filters': 4,\n",
       "   'kernel_size': (10,),\n",
       "   'strides': (1,),\n",
       "   'padding': 'same',\n",
       "   'data_format': 'channels_last',\n",
       "   'dilation_rate': (1,),\n",
       "   'activation': 'linear',\n",
       "   'use_bias': True,\n",
       "   'kernel_initializer': {'class_name': 'VarianceScaling',\n",
       "    'config': {'scale': 1.0,\n",
       "     'mode': 'fan_avg',\n",
       "     'distribution': 'uniform',\n",
       "     'seed': None}},\n",
       "   'bias_initializer': {'class_name': 'Zeros', 'config': {}},\n",
       "   'kernel_regularizer': None,\n",
       "   'bias_regularizer': None,\n",
       "   'activity_regularizer': None,\n",
       "   'kernel_constraint': None,\n",
       "   'bias_constraint': None}},\n",
       " {'class_name': 'UpSampling1D',\n",
       "  'config': {'name': 'up_sampling1d_2', 'trainable': True, 'size': 5}},\n",
       " {'class_name': 'Dense',\n",
       "  'config': {'name': 'dense_1',\n",
       "   'trainable': True,\n",
       "   'units': 250,\n",
       "   'activation': 'linear',\n",
       "   'use_bias': True,\n",
       "   'kernel_initializer': {'class_name': 'VarianceScaling',\n",
       "    'config': {'scale': 1.0,\n",
       "     'mode': 'fan_avg',\n",
       "     'distribution': 'uniform',\n",
       "     'seed': None}},\n",
       "   'bias_initializer': {'class_name': 'Zeros', 'config': {}},\n",
       "   'kernel_regularizer': None,\n",
       "   'bias_regularizer': None,\n",
       "   'activity_regularizer': None,\n",
       "   'kernel_constraint': None,\n",
       "   'bias_constraint': None}},\n",
       " {'class_name': 'Conv1D',\n",
       "  'config': {'name': 'conv1d_5',\n",
       "   'trainable': True,\n",
       "   'filters': 1,\n",
       "   'kernel_size': (10,),\n",
       "   'strides': (1,),\n",
       "   'padding': 'same',\n",
       "   'data_format': 'channels_last',\n",
       "   'dilation_rate': (1,),\n",
       "   'activation': 'linear',\n",
       "   'use_bias': True,\n",
       "   'kernel_initializer': {'class_name': 'VarianceScaling',\n",
       "    'config': {'scale': 1.0,\n",
       "     'mode': 'fan_avg',\n",
       "     'distribution': 'uniform',\n",
       "     'seed': None}},\n",
       "   'bias_initializer': {'class_name': 'Zeros', 'config': {}},\n",
       "   'kernel_regularizer': None,\n",
       "   'bias_regularizer': None,\n",
       "   'activity_regularizer': None,\n",
       "   'kernel_constraint': None,\n",
       "   'bias_constraint': None}}]"
      ]
     },
     "execution_count": 5,
     "metadata": {},
     "output_type": "execute_result"
    },
    {
     "name": "stdout",
     "output_type": "stream",
     "text": [
      "time: 5.98 ms\n"
     ]
    }
   ],
   "source": [
    "model.get_config()['layers']"
   ]
  },
  {
   "cell_type": "code",
   "execution_count": 6,
   "metadata": {},
   "outputs": [
    {
     "name": "stdout",
     "output_type": "stream",
     "text": [
      "time: 77.8 ms\n"
     ]
    }
   ],
   "source": [
    "compressed_layer =3\n",
    "get_3rd_layer_output = K.function([model.layers[0].input], [model.layers[compressed_layer].output])\n",
    "compressed = get_3rd_layer_output([x])[0]"
   ]
  },
  {
   "cell_type": "code",
   "execution_count": 7,
   "metadata": {},
   "outputs": [
    {
     "data": {
      "text/plain": [
       "(10, 2)"
      ]
     },
     "execution_count": 7,
     "metadata": {},
     "output_type": "execute_result"
    },
    {
     "name": "stdout",
     "output_type": "stream",
     "text": [
      "time: 1.99 ms\n"
     ]
    }
   ],
   "source": [
    "compressed[0].shape"
   ]
  },
  {
   "cell_type": "code",
   "execution_count": 8,
   "metadata": {},
   "outputs": [
    {
     "name": "stdout",
     "output_type": "stream",
     "text": [
      "time: 201 ms\n"
     ]
    }
   ],
   "source": [
    "decoded_output=model.predict(x)"
   ]
  },
  {
   "cell_type": "code",
   "execution_count": 9,
   "metadata": {},
   "outputs": [
    {
     "data": {
      "text/plain": [
       "array([[ 4.05657005e+01],\n",
       "       [-8.20600739e+01],\n",
       "       [-2.10922287e+02],\n",
       "       [-3.50361786e+02],\n",
       "       [-5.63355652e+02],\n",
       "       [-5.08743073e+02],\n",
       "       [-4.90126923e+02],\n",
       "       [-4.69976410e+02],\n",
       "       [-4.50183380e+02],\n",
       "       [-4.36209839e+02],\n",
       "       [-3.42351410e+02],\n",
       "       [-3.03859467e+02],\n",
       "       [-2.75226959e+02],\n",
       "       [-2.48889709e+02],\n",
       "       [-1.97938431e+02],\n",
       "       [-1.52152496e+02],\n",
       "       [-1.37334076e+02],\n",
       "       [-1.23450401e+02],\n",
       "       [-1.03766823e+02],\n",
       "       [-6.21914253e+01],\n",
       "       [ 1.14529967e-01],\n",
       "       [ 4.42645149e+01],\n",
       "       [ 8.98021393e+01],\n",
       "       [ 1.35063904e+02],\n",
       "       [ 1.92916199e+02],\n",
       "       [ 2.22169006e+02],\n",
       "       [ 2.37933365e+02],\n",
       "       [ 2.44286957e+02],\n",
       "       [ 2.41638474e+02],\n",
       "       [ 2.40369049e+02],\n",
       "       [ 2.16053848e+02],\n",
       "       [ 1.99991287e+02],\n",
       "       [ 1.79418076e+02],\n",
       "       [ 1.57346939e+02],\n",
       "       [ 1.41442795e+02],\n",
       "       [ 1.29628479e+02],\n",
       "       [ 1.24883667e+02],\n",
       "       [ 1.22511017e+02],\n",
       "       [ 1.23871811e+02],\n",
       "       [ 1.31921234e+02],\n",
       "       [ 1.71658279e+02],\n",
       "       [ 1.94306244e+02],\n",
       "       [ 2.16489502e+02],\n",
       "       [ 2.40015640e+02],\n",
       "       [ 2.71863434e+02],\n",
       "       [ 3.42410645e+02],\n",
       "       [ 3.79020782e+02],\n",
       "       [ 4.08267914e+02],\n",
       "       [ 4.34425964e+02],\n",
       "       [ 4.65890747e+02],\n",
       "       [ 4.22699982e+02],\n",
       "       [ 3.87389648e+02],\n",
       "       [ 3.47341095e+02],\n",
       "       [ 3.03844971e+02],\n",
       "       [ 2.57575531e+02],\n",
       "       [ 2.08768753e+02],\n",
       "       [ 1.82940460e+02],\n",
       "       [ 1.62512039e+02],\n",
       "       [ 1.49304764e+02],\n",
       "       [ 1.52794724e+02],\n",
       "       [ 1.24021561e+02],\n",
       "       [ 1.27779083e+02],\n",
       "       [ 1.44886505e+02],\n",
       "       [ 1.71293213e+02],\n",
       "       [ 2.08749771e+02],\n",
       "       [ 2.31872375e+02],\n",
       "       [ 2.62779694e+02],\n",
       "       [ 2.93512817e+02],\n",
       "       [ 3.19677338e+02],\n",
       "       [ 3.40164032e+02],\n",
       "       [ 3.55374084e+02],\n",
       "       [ 3.53826630e+02],\n",
       "       [ 3.42447266e+02],\n",
       "       [ 3.23519043e+02],\n",
       "       [ 2.86994873e+02],\n",
       "       [ 2.27709000e+02],\n",
       "       [ 1.86165344e+02],\n",
       "       [ 1.44664490e+02],\n",
       "       [ 1.03345726e+02],\n",
       "       [ 5.47683678e+01],\n",
       "       [ 1.70895939e+01],\n",
       "       [-5.31967783e+00],\n",
       "       [-2.03820210e+01],\n",
       "       [-2.84051762e+01],\n",
       "       [-2.95596733e+01],\n",
       "       [-6.53954239e+01],\n",
       "       [-7.06672897e+01],\n",
       "       [-6.47929153e+01],\n",
       "       [-5.14955254e+01],\n",
       "       [-2.88671341e+01],\n",
       "       [-3.57309914e+01],\n",
       "       [-2.38671207e+01],\n",
       "       [-8.70678997e+00],\n",
       "       [ 4.62074471e+00],\n",
       "       [ 1.19333420e+01],\n",
       "       [-6.62220192e+00],\n",
       "       [-2.06293030e+01],\n",
       "       [-3.74965668e+01],\n",
       "       [-5.88937263e+01],\n",
       "       [-9.49233627e+01],\n",
       "       [-1.06498421e+02],\n",
       "       [-1.13140106e+02],\n",
       "       [-1.18322990e+02],\n",
       "       [-1.22230858e+02],\n",
       "       [-1.26998863e+02],\n",
       "       [-1.27536812e+02],\n",
       "       [-1.29676758e+02],\n",
       "       [-1.30294327e+02],\n",
       "       [-1.29941711e+02],\n",
       "       [-1.30985992e+02],\n",
       "       [-1.32236557e+02],\n",
       "       [-1.32728989e+02],\n",
       "       [-1.32580627e+02],\n",
       "       [-1.31701462e+02],\n",
       "       [-1.27714973e+02],\n",
       "       [-1.30897598e+02],\n",
       "       [-1.31491562e+02],\n",
       "       [-1.30823090e+02],\n",
       "       [-1.29316040e+02],\n",
       "       [-1.26903839e+02],\n",
       "       [-1.32143829e+02],\n",
       "       [-1.24536575e+02],\n",
       "       [-1.14050453e+02],\n",
       "       [-1.04891891e+02],\n",
       "       [-9.89422684e+01],\n",
       "       [-8.71028442e+01],\n",
       "       [-7.49978790e+01],\n",
       "       [-6.43156204e+01],\n",
       "       [-5.67377663e+01],\n",
       "       [-5.52826195e+01],\n",
       "       [-5.52264862e+01],\n",
       "       [-6.15248871e+01],\n",
       "       [-7.03502121e+01],\n",
       "       [-8.23194504e+01],\n",
       "       [-1.06470764e+02],\n",
       "       [-1.28675797e+02],\n",
       "       [-1.50253983e+02],\n",
       "       [-1.75001724e+02],\n",
       "       [-2.00729797e+02],\n",
       "       [-2.26240143e+02],\n",
       "       [-2.41284668e+02],\n",
       "       [-2.55727829e+02],\n",
       "       [-2.65162628e+02],\n",
       "       [-2.68491852e+02],\n",
       "       [-2.64410339e+02],\n",
       "       [-2.56210754e+02],\n",
       "       [-2.46516235e+02],\n",
       "       [-2.32108643e+02],\n",
       "       [-2.13882843e+02],\n",
       "       [-1.81618576e+02],\n",
       "       [-1.38905975e+02],\n",
       "       [-1.12995750e+02],\n",
       "       [-8.82921295e+01],\n",
       "       [-6.34754257e+01],\n",
       "       [-2.77081985e+01],\n",
       "       [-5.04372168e+00],\n",
       "       [ 1.24610834e+01],\n",
       "       [ 2.53012371e+01],\n",
       "       [ 3.49451218e+01],\n",
       "       [ 5.03899345e+01],\n",
       "       [ 9.33136902e+01],\n",
       "       [ 1.13566681e+02],\n",
       "       [ 1.28399124e+02],\n",
       "       [ 1.39464417e+02],\n",
       "       [ 1.46012497e+02],\n",
       "       [ 1.74773178e+02],\n",
       "       [ 1.83714493e+02],\n",
       "       [ 1.86228455e+02],\n",
       "       [ 1.85940857e+02],\n",
       "       [ 1.87298599e+02],\n",
       "       [ 2.22273254e+02],\n",
       "       [ 2.34128220e+02],\n",
       "       [ 2.41365250e+02],\n",
       "       [ 2.48492828e+02],\n",
       "       [ 2.58089569e+02],\n",
       "       [ 2.17444153e+02],\n",
       "       [ 1.87422592e+02],\n",
       "       [ 1.55848892e+02],\n",
       "       [ 1.23375153e+02],\n",
       "       [ 8.86082458e+01],\n",
       "       [ 5.61879463e+01],\n",
       "       [ 3.62047348e+01],\n",
       "       [ 2.13978195e+01],\n",
       "       [ 1.23951302e+01],\n",
       "       [ 1.27062254e+01],\n",
       "       [-5.72623634e+00],\n",
       "       [-3.15496230e+00],\n",
       "       [ 8.77121449e+00],\n",
       "       [ 2.78315563e+01],\n",
       "       [ 5.90878334e+01],\n",
       "       [ 7.38972397e+01],\n",
       "       [ 9.50731506e+01],\n",
       "       [ 1.17672379e+02],\n",
       "       [ 1.38608795e+02],\n",
       "       [ 1.58136551e+02],\n",
       "       [ 1.71458389e+02],\n",
       "       [ 1.76930984e+02],\n",
       "       [ 1.77403061e+02],\n",
       "       [ 1.72077133e+02],\n",
       "       [ 1.54220764e+02],\n",
       "       [ 1.25091743e+02],\n",
       "       [ 1.05504417e+02],\n",
       "       [ 8.44565430e+01],\n",
       "       [ 6.16595993e+01],\n",
       "       [ 3.40505753e+01],\n",
       "       [ 8.82919502e+00],\n",
       "       [-9.78174591e+00],\n",
       "       [-2.51262131e+01],\n",
       "       [-3.71378174e+01],\n",
       "       [-4.76702576e+01],\n",
       "       [-7.25084000e+01],\n",
       "       [-8.03645630e+01],\n",
       "       [-8.22093506e+01],\n",
       "       [-7.88468094e+01],\n",
       "       [-6.55522308e+01],\n",
       "       [-6.22982178e+01],\n",
       "       [-5.28423386e+01],\n",
       "       [-3.97887383e+01],\n",
       "       [-2.52036152e+01],\n",
       "       [-8.50956249e+00],\n",
       "       [-1.87064648e+01],\n",
       "       [-8.91963100e+00],\n",
       "       [ 2.02603412e+00],\n",
       "       [ 9.88252354e+00],\n",
       "       [ 1.37501478e+01],\n",
       "       [ 3.04154396e+01],\n",
       "       [ 4.54595337e+01],\n",
       "       [ 5.91677513e+01],\n",
       "       [ 6.89614410e+01],\n",
       "       [ 6.36814651e+01],\n",
       "       [ 6.47016220e+01],\n",
       "       [ 6.75866699e+01],\n",
       "       [ 6.66984406e+01],\n",
       "       [ 6.05683479e+01],\n",
       "       [ 3.74718056e+01],\n",
       "       [-1.77230148e+01],\n",
       "       [-5.80387306e+01],\n",
       "       [-1.02486649e+02],\n",
       "       [-1.52398712e+02],\n",
       "       [-2.24951279e+02],\n",
       "       [-2.91748413e+02],\n",
       "       [-3.36459473e+02],\n",
       "       [-3.76309204e+02],\n",
       "       [-4.13022583e+02],\n",
       "       [-4.57442535e+02],\n",
       "       [-3.14127808e+02],\n",
       "       [-2.52733093e+02],\n",
       "       [-1.93687454e+02],\n",
       "       [-1.29669693e+02],\n",
       "       [-5.60886230e+01]], dtype=float32)"
      ]
     },
     "execution_count": 9,
     "metadata": {},
     "output_type": "execute_result"
    },
    {
     "name": "stdout",
     "output_type": "stream",
     "text": [
      "time: 6.99 ms\n"
     ]
    }
   ],
   "source": [
    "decoded_output[0]"
   ]
  },
  {
   "cell_type": "code",
   "execution_count": 10,
   "metadata": {
    "scrolled": true
   },
   "outputs": [
    {
     "data": {
      "application/vnd.jupyter.widget-view+json": {
       "model_id": "110c0c54c4ed420dabf88ce4a16b7a10",
       "version_major": 2,
       "version_minor": 0
      },
      "text/plain": [
       "FigureCanvasNbAgg()"
      ]
     },
     "metadata": {},
     "output_type": "display_data"
    },
    {
     "data": {
      "text/plain": [
       "[<matplotlib.lines.Line2D at 0x1c94e8869b0>]"
      ]
     },
     "execution_count": 10,
     "metadata": {},
     "output_type": "execute_result"
    },
    {
     "name": "stdout",
     "output_type": "stream",
     "text": [
      "time: 44.9 ms\n"
     ]
    }
   ],
   "source": [
    "import matplotlib.pyplot as plt\n",
    "%matplotlib widget\n",
    "q=700\n",
    "plt.plot(range(250),x[q],label=1)\n",
    "plt.plot(range(250),decoded_output[q],label=2)"
   ]
  },
  {
   "cell_type": "code",
   "execution_count": null,
   "metadata": {},
   "outputs": [],
   "source": []
  },
  {
   "cell_type": "code",
   "execution_count": null,
   "metadata": {},
   "outputs": [],
   "source": []
  },
  {
   "cell_type": "code",
   "execution_count": null,
   "metadata": {},
   "outputs": [],
   "source": []
  },
  {
   "cell_type": "code",
   "execution_count": null,
   "metadata": {},
   "outputs": [],
   "source": []
  },
  {
   "cell_type": "code",
   "execution_count": null,
   "metadata": {},
   "outputs": [],
   "source": []
  }
 ],
 "metadata": {
  "kernelspec": {
   "display_name": "TensorFlow-GPU",
   "language": "python",
   "name": "tf-gpu"
  },
  "language_info": {
   "codemirror_mode": {
    "name": "ipython",
    "version": 3
   },
   "file_extension": ".py",
   "mimetype": "text/x-python",
   "name": "python",
   "nbconvert_exporter": "python",
   "pygments_lexer": "ipython3",
   "version": "3.6.8"
  }
 },
 "nbformat": 4,
 "nbformat_minor": 2
}
