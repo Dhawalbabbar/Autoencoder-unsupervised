{
 "cells": [
  {
   "cell_type": "code",
   "execution_count": 1,
   "metadata": {},
   "outputs": [
    {
     "name": "stderr",
     "output_type": "stream",
     "text": [
      "Using TensorFlow backend.\n"
     ]
    }
   ],
   "source": [
    "%load_ext autotime\n",
    "import numpy as np\n",
    "#include 1D Conv layer, Pooling, sampling and flatten \n",
    "from keras.layers import Input, Dense, Conv1D,MaxPooling1D,UpSampling1D ,K,AveragePooling1D,Flatten\n",
    "from keras.models import Model,Sequential\n",
    "from keras.datasets import mnist\n",
    "import matplotlib.pyplot as plt"
   ]
  },
  {
   "cell_type": "code",
   "execution_count": 6,
   "metadata": {},
   "outputs": [
    {
     "name": "stdout",
     "output_type": "stream",
     "text": [
      "39963.59\n"
     ]
    },
    {
     "data": {
      "text/plain": [
       "(890, 250, 1)"
      ]
     },
     "execution_count": 6,
     "metadata": {},
     "output_type": "execute_result"
    },
    {
     "name": "stdout",
     "output_type": "stream",
     "text": [
      "time: 2.57 s\n"
     ]
    }
   ],
   "source": [
    "a=np.genfromtxt('data_for_clustering.csv', delimiter=',')\n",
    "a=a[:-1]\n",
    "print(a[1])\n",
    "x=a[:250*910]\n",
    "x=x[20*250:]\n",
    "x=x.reshape(-1,250)\n",
    "me=np.mean(x,axis=1)\n",
    "x=(x.T-me).T\n",
    "maxi,mini=np.max(x,axis=1),np.min(x,axis=1)\n",
    "x=(x.T/(maxi-mini)).T\n",
    "x=x.reshape(890,250,1)\n",
    "x.shape"
   ]
  },
  {
   "cell_type": "code",
   "execution_count": 13,
   "metadata": {},
   "outputs": [
    {
     "name": "stdout",
     "output_type": "stream",
     "text": [
      "time: 185 ms\n"
     ]
    }
   ],
   "source": [
    "#keras api method for defining a model\n",
    "model=Sequential()\n",
    "pool_size=10\n",
    "#model.add(Dense(250, activation='linear'))\n",
    "model.add(Conv1D(4,10, input_shape=x.shape[1:],activation='linear',padding='same'))\n",
    "#pooling is done to extract best feature from a window, padiing is done for maintaining the shape\n",
    "model.add(AveragePooling1D(pool_size=(5),padding='same'))\n",
    "\n",
    "model.add(Conv1D(2,10,padding='same',activation='linear'))\n",
    "model.add(AveragePooling1D(pool_size=(5),padding='same'))\n",
    "\n",
    "#model.add(Conv1D(1,5,padding='same',activation='linear'))\n",
    "#model.add(AveragePooling1D(pool_size=(5),padding='same'))\n",
    "\n",
    "#model.add(Conv1D(1,5,padding='same',activation='linear'))\n",
    "#model.add(UpSampling1D(5))\n",
    "\n",
    "model.add(Conv1D(2,10,padding='same',activation='linear'))\n",
    "model.add(UpSampling1D(5))\n",
    "\n",
    "model.add(Conv1D(4,10,padding='same',activation='linear'))\n",
    "model.add(UpSampling1D(5))\n",
    "#model.add(Flatten())\n",
    "\n",
    "model.add(Conv1D(1,10, padding='same',activation='linear'))\n",
    "model.add(Dense(1, activation='linear'))\n",
    "\n",
    "model.compile(loss='mse',\n",
    "              optimizer='adam',\n",
    "              metrics=['accuracy'])"
   ]
  },
  {
   "cell_type": "code",
   "execution_count": 14,
   "metadata": {},
   "outputs": [
    {
     "name": "stdout",
     "output_type": "stream",
     "text": [
      "Epoch 1/50\n",
      "890/890 [==============================] - 1s 2ms/step - loss: 0.0434 - acc: 0.0000e+00\n",
      "Epoch 2/50\n",
      "890/890 [==============================] - 1s 916us/step - loss: 0.0398 - acc: 0.0000e+00\n",
      "Epoch 3/50\n",
      "890/890 [==============================] - 1s 908us/step - loss: 0.0391 - acc: 0.0000e+00\n",
      "Epoch 4/50\n",
      "890/890 [==============================] - 1s 933us/step - loss: 0.0388 - acc: 0.0000e+00\n",
      "Epoch 5/50\n",
      "890/890 [==============================] - 1s 949us/step - loss: 0.0382 - acc: 0.0000e+00\n",
      "Epoch 6/50\n",
      "890/890 [==============================] - 1s 929us/step - loss: 0.0356 - acc: 0.0000e+00\n",
      "Epoch 7/50\n",
      "890/890 [==============================] - 1s 947us/step - loss: 0.0312 - acc: 0.0000e+00\n",
      "Epoch 8/50\n",
      "890/890 [==============================] - 1s 919us/step - loss: 0.0256 - acc: 0.0000e+00\n",
      "Epoch 9/50\n",
      "890/890 [==============================] - 1s 921us/step - loss: 0.0230 - acc: 0.0000e+00\n",
      "Epoch 10/50\n",
      "890/890 [==============================] - 1s 949us/step - loss: 0.0208 - acc: 0.0000e+00\n",
      "Epoch 11/50\n",
      "890/890 [==============================] - 1s 921us/step - loss: 0.0192 - acc: 0.0000e+00\n",
      "Epoch 12/50\n",
      "890/890 [==============================] - 1s 930us/step - loss: 0.0185 - acc: 0.0000e+00\n",
      "Epoch 13/50\n",
      "890/890 [==============================] - 1s 964us/step - loss: 0.0180 - acc: 0.0000e+00\n",
      "Epoch 14/50\n",
      "890/890 [==============================] - 1s 948us/step - loss: 0.0177 - acc: 0.0000e+00\n",
      "Epoch 15/50\n",
      "890/890 [==============================] - 1s 938us/step - loss: 0.0174 - acc: 0.0000e+00\n",
      "Epoch 16/50\n",
      "890/890 [==============================] - 1s 955us/step - loss: 0.0173 - acc: 0.0000e+00\n",
      "Epoch 17/50\n",
      "890/890 [==============================] - 1s 967us/step - loss: 0.0172 - acc: 0.0000e+00\n",
      "Epoch 18/50\n",
      "890/890 [==============================] - 1s 921us/step - loss: 0.0172 - acc: 0.0000e+00\n",
      "Epoch 19/50\n",
      "890/890 [==============================] - 1s 929us/step - loss: 0.0171 - acc: 0.0000e+00\n",
      "Epoch 20/50\n",
      "890/890 [==============================] - 1s 918us/step - loss: 0.0170 - acc: 0.0000e+00\n",
      "Epoch 21/50\n",
      "890/890 [==============================] - 1s 919us/step - loss: 0.0170 - acc: 0.0000e+00\n",
      "Epoch 22/50\n",
      "890/890 [==============================] - 1s 945us/step - loss: 0.0170 - acc: 0.0000e+00\n",
      "Epoch 23/50\n",
      "890/890 [==============================] - 1s 928us/step - loss: 0.0170 - acc: 0.0000e+00\n",
      "Epoch 24/50\n",
      "890/890 [==============================] - 1s 931us/step - loss: 0.0169 - acc: 0.0000e+00\n",
      "Epoch 25/50\n",
      "890/890 [==============================] - 1s 929us/step - loss: 0.0169 - acc: 0.0000e+00\n",
      "Epoch 26/50\n",
      "890/890 [==============================] - 1s 931us/step - loss: 0.0169 - acc: 0.0000e+00\n",
      "Epoch 27/50\n",
      "890/890 [==============================] - 1s 933us/step - loss: 0.0169 - acc: 0.0000e+00\n",
      "Epoch 28/50\n",
      "890/890 [==============================] - 1s 964us/step - loss: 0.0169 - acc: 0.0000e+00\n",
      "Epoch 29/50\n",
      "890/890 [==============================] - 1s 930us/step - loss: 0.0169 - acc: 0.0000e+00\n",
      "Epoch 30/50\n",
      "890/890 [==============================] - 1s 954us/step - loss: 0.0168 - acc: 0.0000e+00\n",
      "Epoch 31/50\n",
      "890/890 [==============================] - 1s 951us/step - loss: 0.0168 - acc: 0.0000e+00\n",
      "Epoch 32/50\n",
      "890/890 [==============================] - 1s 947us/step - loss: 0.0168 - acc: 0.0000e+00\n",
      "Epoch 33/50\n",
      "890/890 [==============================] - 1s 946us/step - loss: 0.0168 - acc: 0.0000e+00\n",
      "Epoch 34/50\n",
      "890/890 [==============================] - 1s 927us/step - loss: 0.0168 - acc: 0.0000e+00\n",
      "Epoch 35/50\n",
      "890/890 [==============================] - 1s 930us/step - loss: 0.0168 - acc: 0.0000e+00\n",
      "Epoch 36/50\n",
      "890/890 [==============================] - 1s 944us/step - loss: 0.0168 - acc: 0.0000e+00\n",
      "Epoch 37/50\n",
      "890/890 [==============================] - 1s 937us/step - loss: 0.0168 - acc: 0.0000e+00\n",
      "Epoch 38/50\n",
      "890/890 [==============================] - 1s 941us/step - loss: 0.0168 - acc: 0.0000e+00\n",
      "Epoch 39/50\n",
      "890/890 [==============================] - 1s 924us/step - loss: 0.0168 - acc: 0.0000e+00\n",
      "Epoch 40/50\n",
      "890/890 [==============================] - 1s 933us/step - loss: 0.0167 - acc: 0.0000e+00\n",
      "Epoch 41/50\n",
      "890/890 [==============================] - 1s 928us/step - loss: 0.0167 - acc: 0.0000e+00\n",
      "Epoch 42/50\n",
      "890/890 [==============================] - 1s 955us/step - loss: 0.0168 - acc: 0.0000e+00\n",
      "Epoch 43/50\n",
      "890/890 [==============================] - 1s 936us/step - loss: 0.0168 - acc: 0.0000e+00\n",
      "Epoch 44/50\n",
      "890/890 [==============================] - 1s 936us/step - loss: 0.0167 - acc: 0.0000e+00\n",
      "Epoch 45/50\n",
      "890/890 [==============================] - 1s 935us/step - loss: 0.0168 - acc: 0.0000e+00\n",
      "Epoch 46/50\n",
      "890/890 [==============================] - 1s 931us/step - loss: 0.0167 - acc: 0.0000e+00\n",
      "Epoch 47/50\n",
      "890/890 [==============================] - 1s 937us/step - loss: 0.0167 - acc: 0.0000e+00\n",
      "Epoch 48/50\n",
      "890/890 [==============================] - 1s 986us/step - loss: 0.0167 - acc: 0.0000e+00\n",
      "Epoch 49/50\n",
      "890/890 [==============================] - 1s 985us/step - loss: 0.0167 - acc: 0.0000e+00\n",
      "Epoch 50/50\n",
      "890/890 [==============================] - 1s 926us/step - loss: 0.0167 - acc: 0.0000e+00\n"
     ]
    },
    {
     "data": {
      "text/plain": [
       "<keras.callbacks.History at 0x1d8370bd7f0>"
      ]
     },
     "execution_count": 14,
     "metadata": {},
     "output_type": "execute_result"
    },
    {
     "name": "stdout",
     "output_type": "stream",
     "text": [
      "time: 43 s\n"
     ]
    }
   ],
   "source": [
    "model.fit(x, x, batch_size=10, epochs=50)"
   ]
  },
  {
   "cell_type": "code",
   "execution_count": 16,
   "metadata": {},
   "outputs": [
    {
     "name": "stdout",
     "output_type": "stream",
     "text": [
      "_________________________________________________________________\n",
      "Layer (type)                 Output Shape              Param #   \n",
      "=================================================================\n",
      "conv1d_16 (Conv1D)           (None, 250, 4)            44        \n",
      "_________________________________________________________________\n",
      "average_pooling1d_7 (Average (None, 50, 4)             0         \n",
      "_________________________________________________________________\n",
      "conv1d_17 (Conv1D)           (None, 50, 2)             82        \n",
      "_________________________________________________________________\n",
      "average_pooling1d_8 (Average (None, 10, 2)             0         \n",
      "_________________________________________________________________\n",
      "conv1d_18 (Conv1D)           (None, 10, 2)             42        \n",
      "_________________________________________________________________\n",
      "up_sampling1d_7 (UpSampling1 (None, 50, 2)             0         \n",
      "_________________________________________________________________\n",
      "conv1d_19 (Conv1D)           (None, 50, 4)             84        \n",
      "_________________________________________________________________\n",
      "up_sampling1d_8 (UpSampling1 (None, 250, 4)            0         \n",
      "_________________________________________________________________\n",
      "conv1d_20 (Conv1D)           (None, 250, 1)            41        \n",
      "_________________________________________________________________\n",
      "dense_2 (Dense)              (None, 250, 1)            2         \n",
      "=================================================================\n",
      "Total params: 295\n",
      "Trainable params: 295\n",
      "Non-trainable params: 0\n",
      "_________________________________________________________________\n",
      "time: 1.97 ms\n"
     ]
    }
   ],
   "source": [
    "model.summary()"
   ]
  },
  {
   "cell_type": "code",
   "execution_count": 17,
   "metadata": {},
   "outputs": [
    {
     "name": "stdout",
     "output_type": "stream",
     "text": [
      "time: 109 ms\n"
     ]
    }
   ],
   "source": [
    "#getting the conpressed layer\n",
    "compressed_layer =3\n",
    "get_3rd_layer_output = K.function([model.layers[0].input], [model.layers[compressed_layer].output])\n",
    "compressed = get_3rd_layer_output([x])[0]"
   ]
  },
  {
   "cell_type": "code",
   "execution_count": 18,
   "metadata": {},
   "outputs": [
    {
     "data": {
      "text/plain": [
       "(10, 2)"
      ]
     },
     "execution_count": 18,
     "metadata": {},
     "output_type": "execute_result"
    },
    {
     "name": "stdout",
     "output_type": "stream",
     "text": [
      "time: 2 ms\n"
     ]
    }
   ],
   "source": [
    "compressed[0].shape"
   ]
  },
  {
   "cell_type": "code",
   "execution_count": 19,
   "metadata": {},
   "outputs": [
    {
     "name": "stdout",
     "output_type": "stream",
     "text": [
      "time: 195 ms\n"
     ]
    }
   ],
   "source": [
    "decoded_output=model.predict(x)"
   ]
  },
  {
   "cell_type": "code",
   "execution_count": 20,
   "metadata": {},
   "outputs": [
    {
     "data": {
      "text/plain": [
       "array([[ 0.06984969],\n",
       "       [-0.05003847],\n",
       "       [-0.1457158 ],\n",
       "       [-0.29288182],\n",
       "       [-0.66052103],\n",
       "       [-0.6447773 ],\n",
       "       [-0.6319529 ],\n",
       "       [-0.5895334 ],\n",
       "       [-0.57590514],\n",
       "       [-0.5012279 ],\n",
       "       [-0.4689567 ],\n",
       "       [-0.42702207],\n",
       "       [-0.3722198 ],\n",
       "       [-0.31731763],\n",
       "       [-0.23628214],\n",
       "       [-0.21145715],\n",
       "       [-0.15591456],\n",
       "       [-0.10459775],\n",
       "       [-0.08243242],\n",
       "       [-0.03501341],\n",
       "       [ 0.03217958],\n",
       "       [ 0.05926361],\n",
       "       [ 0.11693542],\n",
       "       [ 0.17196524],\n",
       "       [ 0.20865695],\n",
       "       [ 0.302539  ],\n",
       "       [ 0.33272085],\n",
       "       [ 0.36222866],\n",
       "       [ 0.34249562],\n",
       "       [ 0.33513448],\n",
       "       [ 0.32732683],\n",
       "       [ 0.27797502],\n",
       "       [ 0.26470694],\n",
       "       [ 0.21365127],\n",
       "       [ 0.19658715],\n",
       "       [ 0.1476337 ],\n",
       "       [ 0.09658307],\n",
       "       [ 0.0995782 ],\n",
       "       [ 0.05973627],\n",
       "       [ 0.05727266],\n",
       "       [ 0.08767699],\n",
       "       [ 0.09126313],\n",
       "       [ 0.1432001 ],\n",
       "       [ 0.16272703],\n",
       "       [ 0.2271585 ],\n",
       "       [ 0.32264826],\n",
       "       [ 0.40592545],\n",
       "       [ 0.45252013],\n",
       "       [ 0.5188916 ],\n",
       "       [ 0.6126757 ],\n",
       "       [ 0.5776357 ],\n",
       "       [ 0.52226335],\n",
       "       [ 0.47911558],\n",
       "       [ 0.4087134 ],\n",
       "       [ 0.35564142],\n",
       "       [ 0.28155747],\n",
       "       [ 0.23410794],\n",
       "       [ 0.19242555],\n",
       "       [ 0.1596936 ],\n",
       "       [ 0.13891803],\n",
       "       [ 0.10136888],\n",
       "       [ 0.10258395],\n",
       "       [ 0.11089318],\n",
       "       [ 0.12830846],\n",
       "       [ 0.14610112],\n",
       "       [ 0.1960388 ],\n",
       "       [ 0.22884999],\n",
       "       [ 0.25445387],\n",
       "       [ 0.3096344 ],\n",
       "       [ 0.35195193],\n",
       "       [ 0.391143  ],\n",
       "       [ 0.4106459 ],\n",
       "       [ 0.40561002],\n",
       "       [ 0.39331916],\n",
       "       [ 0.3923612 ],\n",
       "       [ 0.28524157],\n",
       "       [ 0.21339172],\n",
       "       [ 0.15312351],\n",
       "       [ 0.09665847],\n",
       "       [ 0.05190273],\n",
       "       [-0.02368854],\n",
       "       [-0.04905953],\n",
       "       [-0.09418217],\n",
       "       [-0.10750548],\n",
       "       [-0.12705547],\n",
       "       [-0.14684787],\n",
       "       [-0.1324246 ],\n",
       "       [-0.13607837],\n",
       "       [-0.10533999],\n",
       "       [-0.08437779],\n",
       "       [-0.06226045],\n",
       "       [-0.0307956 ],\n",
       "       [-0.032276  ],\n",
       "       [ 0.00870496],\n",
       "       [ 0.02926943],\n",
       "       [ 0.03622979],\n",
       "       [ 0.01692823],\n",
       "       [ 0.00128963],\n",
       "       [-0.03707375],\n",
       "       [-0.08542489],\n",
       "       [-0.11237907],\n",
       "       [-0.12494392],\n",
       "       [-0.1355205 ],\n",
       "       [-0.13882524],\n",
       "       [-0.13988578],\n",
       "       [-0.14899379],\n",
       "       [-0.14696753],\n",
       "       [-0.14989868],\n",
       "       [-0.14625607],\n",
       "       [-0.14289448],\n",
       "       [-0.13916838],\n",
       "       [-0.13028374],\n",
       "       [-0.12827922],\n",
       "       [-0.11692619],\n",
       "       [-0.10823106],\n",
       "       [-0.10753369],\n",
       "       [-0.09979334],\n",
       "       [-0.10183948],\n",
       "       [-0.09696729],\n",
       "       [-0.09653188],\n",
       "       [-0.11580307],\n",
       "       [-0.12216266],\n",
       "       [-0.1112041 ],\n",
       "       [-0.10397028],\n",
       "       [-0.09061003],\n",
       "       [-0.08362569],\n",
       "       [-0.0584897 ],\n",
       "       [-0.0413674 ],\n",
       "       [-0.02523286],\n",
       "       [-0.01935664],\n",
       "       [-0.00683876],\n",
       "       [-0.01149067],\n",
       "       [-0.02775732],\n",
       "       [-0.04388198],\n",
       "       [-0.07482436],\n",
       "       [-0.09511404],\n",
       "       [-0.14175934],\n",
       "       [-0.17624682],\n",
       "       [-0.22109886],\n",
       "       [-0.25034782],\n",
       "       [-0.28631204],\n",
       "       [-0.3138064 ],\n",
       "       [-0.32533315],\n",
       "       [-0.3535175 ],\n",
       "       [-0.34921545],\n",
       "       [-0.32340586],\n",
       "       [-0.30985248],\n",
       "       [-0.2912847 ],\n",
       "       [-0.2756837 ],\n",
       "       [-0.26356852],\n",
       "       [-0.16841692],\n",
       "       [-0.12381443],\n",
       "       [-0.08309686],\n",
       "       [-0.05466148],\n",
       "       [-0.02610772],\n",
       "       [ 0.02127003],\n",
       "       [ 0.0330449 ],\n",
       "       [ 0.07419629],\n",
       "       [ 0.0836352 ],\n",
       "       [ 0.11393032],\n",
       "       [ 0.13124283],\n",
       "       [ 0.1386819 ],\n",
       "       [ 0.16330728],\n",
       "       [ 0.15975411],\n",
       "       [ 0.16167465],\n",
       "       [ 0.17344764],\n",
       "       [ 0.16760536],\n",
       "       [ 0.18654211],\n",
       "       [ 0.17718229],\n",
       "       [ 0.17245306],\n",
       "       [ 0.19835779],\n",
       "       [ 0.22180587],\n",
       "       [ 0.23356049],\n",
       "       [ 0.25773743],\n",
       "       [ 0.29069525],\n",
       "       [ 0.249356  ],\n",
       "       [ 0.20819823],\n",
       "       [ 0.17614718],\n",
       "       [ 0.1337229 ],\n",
       "       [ 0.10571019],\n",
       "       [ 0.05494119],\n",
       "       [ 0.02719759],\n",
       "       [ 0.00172612],\n",
       "       [-0.01632587],\n",
       "       [-0.02215175],\n",
       "       [-0.04169048],\n",
       "       [-0.03407624],\n",
       "       [-0.02459463],\n",
       "       [-0.00363923],\n",
       "       [ 0.0193671 ],\n",
       "       [ 0.05130435],\n",
       "       [ 0.08082266],\n",
       "       [ 0.09976888],\n",
       "       [ 0.13819915],\n",
       "       [ 0.17019133],\n",
       "       [ 0.20655169],\n",
       "       [ 0.2168171 ],\n",
       "       [ 0.22183022],\n",
       "       [ 0.21513705],\n",
       "       [ 0.20965745],\n",
       "       [ 0.16567583],\n",
       "       [ 0.1313206 ],\n",
       "       [ 0.10362054],\n",
       "       [ 0.07038128],\n",
       "       [ 0.04735967],\n",
       "       [ 0.00447463],\n",
       "       [-0.01789843],\n",
       "       [-0.04336329],\n",
       "       [-0.05930796],\n",
       "       [-0.06939988],\n",
       "       [-0.0875967 ],\n",
       "       [-0.08659603],\n",
       "       [-0.08530851],\n",
       "       [-0.07241469],\n",
       "       [-0.05678699],\n",
       "       [-0.03780933],\n",
       "       [-0.01660621],\n",
       "       [-0.00540377],\n",
       "       [ 0.02213184],\n",
       "       [ 0.04783464],\n",
       "       [-0.00784677],\n",
       "       [-0.00297103],\n",
       "       [-0.00636169],\n",
       "       [ 0.01212767],\n",
       "       [ 0.04718279],\n",
       "       [ 0.02062264],\n",
       "       [ 0.04026274],\n",
       "       [ 0.04649783],\n",
       "       [ 0.0694968 ],\n",
       "       [ 0.0604607 ],\n",
       "       [ 0.08176555],\n",
       "       [ 0.09985068],\n",
       "       [ 0.07348941],\n",
       "       [ 0.07635419],\n",
       "       [ 0.01759171],\n",
       "       [ 0.00703373],\n",
       "       [-0.04332942],\n",
       "       [-0.11091976],\n",
       "       [-0.17201412],\n",
       "       [-0.24319473],\n",
       "       [-0.31781316],\n",
       "       [-0.3806518 ],\n",
       "       [-0.44429418],\n",
       "       [-0.5039285 ],\n",
       "       [-0.55480266],\n",
       "       [-0.35678968],\n",
       "       [-0.26329297],\n",
       "       [-0.18489613],\n",
       "       [-0.1256435 ],\n",
       "       [-0.11209828]], dtype=float32)"
      ]
     },
     "execution_count": 20,
     "metadata": {},
     "output_type": "execute_result"
    },
    {
     "name": "stdout",
     "output_type": "stream",
     "text": [
      "time: 11 ms\n"
     ]
    }
   ],
   "source": [
    "decoded_output[0]"
   ]
  },
  {
   "cell_type": "code",
   "execution_count": 28,
   "metadata": {
    "scrolled": true
   },
   "outputs": [
    {
     "data": {
      "text/plain": [
       "[<matplotlib.lines.Line2D at 0x1d8404e6668>]"
      ]
     },
     "execution_count": 28,
     "metadata": {},
     "output_type": "execute_result"
    },
    {
     "data": {
      "image/png": "[encoded data removed]",
      "text/plain": [
       "<Figure size 432x288 with 1 Axes>"
      ]
     },
     "metadata": {
      "needs_background": "light"
     },
     "output_type": "display_data"
    },
    {
     "name": "stdout",
     "output_type": "stream",
     "text": [
      "time: 134 ms\n"
     ]
    }
   ],
   "source": [
    "import matplotlib.pyplot as plt\n",
    "%matplotlib inline\n",
    "q=10\n",
    "plt.plot(range(250),x[q],label=1)\n",
    "plt.plot(range(250),decoded_output[q],label=2)"
   ]
  },
  {
   "cell_type": "code",
   "execution_count": 25,
   "metadata": {},
   "outputs": [
    {
     "name": "stdout",
     "output_type": "stream",
     "text": [
      "time: 998 µs\n"
     ]
    }
   ],
   "source": [
    "compressed=compressed.reshape(890,20)\n",
    "#np.savetxt('compressed_data1.csv',compressed,delimiter=',')"
   ]
  },
  {
   "cell_type": "code",
   "execution_count": 19,
   "metadata": {
    "scrolled": true
   },
   "outputs": [
    {
     "name": "stdout",
     "output_type": "stream",
     "text": [
      "[[[145.64311    89.69908  ]\n",
      "  [ 59.87969   -75.12716  ]\n",
      "  [-47.12908   -18.28421  ]\n",
      "  ...\n",
      "  [-16.267395  -19.610474 ]\n",
      "  [-73.05257   -16.538263 ]\n",
      "  [ -2.4309487 -51.38665  ]]\n",
      "\n",
      " [[-24.813282  -60.113045 ]\n",
      "  [-30.544958   30.06396  ]\n",
      "  [105.22003   -11.0095825]\n",
      "  ...\n",
      "  [-19.988525   89.35518  ]\n",
      "  [ -2.4909637 -41.62992  ]\n",
      "  [ -9.945433  -60.893238 ]]\n",
      "\n",
      " [[ 24.401154  -20.687405 ]\n",
      "  [-23.201563   12.746546 ]\n",
      "  [-73.02566   -24.93848  ]\n",
      "  ...\n",
      "  [ -9.8739195 -61.45342  ]\n",
      "  [-35.201363  -34.90452  ]\n",
      "  [ 11.596093   31.951382 ]]\n",
      "\n",
      " ...\n",
      "\n",
      " [[-23.3797    -51.320454 ]\n",
      "  [ 23.547718    5.016565 ]\n",
      "  [119.63274   -27.92373  ]\n",
      "  ...\n",
      "  [-61.158913  -39.94712  ]\n",
      "  [-41.478436   82.67122  ]\n",
      "  [ -1.2712152 -29.121058 ]]\n",
      "\n",
      " [[-19.346819   30.418798 ]\n",
      "  [-20.674006  -18.746948 ]\n",
      "  [107.348465   20.43299  ]\n",
      "  ...\n",
      "  [-35.73685    24.40514  ]\n",
      "  [ 32.35891    61.52555  ]\n",
      "  [-17.708881  -52.101227 ]]\n",
      "\n",
      " [[-11.90168    -2.028717 ]\n",
      "  [ 18.493996   55.24243  ]\n",
      "  [  7.5473967 -36.094616 ]\n",
      "  ...\n",
      "  [-63.115124    2.8387818]\n",
      "  [ 29.122644   33.094383 ]\n",
      "  [ 18.362934   31.003738 ]]]\n",
      "[[145.64311    89.69908    59.87969   ... -16.538263   -2.4309487\n",
      "  -51.38665  ]\n",
      " [-24.813282  -60.113045  -30.544958  ... -41.62992    -9.945433\n",
      "  -60.893238 ]\n",
      " [ 24.401154  -20.687405  -23.201563  ... -34.90452    11.596093\n",
      "   31.951382 ]\n",
      " ...\n",
      " [-23.3797    -51.320454   23.547718  ...  82.67122    -1.2712152\n",
      "  -29.121058 ]\n",
      " [-19.346819   30.418798  -20.674006  ...  61.52555   -17.708881\n",
      "  -52.101227 ]\n",
      " [-11.90168    -2.028717   18.493996  ...  33.094383   18.362934\n",
      "   31.003738 ]]\n",
      "time: 2.01 ms\n"
     ]
    }
   ],
   "source": [
    "print(compressed)\n",
    "print(compressed.reshape(890,20))"
   ]
  },
  {
   "cell_type": "code",
   "execution_count": null,
   "metadata": {},
   "outputs": [],
   "source": []
  },
  {
   "cell_type": "code",
   "execution_count": null,
   "metadata": {},
   "outputs": [],
   "source": []
  },
  {
   "cell_type": "code",
   "execution_count": null,
   "metadata": {},
   "outputs": [],
   "source": []
  }
 ],
 "metadata": {
  "kernelspec": {
   "display_name": "TensorFlow-GPU",
   "language": "python",
   "name": "tf-gpu"
  },
  "language_info": {
   "codemirror_mode": {
    "name": "ipython",
    "version": 3
   },
   "file_extension": ".py",
   "mimetype": "text/x-python",
   "name": "python",
   "nbconvert_exporter": "python",
   "pygments_lexer": "ipython3",
   "version": "3.6.8"
  }
 },
 "nbformat": 4,
 "nbformat_minor": 2
}
