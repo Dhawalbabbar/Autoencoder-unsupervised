{
 "cells": [
  {
   "cell_type": "code",
   "execution_count": 1,
   "metadata": {},
   "outputs": [],
   "source": [
    "import glob\n",
    "import numpy as np"
   ]
  },
  {
   "cell_type": "code",
   "execution_count": 5,
   "metadata": {},
   "outputs": [],
   "source": [
    "days=glob.glob('data/*')"
   ]
  },
  {
   "cell_type": "code",
   "execution_count": 11,
   "metadata": {},
   "outputs": [
    {
     "name": "stdout",
     "output_type": "stream",
     "text": [
      "[['data\\\\Day1\\\\Anand_5min', 'data\\\\Day1\\\\Leroy_10min', 'data\\\\Day1\\\\Srinath_10min', 'data\\\\Day1\\\\Turiya_Analysis_PhaseOne_IncreasingAlpha.m', 'data\\\\Day1\\\\Turiya_Analysis_PhaseOne_IncreasingAlpha.m~', 'data\\\\Day1\\\\Verena_10min', 'data\\\\Day1\\\\Zoe_10min'], ['data\\\\Day2\\\\Abby_10min', 'data\\\\Day2\\\\Anchal_10min', 'data\\\\Day2\\\\Jyoti_5min', 'data\\\\Day2\\\\Leroy_5min', 'data\\\\Day2\\\\Mann_10min', 'data\\\\Day2\\\\MV_10min', 'data\\\\Day2\\\\Srinath_15min', 'data\\\\Day2\\\\TM_10min', 'data\\\\Day2\\\\Verena_10min', 'data\\\\Day2\\\\Zoe_10min'], ['data\\\\Day3\\\\GSR_10min', 'data\\\\Day3\\\\Verena_15min_5min', 'data\\\\Day3\\\\Zoe_15min']]\n"
     ]
    }
   ],
   "source": [
    "d=[]\n",
    "for day in days:\n",
    "    x=glob.glob(day+'/*')\n",
    "    for people in x:\n",
    "        y=glob.glob\n",
    "    d.append(x)\n",
    "print(d)"
   ]
  },
  {
   "cell_type": "code",
   "execution_count": null,
   "metadata": {},
   "outputs": [],
   "source": []
  },
  {
   "cell_type": "code",
   "execution_count": null,
   "metadata": {},
   "outputs": [],
   "source": []
  }
 ],
 "metadata": {
  "kernelspec": {
   "display_name": "Python 3",
   "language": "python",
   "name": "python3"
  },
  "language_info": {
   "codemirror_mode": {
    "name": "ipython",
    "version": 3
   },
   "file_extension": ".py",
   "mimetype": "text/x-python",
   "name": "python",
   "nbconvert_exporter": "python",
   "pygments_lexer": "ipython3",
   "version": "3.6.8"
  }
 },
 "nbformat": 4,
 "nbformat_minor": 2
}
